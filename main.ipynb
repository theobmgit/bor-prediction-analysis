{
 "cells": [
  {
   "cell_type": "code",
   "execution_count": 1,
   "metadata": {
    "collapsed": true
   },
   "outputs": [],
   "source": [
    "import pandas as pd"
   ]
  },
  {
   "cell_type": "code",
   "execution_count": 5,
   "outputs": [],
   "source": [
    "data = pd.read_csv(\"imdbCrawler/2500data.csv\")"
   ],
   "metadata": {
    "collapsed": false,
    "pycharm": {
     "name": "#%%\n"
    }
   }
  },
  {
   "cell_type": "code",
   "execution_count": 6,
   "outputs": [
    {
     "name": "stdout",
     "output_type": "stream",
     "text": [
      "                                            Movie_Title        Budget  \\\n",
      "0                                            Deadpool 2  $110,000,000   \n",
      "1                                             Star Wars   $11,000,000   \n",
      "2            Star Wars: Episode VII - The Force Awakens  $245,000,000   \n",
      "3                                          Transformers  $150,000,000   \n",
      "4     Indiana Jones and the Kingdom of the Crystal S...  $185,000,000   \n",
      "...                                                 ...           ...   \n",
      "2466                                     Jurassic World  $150,000,000   \n",
      "2467                                      Black Panther  $200,000,000   \n",
      "2468                                  Avengers: Endgame  $356,000,000   \n",
      "2469                                             Avatar  $237,000,000   \n",
      "2470                             Avengers: Infinity War  $321,000,000   \n",
      "\n",
      "                                                   Cast  \\\n",
      "0             Josh Brolin,Ryan Reynolds,Morena Baccarin   \n",
      "1               Harrison Ford,Carrie Fisher,Mark Hamill   \n",
      "2                  Oscar Isaac,Daisy Ridley,John Boyega   \n",
      "3                   Shia LaBeouf,Megan Fox,Josh Duhamel   \n",
      "4             Harrison Ford,Shia LaBeouf,Cate Blanchett   \n",
      "...                                                 ...   \n",
      "2466        Ty Simpkins,Bryce Dallas Howard,Chris Pratt   \n",
      "2467  Michael B. Jordan,Chadwick Boseman,Lupita Nyong'o   \n",
      "2468         Mark Ruffalo,Robert Downey Jr.,Chris Evans   \n",
      "2469       Sigourney Weaver,Sam Worthington,Zoe Saldana   \n",
      "2470     Mark Ruffalo,Robert Downey Jr.,Chris Hemsworth   \n",
      "\n",
      "                                                   Crew  \\\n",
      "0     David Leitch,Ryan Reynolds,Paul Wernick,Rhett ...   \n",
      "1                                          George Lucas   \n",
      "2             Michael Arndt,J.J. Abrams,Lawrence Kasdan   \n",
      "3     Michael Bay,John Rogers,Alex Kurtzman,Roberto ...   \n",
      "4     George Lucas,Steven Spielberg,David Koepp,Jeff...   \n",
      "...                                                 ...   \n",
      "2466           Amanda Silver,Colin Trevorrow,Rick Jaffa   \n",
      "2467              Stan Lee,Joe Robert Cole,Ryan Coogler   \n",
      "2468  Anthony Russo,Stan Lee,Christopher Markus,Joe ...   \n",
      "2469                                      James Cameron   \n",
      "2470  Anthony Russo,Stan Lee,Christopher Markus,Joe ...   \n",
      "\n",
      "                                                Studios  \\\n",
      "0     Twentieth Century Fox,Marvel Entertainment,Kin...   \n",
      "1                       Lucasfilm,Twentieth Century Fox   \n",
      "2             Lucasfilm,Bad Robot,Truenorth Productions   \n",
      "3     Dreamworks Pictures,Tom DeSanto/Don Murphy Pro...   \n",
      "4     Paramount Pictures,Lucasfilm,The Kennedy/Marsh...   \n",
      "...                                                 ...   \n",
      "2466  Universal Pictures,Amblin Entertainment,Legend...   \n",
      "2467                Marvel Studios,Walt Disney Pictures   \n",
      "2468                Marvel Studios,Walt Disney Pictures   \n",
      "2469  Twentieth Century Fox,Dune Entertainment,Light...   \n",
      "2470  Marvel Studios,Jason Roberts Productions,South...   \n",
      "\n",
      "                                Genre  \\\n",
      "0      Action,Adventure,Comedy,Sci-Fi   \n",
      "1     Action,Adventure,Fantasy,Sci-Fi   \n",
      "2             Action,Adventure,Sci-Fi   \n",
      "3             Action,Adventure,Sci-Fi   \n",
      "4                    Action,Adventure   \n",
      "...                               ...   \n",
      "2466          Action,Adventure,Sci-Fi   \n",
      "2467          Action,Adventure,Sci-Fi   \n",
      "2468    Action,Adventure,Drama,Sci-Fi   \n",
      "2469  Action,Adventure,Fantasy,Sci-Fi   \n",
      "2470          Action,Adventure,Sci-Fi   \n",
      "\n",
      "                                               Keywords  \\\n",
      "0     anti hero,japanese girl,based on comic book,ma...   \n",
      "1     rebellion,galactic war,princess,lightsaber,spa...   \n",
      "2     reboot,sanitation employee,remake,crash landin...   \n",
      "3     belly button,supervillain,evil alien robot,uh ...   \n",
      "4            area 51,sequel,alien,amazon,colon in title   \n",
      "...                                                 ...   \n",
      "2466  dinosaur,disaster film,theme park,experiment g...   \n",
      "2467  marvel cinematic universe,marvel comics,based ...   \n",
      "2468  time travel,superhero,sequel,super villain,cosmic   \n",
      "2469  spiritualism,paraplegic,marine,future,forest p...   \n",
      "2470  death of recurring character,supervillain,supe...   \n",
      "\n",
      "                              Languages                     Countries  \\\n",
      "0     English,Cantonese,Spanish,Russian          Canada,United States   \n",
      "1                               English  United States,United Kingdom   \n",
      "2                               English                 United States   \n",
      "3                       English,Spanish                 United States   \n",
      "4                English,German,Russian                 United States   \n",
      "...                                 ...                           ...   \n",
      "2466                            English                 United States   \n",
      "2467  English,Swahili,Nama,Xhosa,Korean    United States,South Africa   \n",
      "2468      English,Japanese,Xhosa,German                 United States   \n",
      "2469                    English,Spanish                 United States   \n",
      "2470                            English                 United States   \n",
      "\n",
      "                                       Filming_Location Release_Data  \\\n",
      "0     Centre Lawn Building, Riverview Hospital, Coqu...   2018-05-18   \n",
      "1                        Tikal National Park, Guatemala   1977-05-25   \n",
      "2                Skellig Michael, County Kerry, Ireland   2015-12-18   \n",
      "3     Michigan Central Depot - W. Vernor and W. Mich...   2007-08-24   \n",
      "4                Iguazú Waterfalls, Misiones, Argentina   2008-06-13   \n",
      "...                                                 ...          ...   \n",
      "2466  Kualoa Ranch - 49560 Kamehameha Highway, Ka'a'...   2015-06-12   \n",
      "2467             Iguazú Waterfalls, Misiones, Argentina   2018-02-23   \n",
      "2468  Durham Cathedral, The College, Durham, County ...   2019-04-26   \n",
      "2469                         Hamakua Coast, Hawaii, USA   2009-12-18   \n",
      "2470  Durham Cathedral, The College, Durham, County ...   2018-04-25   \n",
      "\n",
      "                 Runtime Gross_worldwide  Rating Rating_Count  \n",
      "0      1 hour 59 minutes    $785,896,609     7.7         528K  \n",
      "1       2 hours 1 minute    $775,398,007     8.6         1.3M  \n",
      "2     2 hours 18 minutes  $2,069,521,700     7.8         891K  \n",
      "3     2 hours 24 minutes    $709,709,780     7.0         617K  \n",
      "4      2 hours 2 minutes    $790,653,942     6.1         441K  \n",
      "...                  ...             ...     ...          ...  \n",
      "2466   2 hours 4 minutes  $1,670,516,444     7.0         606K  \n",
      "2467  2 hours 14 minutes  $1,347,597,973     7.3         689K  \n",
      "2468    3 hours 1 minute  $2,797,501,328     8.4         967K  \n",
      "2469  2 hours 42 minutes  $2,847,246,203     7.8         1.2M  \n",
      "2470  2 hours 29 minutes  $2,048,359,754     8.4         946K  \n",
      "\n",
      "[2471 rows x 15 columns]\n"
     ]
    }
   ],
   "source": [
    "print(data)"
   ],
   "metadata": {
    "collapsed": false,
    "pycharm": {
     "name": "#%%\n"
    }
   }
  },
  {
   "cell_type": "code",
   "execution_count": null,
   "outputs": [],
   "source": [],
   "metadata": {
    "collapsed": false,
    "pycharm": {
     "name": "#%%\n"
    }
   }
  }
 ],
 "metadata": {
  "kernelspec": {
   "display_name": "Python 3",
   "language": "python",
   "name": "python3"
  },
  "language_info": {
   "codemirror_mode": {
    "name": "ipython",
    "version": 2
   },
   "file_extension": ".py",
   "mimetype": "text/x-python",
   "name": "python",
   "nbconvert_exporter": "python",
   "pygments_lexer": "ipython2",
   "version": "2.7.6"
  }
 },
 "nbformat": 4,
 "nbformat_minor": 0
}