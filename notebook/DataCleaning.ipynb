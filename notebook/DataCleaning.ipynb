{
 "cells": [
  {
   "cell_type": "markdown",
   "metadata": {
    "id": "b8sWwUpOjAnD"
   },
   "source": [
    "# Data Cleaning and Preprocessing"
   ]
  },
  {
   "cell_type": "code",
   "execution_count": 135,
   "metadata": {
    "id": "r_UOtvL-jAnF"
   },
   "outputs": [],
   "source": [
    "import pandas as pd\n",
    "import matplotlib.pyplot as plt\n",
    "import numpy as np\n",
    "pd.options.mode.chained_assignment = None"
   ]
  },
  {
   "cell_type": "markdown",
   "metadata": {
    "collapsed": false
   },
   "source": [
    "Load and drop unnecessary attribute, e.g., `Filming_Location`"
   ]
  },
  {
   "cell_type": "code",
   "execution_count": 136,
   "metadata": {
    "colab": {
     "base_uri": "https://localhost:8080/",
     "height": 214
    },
    "id": "viREz1IfjAnH",
    "outputId": "49989aad-68df-4fb6-be53-f49fcf091e39"
   },
   "outputs": [
    {
     "data": {
      "text/html": [
       "<div>\n",
       "<style scoped>\n",
       "    .dataframe tbody tr th:only-of-type {\n",
       "        vertical-align: middle;\n",
       "    }\n",
       "\n",
       "    .dataframe tbody tr th {\n",
       "        vertical-align: top;\n",
       "    }\n",
       "\n",
       "    .dataframe thead th {\n",
       "        text-align: right;\n",
       "    }\n",
       "</style>\n",
       "<table border=\"1\" class=\"dataframe\">\n",
       "  <thead>\n",
       "    <tr style=\"text-align: right;\">\n",
       "      <th></th>\n",
       "      <th>Movie_Title</th>\n",
       "      <th>Movie_ID</th>\n",
       "      <th>Budget</th>\n",
       "      <th>Cast</th>\n",
       "      <th>Crew</th>\n",
       "      <th>Studios</th>\n",
       "      <th>Genre</th>\n",
       "      <th>Keywords</th>\n",
       "      <th>Languages</th>\n",
       "      <th>Countries</th>\n",
       "      <th>Release_Data</th>\n",
       "      <th>Runtime</th>\n",
       "      <th>Gross_worldwide</th>\n",
       "      <th>Rating</th>\n",
       "      <th>Rating_Count</th>\n",
       "      <th>ListOfCertificate</th>\n",
       "    </tr>\n",
       "  </thead>\n",
       "  <tbody>\n",
       "    <tr>\n",
       "      <th>0</th>\n",
       "      <td>Star Wars: Episode VII - The Force Awakens</td>\n",
       "      <td>2488496</td>\n",
       "      <td>$245,000,000</td>\n",
       "      <td>Daisy Ridley,John Boyega,Oscar Isaac,Domhnall ...</td>\n",
       "      <td>Lawrence Kasdan,Michael Arndt,J.J. Abrams</td>\n",
       "      <td>Lucasfilm,Bad Robot,Truenorth Productions</td>\n",
       "      <td>Action,Adventure,Sci-Fi</td>\n",
       "      <td>reboot,sanitation employee,remake,crash landin...</td>\n",
       "      <td>English</td>\n",
       "      <td>United States</td>\n",
       "      <td>2015-12-18</td>\n",
       "      <td>2 hours 18 minutes</td>\n",
       "      <td>$2,069,521,700</td>\n",
       "      <td>7.8</td>\n",
       "      <td>893K</td>\n",
       "      <td>PG-13</td>\n",
       "    </tr>\n",
       "    <tr>\n",
       "      <th>1</th>\n",
       "      <td>Frozen II</td>\n",
       "      <td>4520988</td>\n",
       "      <td>$150,000,000</td>\n",
       "      <td>Kristen Bell,Idina Menzel,Josh Gad,Jonathan Gr...</td>\n",
       "      <td>Jennifer Lee,Hans Christian Andersen,Chris Buck</td>\n",
       "      <td>Walt Disney Animation Studios,Walt Disney Pict...</td>\n",
       "      <td>Animation,Adventure,Comedy,Family,Fantasy,Musical</td>\n",
       "      <td>autumn,anthropomorphic snowman,princess,disney...</td>\n",
       "      <td>English</td>\n",
       "      <td>United States</td>\n",
       "      <td>2019-11-22</td>\n",
       "      <td>1 hour 43 minutes</td>\n",
       "      <td>$1,450,026,933</td>\n",
       "      <td>6.8</td>\n",
       "      <td>156K</td>\n",
       "      <td>PG</td>\n",
       "    </tr>\n",
       "    <tr>\n",
       "      <th>2</th>\n",
       "      <td>The Dark Knight Rises</td>\n",
       "      <td>1345836</td>\n",
       "      <td>$250,000,000</td>\n",
       "      <td>Christian Bale,Tom Hardy,Anne Hathaway,Gary Ol...</td>\n",
       "      <td>Jonathan Nolan,Christopher Nolan,David S. Goyer</td>\n",
       "      <td>Warner Bros.,Legendary Entertainment,DC Entert...</td>\n",
       "      <td>Action,Crime,Drama</td>\n",
       "      <td>dc comics,batman character,bruce wayne charact...</td>\n",
       "      <td>English,Arabic</td>\n",
       "      <td>United Kingdom,United States</td>\n",
       "      <td>2012-07-27</td>\n",
       "      <td>2 hours 44 minutes</td>\n",
       "      <td>$1,081,142,612</td>\n",
       "      <td>8.4</td>\n",
       "      <td>1.6M</td>\n",
       "      <td>PG-13</td>\n",
       "    </tr>\n",
       "    <tr>\n",
       "      <th>3</th>\n",
       "      <td>Beauty and the Beast</td>\n",
       "      <td>2771200</td>\n",
       "      <td>$160,000,000</td>\n",
       "      <td>Emma Watson,Dan Stevens,Luke Evans,Josh Gad,Ke...</td>\n",
       "      <td>Evan Spiliotopoulos,Bill Condon,Stephen Chbosk...</td>\n",
       "      <td>Mandeville Films,Walt Disney Pictures</td>\n",
       "      <td>Adventure,Family,Fantasy,Musical,Romance</td>\n",
       "      <td>beast,fairy tale,heroine,beast's heart,remake ...</td>\n",
       "      <td>English</td>\n",
       "      <td>United States</td>\n",
       "      <td>2017-03-17</td>\n",
       "      <td>2 hours 9 minutes</td>\n",
       "      <td>$1,273,576,220</td>\n",
       "      <td>7.1</td>\n",
       "      <td>293K</td>\n",
       "      <td>PG</td>\n",
       "    </tr>\n",
       "    <tr>\n",
       "      <th>4</th>\n",
       "      <td>Finding Dory</td>\n",
       "      <td>2277860</td>\n",
       "      <td>$200,000,000</td>\n",
       "      <td>Ellen DeGeneres,Albert Brooks,Ed O'Neill,Kaitl...</td>\n",
       "      <td>Angus MacLane,Victoria Strouse,Andrew Stanton</td>\n",
       "      <td>Pixar Animation Studios,Walt Disney Pictures</td>\n",
       "      <td>Animation,Adventure,Comedy,Family</td>\n",
       "      <td>fish,ocean,whale,octopus driving a truck,talki...</td>\n",
       "      <td>English,Indonesian</td>\n",
       "      <td>United States</td>\n",
       "      <td>2016-06-17</td>\n",
       "      <td>1 hour 37 minutes</td>\n",
       "      <td>$1,028,570,942</td>\n",
       "      <td>7.3</td>\n",
       "      <td>259K</td>\n",
       "      <td>PG</td>\n",
       "    </tr>\n",
       "  </tbody>\n",
       "</table>\n",
       "</div>"
      ],
      "text/plain": [
       "                                  Movie_Title  Movie_ID        Budget  \\\n",
       "0  Star Wars: Episode VII - The Force Awakens   2488496  $245,000,000   \n",
       "1                                   Frozen II   4520988  $150,000,000   \n",
       "2                       The Dark Knight Rises   1345836  $250,000,000   \n",
       "3                        Beauty and the Beast   2771200  $160,000,000   \n",
       "4                                Finding Dory   2277860  $200,000,000   \n",
       "\n",
       "                                                Cast  \\\n",
       "0  Daisy Ridley,John Boyega,Oscar Isaac,Domhnall ...   \n",
       "1  Kristen Bell,Idina Menzel,Josh Gad,Jonathan Gr...   \n",
       "2  Christian Bale,Tom Hardy,Anne Hathaway,Gary Ol...   \n",
       "3  Emma Watson,Dan Stevens,Luke Evans,Josh Gad,Ke...   \n",
       "4  Ellen DeGeneres,Albert Brooks,Ed O'Neill,Kaitl...   \n",
       "\n",
       "                                                Crew  \\\n",
       "0          Lawrence Kasdan,Michael Arndt,J.J. Abrams   \n",
       "1    Jennifer Lee,Hans Christian Andersen,Chris Buck   \n",
       "2    Jonathan Nolan,Christopher Nolan,David S. Goyer   \n",
       "3  Evan Spiliotopoulos,Bill Condon,Stephen Chbosk...   \n",
       "4      Angus MacLane,Victoria Strouse,Andrew Stanton   \n",
       "\n",
       "                                             Studios  \\\n",
       "0          Lucasfilm,Bad Robot,Truenorth Productions   \n",
       "1  Walt Disney Animation Studios,Walt Disney Pict...   \n",
       "2  Warner Bros.,Legendary Entertainment,DC Entert...   \n",
       "3              Mandeville Films,Walt Disney Pictures   \n",
       "4       Pixar Animation Studios,Walt Disney Pictures   \n",
       "\n",
       "                                               Genre  \\\n",
       "0                            Action,Adventure,Sci-Fi   \n",
       "1  Animation,Adventure,Comedy,Family,Fantasy,Musical   \n",
       "2                                 Action,Crime,Drama   \n",
       "3           Adventure,Family,Fantasy,Musical,Romance   \n",
       "4                  Animation,Adventure,Comedy,Family   \n",
       "\n",
       "                                            Keywords           Languages  \\\n",
       "0  reboot,sanitation employee,remake,crash landin...             English   \n",
       "1  autumn,anthropomorphic snowman,princess,disney...             English   \n",
       "2  dc comics,batman character,bruce wayne charact...      English,Arabic   \n",
       "3  beast,fairy tale,heroine,beast's heart,remake ...             English   \n",
       "4  fish,ocean,whale,octopus driving a truck,talki...  English,Indonesian   \n",
       "\n",
       "                      Countries Release_Data             Runtime  \\\n",
       "0                 United States   2015-12-18  2 hours 18 minutes   \n",
       "1                 United States   2019-11-22   1 hour 43 minutes   \n",
       "2  United Kingdom,United States   2012-07-27  2 hours 44 minutes   \n",
       "3                 United States   2017-03-17   2 hours 9 minutes   \n",
       "4                 United States   2016-06-17   1 hour 37 minutes   \n",
       "\n",
       "  Gross_worldwide  Rating Rating_Count ListOfCertificate  \n",
       "0  $2,069,521,700     7.8         893K             PG-13  \n",
       "1  $1,450,026,933     6.8         156K                PG  \n",
       "2  $1,081,142,612     8.4         1.6M             PG-13  \n",
       "3  $1,273,576,220     7.1         293K                PG  \n",
       "4  $1,028,570,942     7.3         259K                PG  "
      ]
     },
     "execution_count": 136,
     "metadata": {},
     "output_type": "execute_result"
    }
   ],
   "source": [
    "dataset_path = \"../dataset/\"\n",
    "data = pd.read_csv(dataset_path + \"data_joined.csv\")\n",
    "data = data.drop('Filming_Location', axis=1)\n",
    "a = data\n",
    "a.reset_index(drop=True, inplace=True)\n",
    "a.head()"
   ]
  },
  {
   "cell_type": "markdown",
   "metadata": {
    "collapsed": false
   },
   "source": [
    "## Missing Values\n",
    "\n",
    "Check for missing values"
   ]
  },
  {
   "cell_type": "code",
   "execution_count": 137,
   "metadata": {
    "collapsed": false,
    "pycharm": {
     "name": "#%%\n"
    }
   },
   "outputs": [
    {
     "data": {
      "text/plain": [
       "Movie_Title             0\n",
       "Movie_ID                0\n",
       "Budget               2930\n",
       "Cast                    9\n",
       "Crew                    4\n",
       "Studios                49\n",
       "Genre                1178\n",
       "Keywords               27\n",
       "Languages              11\n",
       "Countries               6\n",
       "Release_Data            0\n",
       "Runtime                 7\n",
       "Gross_worldwide      1035\n",
       "Rating                  7\n",
       "Rating_Count            7\n",
       "ListOfCertificate    1199\n",
       "dtype: int64"
      ]
     },
     "execution_count": 137,
     "metadata": {},
     "output_type": "execute_result"
    }
   ],
   "source": [
    "a.isnull().sum()"
   ]
  },
  {
   "cell_type": "markdown",
   "metadata": {
    "collapsed": false
   },
   "source": [
    "Drop all records missing `Gross_worldwide`"
   ]
  },
  {
   "cell_type": "code",
   "execution_count": 138,
   "metadata": {},
   "outputs": [],
   "source": [
    "listToDrop = list(a[a['Gross_worldwide'].isna()].index)\n",
    "a = a.drop(listToDrop)"
   ]
  },
  {
   "cell_type": "markdown",
   "metadata": {
    "collapsed": false
   },
   "source": [
    "Fill missing values:\n",
    "\n",
    "| Attribute           | Fill with |\n",
    "|---------------------|-----------|\n",
    "| `Budget`            | $0        |\n",
    "| `Runtime`           | 0         |\n",
    "| `Rating`            | 5.0       |\n",
    "| `Rating_Count`      | 0K        |\n",
    "| `ListOfCertificate` | G         |\n",
    "\n",
    "Other null attributes are filled with empty string."
   ]
  },
  {
   "cell_type": "code",
   "execution_count": 139,
   "metadata": {},
   "outputs": [],
   "source": [
    "a['Budget'] = a['Budget'].fillna(\"$0\")\n",
    "a['Runtime'] = a['Runtime'].fillna(\"0\")\n",
    "a['Rating'] = a['Rating'].fillna(5.0)\n",
    "a['Rating_Count'] = a['Rating_Count'].fillna(\"0K\")\n",
    "a['ListOfCertificate'] = a['ListOfCertificate'].fillna(\"G\")\n",
    "a = a.fillna(\"\")"
   ]
  },
  {
   "cell_type": "markdown",
   "metadata": {
    "collapsed": false
   },
   "source": [
    "Drop all records with empty attributes"
   ]
  },
  {
   "cell_type": "code",
   "execution_count": 140,
   "metadata": {},
   "outputs": [],
   "source": [
    "a = a.reset_index(drop=True)"
   ]
  },
  {
   "cell_type": "markdown",
   "metadata": {
    "id": "1MNNWNyRjAnH",
    "pycharm": {
     "name": "#%% md\n"
    }
   },
   "source": [
    "## Currency Attributes\n",
    "\n",
    "**Input**: Input dataframe with unprocessed currency\n",
    "\n",
    "**Output**: Processed one"
   ]
  },
  {
   "cell_type": "markdown",
   "metadata": {
    "id": "7Evir8lZkOYZ"
   },
   "source": [
    "Currency symbols in `Budget` and `Gross_worldwide`"
   ]
  },
  {
   "cell_type": "code",
   "execution_count": 141,
   "metadata": {
    "colab": {
     "base_uri": "https://localhost:8080/"
    },
    "id": "iv85JzoJkOGo",
    "outputId": "e085759f-1c08-483d-e8e7-32d021456b8d"
   },
   "outputs": [
    {
     "name": "stdout",
     "output_type": "stream",
     "text": [
      "{'€', '$'}\n",
      "{'$'}\n"
     ]
    }
   ],
   "source": [
    "currency = [str(s)[0] for s in a['Budget'].unique()]\n",
    "print(set(currency))\n",
    "currency = [str(s)[0] for s in a['Gross_worldwide'].unique()]\n",
    "print(set(currency))"
   ]
  },
  {
   "cell_type": "markdown",
   "metadata": {
    "id": "Ss0l11zRkXVR"
   },
   "source": [
    "Eliminate `$`,`€` and `,` in money string and convert the string to integer"
   ]
  },
  {
   "cell_type": "code",
   "execution_count": 142,
   "metadata": {
    "id": "tM7xMOrNjAnI",
    "pycharm": {
     "name": "#%%\n"
    }
   },
   "outputs": [],
   "source": [
    "def parse_currency(before_parsed):\n",
    "    if '$' in before_parsed:\n",
    "        after_parsed = int(before_parsed.strip('$').replace(',', \"\"))\n",
    "    else:\n",
    "        after_parsed = int(int(before_parsed.strip('€').replace(',', \"\")) * 1.14)\n",
    "    return after_parsed"
   ]
  },
  {
   "cell_type": "code",
   "execution_count": 143,
   "metadata": {
    "id": "2Vd4NFiQkou2"
   },
   "outputs": [
    {
     "data": {
      "text/html": [
       "<div>\n",
       "<style scoped>\n",
       "    .dataframe tbody tr th:only-of-type {\n",
       "        vertical-align: middle;\n",
       "    }\n",
       "\n",
       "    .dataframe tbody tr th {\n",
       "        vertical-align: top;\n",
       "    }\n",
       "\n",
       "    .dataframe thead th {\n",
       "        text-align: right;\n",
       "    }\n",
       "</style>\n",
       "<table border=\"1\" class=\"dataframe\">\n",
       "  <thead>\n",
       "    <tr style=\"text-align: right;\">\n",
       "      <th></th>\n",
       "      <th>Movie_Title</th>\n",
       "      <th>Movie_ID</th>\n",
       "      <th>Budget</th>\n",
       "      <th>Cast</th>\n",
       "      <th>Crew</th>\n",
       "      <th>Studios</th>\n",
       "      <th>Genre</th>\n",
       "      <th>Keywords</th>\n",
       "      <th>Languages</th>\n",
       "      <th>Countries</th>\n",
       "      <th>Release_Data</th>\n",
       "      <th>Runtime</th>\n",
       "      <th>Gross_worldwide</th>\n",
       "      <th>Rating</th>\n",
       "      <th>Rating_Count</th>\n",
       "      <th>ListOfCertificate</th>\n",
       "    </tr>\n",
       "  </thead>\n",
       "  <tbody>\n",
       "    <tr>\n",
       "      <th>0</th>\n",
       "      <td>Star Wars: Episode VII - The Force Awakens</td>\n",
       "      <td>2488496</td>\n",
       "      <td>245000000</td>\n",
       "      <td>Daisy Ridley,John Boyega,Oscar Isaac,Domhnall ...</td>\n",
       "      <td>Lawrence Kasdan,Michael Arndt,J.J. Abrams</td>\n",
       "      <td>Lucasfilm,Bad Robot,Truenorth Productions</td>\n",
       "      <td>Action,Adventure,Sci-Fi</td>\n",
       "      <td>reboot,sanitation employee,remake,crash landin...</td>\n",
       "      <td>English</td>\n",
       "      <td>United States</td>\n",
       "      <td>2015-12-18</td>\n",
       "      <td>2 hours 18 minutes</td>\n",
       "      <td>2069521700</td>\n",
       "      <td>7.8</td>\n",
       "      <td>893K</td>\n",
       "      <td>PG-13</td>\n",
       "    </tr>\n",
       "    <tr>\n",
       "      <th>1</th>\n",
       "      <td>Frozen II</td>\n",
       "      <td>4520988</td>\n",
       "      <td>150000000</td>\n",
       "      <td>Kristen Bell,Idina Menzel,Josh Gad,Jonathan Gr...</td>\n",
       "      <td>Jennifer Lee,Hans Christian Andersen,Chris Buck</td>\n",
       "      <td>Walt Disney Animation Studios,Walt Disney Pict...</td>\n",
       "      <td>Animation,Adventure,Comedy,Family,Fantasy,Musical</td>\n",
       "      <td>autumn,anthropomorphic snowman,princess,disney...</td>\n",
       "      <td>English</td>\n",
       "      <td>United States</td>\n",
       "      <td>2019-11-22</td>\n",
       "      <td>1 hour 43 minutes</td>\n",
       "      <td>1450026933</td>\n",
       "      <td>6.8</td>\n",
       "      <td>156K</td>\n",
       "      <td>PG</td>\n",
       "    </tr>\n",
       "    <tr>\n",
       "      <th>2</th>\n",
       "      <td>The Dark Knight Rises</td>\n",
       "      <td>1345836</td>\n",
       "      <td>250000000</td>\n",
       "      <td>Christian Bale,Tom Hardy,Anne Hathaway,Gary Ol...</td>\n",
       "      <td>Jonathan Nolan,Christopher Nolan,David S. Goyer</td>\n",
       "      <td>Warner Bros.,Legendary Entertainment,DC Entert...</td>\n",
       "      <td>Action,Crime,Drama</td>\n",
       "      <td>dc comics,batman character,bruce wayne charact...</td>\n",
       "      <td>English,Arabic</td>\n",
       "      <td>United Kingdom,United States</td>\n",
       "      <td>2012-07-27</td>\n",
       "      <td>2 hours 44 minutes</td>\n",
       "      <td>1081142612</td>\n",
       "      <td>8.4</td>\n",
       "      <td>1.6M</td>\n",
       "      <td>PG-13</td>\n",
       "    </tr>\n",
       "    <tr>\n",
       "      <th>3</th>\n",
       "      <td>Beauty and the Beast</td>\n",
       "      <td>2771200</td>\n",
       "      <td>160000000</td>\n",
       "      <td>Emma Watson,Dan Stevens,Luke Evans,Josh Gad,Ke...</td>\n",
       "      <td>Evan Spiliotopoulos,Bill Condon,Stephen Chbosk...</td>\n",
       "      <td>Mandeville Films,Walt Disney Pictures</td>\n",
       "      <td>Adventure,Family,Fantasy,Musical,Romance</td>\n",
       "      <td>beast,fairy tale,heroine,beast's heart,remake ...</td>\n",
       "      <td>English</td>\n",
       "      <td>United States</td>\n",
       "      <td>2017-03-17</td>\n",
       "      <td>2 hours 9 minutes</td>\n",
       "      <td>1273576220</td>\n",
       "      <td>7.1</td>\n",
       "      <td>293K</td>\n",
       "      <td>PG</td>\n",
       "    </tr>\n",
       "    <tr>\n",
       "      <th>4</th>\n",
       "      <td>Finding Dory</td>\n",
       "      <td>2277860</td>\n",
       "      <td>200000000</td>\n",
       "      <td>Ellen DeGeneres,Albert Brooks,Ed O'Neill,Kaitl...</td>\n",
       "      <td>Angus MacLane,Victoria Strouse,Andrew Stanton</td>\n",
       "      <td>Pixar Animation Studios,Walt Disney Pictures</td>\n",
       "      <td>Animation,Adventure,Comedy,Family</td>\n",
       "      <td>fish,ocean,whale,octopus driving a truck,talki...</td>\n",
       "      <td>English,Indonesian</td>\n",
       "      <td>United States</td>\n",
       "      <td>2016-06-17</td>\n",
       "      <td>1 hour 37 minutes</td>\n",
       "      <td>1028570942</td>\n",
       "      <td>7.3</td>\n",
       "      <td>259K</td>\n",
       "      <td>PG</td>\n",
       "    </tr>\n",
       "  </tbody>\n",
       "</table>\n",
       "</div>"
      ],
      "text/plain": [
       "                                  Movie_Title  Movie_ID     Budget  \\\n",
       "0  Star Wars: Episode VII - The Force Awakens   2488496  245000000   \n",
       "1                                   Frozen II   4520988  150000000   \n",
       "2                       The Dark Knight Rises   1345836  250000000   \n",
       "3                        Beauty and the Beast   2771200  160000000   \n",
       "4                                Finding Dory   2277860  200000000   \n",
       "\n",
       "                                                Cast  \\\n",
       "0  Daisy Ridley,John Boyega,Oscar Isaac,Domhnall ...   \n",
       "1  Kristen Bell,Idina Menzel,Josh Gad,Jonathan Gr...   \n",
       "2  Christian Bale,Tom Hardy,Anne Hathaway,Gary Ol...   \n",
       "3  Emma Watson,Dan Stevens,Luke Evans,Josh Gad,Ke...   \n",
       "4  Ellen DeGeneres,Albert Brooks,Ed O'Neill,Kaitl...   \n",
       "\n",
       "                                                Crew  \\\n",
       "0          Lawrence Kasdan,Michael Arndt,J.J. Abrams   \n",
       "1    Jennifer Lee,Hans Christian Andersen,Chris Buck   \n",
       "2    Jonathan Nolan,Christopher Nolan,David S. Goyer   \n",
       "3  Evan Spiliotopoulos,Bill Condon,Stephen Chbosk...   \n",
       "4      Angus MacLane,Victoria Strouse,Andrew Stanton   \n",
       "\n",
       "                                             Studios  \\\n",
       "0          Lucasfilm,Bad Robot,Truenorth Productions   \n",
       "1  Walt Disney Animation Studios,Walt Disney Pict...   \n",
       "2  Warner Bros.,Legendary Entertainment,DC Entert...   \n",
       "3              Mandeville Films,Walt Disney Pictures   \n",
       "4       Pixar Animation Studios,Walt Disney Pictures   \n",
       "\n",
       "                                               Genre  \\\n",
       "0                            Action,Adventure,Sci-Fi   \n",
       "1  Animation,Adventure,Comedy,Family,Fantasy,Musical   \n",
       "2                                 Action,Crime,Drama   \n",
       "3           Adventure,Family,Fantasy,Musical,Romance   \n",
       "4                  Animation,Adventure,Comedy,Family   \n",
       "\n",
       "                                            Keywords           Languages  \\\n",
       "0  reboot,sanitation employee,remake,crash landin...             English   \n",
       "1  autumn,anthropomorphic snowman,princess,disney...             English   \n",
       "2  dc comics,batman character,bruce wayne charact...      English,Arabic   \n",
       "3  beast,fairy tale,heroine,beast's heart,remake ...             English   \n",
       "4  fish,ocean,whale,octopus driving a truck,talki...  English,Indonesian   \n",
       "\n",
       "                      Countries Release_Data             Runtime  \\\n",
       "0                 United States   2015-12-18  2 hours 18 minutes   \n",
       "1                 United States   2019-11-22   1 hour 43 minutes   \n",
       "2  United Kingdom,United States   2012-07-27  2 hours 44 minutes   \n",
       "3                 United States   2017-03-17   2 hours 9 minutes   \n",
       "4                 United States   2016-06-17   1 hour 37 minutes   \n",
       "\n",
       "   Gross_worldwide  Rating Rating_Count ListOfCertificate  \n",
       "0       2069521700     7.8         893K             PG-13  \n",
       "1       1450026933     6.8         156K                PG  \n",
       "2       1081142612     8.4         1.6M             PG-13  \n",
       "3       1273576220     7.1         293K                PG  \n",
       "4       1028570942     7.3         259K                PG  "
      ]
     },
     "execution_count": 143,
     "metadata": {},
     "output_type": "execute_result"
    }
   ],
   "source": [
    "a['Budget'] = a['Budget'].apply(parse_currency)\n",
    "a['Gross_worldwide'] = a['Gross_worldwide'].apply(parse_currency)\n",
    "a.head()"
   ]
  },
  {
   "cell_type": "markdown",
   "metadata": {
    "id": "exTJnmaDjAnJ"
   },
   "source": [
    "## Multivalued Attributes\n",
    "\n",
    "Multivalued data is seperated by comma `,`\n",
    "\n",
    "`Cast`, `Genre`, `Studios`, `ListOfCertificate`, `Keywords`, `Languages`, `Countries` are multivalued so we convert them to `List` data structure"
   ]
  },
  {
   "cell_type": "code",
   "execution_count": 144,
   "metadata": {
    "id": "196tbNwKlTzf"
   },
   "outputs": [],
   "source": [
    "def parse_multi_value(field_value):\n",
    "    array_value = field_value.split(',')\n",
    "    if '' in array_value:\n",
    "        return []\n",
    "    return array_value"
   ]
  },
  {
   "cell_type": "code",
   "execution_count": 145,
   "metadata": {
    "id": "q_df6aHWlXNT"
   },
   "outputs": [],
   "source": [
    "cols = ['Cast', 'Genre', 'Studios', 'ListOfCertificate', 'Keywords', 'Languages', 'Countries', 'Crew']\n",
    "for col in cols:\n",
    "    a[col] = a[col].apply(parse_multi_value)"
   ]
  },
  {
   "cell_type": "markdown",
   "metadata": {},
   "source": [
    "Note!\n",
    "After change to list we will need this function this to load again in another part"
   ]
  },
  {
   "cell_type": "code",
   "execution_count": 146,
   "metadata": {},
   "outputs": [
    {
     "data": {
      "text/plain": [
       "\"\\n\\nimport ast\\ncols =['Cast', 'Genre', 'Studios', 'ListOfCertificate','Keywords', 'Languages', 'Countries']\\nfor col in cols:\\n    a[col]=a[col].apply(ast.literal_eval)\\n    \\n\""
      ]
     },
     "execution_count": 146,
     "metadata": {},
     "output_type": "execute_result"
    }
   ],
   "source": [
    "\"\"\"\n",
    "\n",
    "import ast\n",
    "cols =['Cast', 'Genre', 'Studios', 'ListOfCertificate','Keywords', 'Languages', 'Countries']\n",
    "for col in cols:\n",
    "    a[col]=a[col].apply(ast.literal_eval)\n",
    "    \n",
    "\"\"\""
   ]
  },
  {
   "cell_type": "markdown",
   "metadata": {},
   "source": [
    "Process wrong values in `ListOfCertificate`"
   ]
  },
  {
   "cell_type": "code",
   "execution_count": 147,
   "metadata": {},
   "outputs": [],
   "source": [
    "def get_unique_certificates(dataframe):\n",
    "    certificates = set()\n",
    "    for i in dataframe['ListOfCertificate']:\n",
    "        for y in i:\n",
    "            certificates.add(y)\n",
    "    return certificates"
   ]
  },
  {
   "cell_type": "code",
   "execution_count": 148,
   "metadata": {},
   "outputs": [
    {
     "data": {
      "text/plain": [
       "{'G', 'GP', 'M', 'M/PG', 'NC-17', 'PG', 'PG-13', 'R', 'X'}"
      ]
     },
     "execution_count": 148,
     "metadata": {},
     "output_type": "execute_result"
    }
   ],
   "source": [
    "get_unique_certificates(a)"
   ]
  },
  {
   "cell_type": "markdown",
   "metadata": {},
   "source": [
    "Some of those certificates are out of date and does not follow MPAA's newest policy. They should be replaced:\n",
    "\n",
    "- M, GP and M/PG replaced by PG\n",
    "\n",
    "- X replaced by NC-17"
   ]
  },
  {
   "cell_type": "code",
   "execution_count": 149,
   "metadata": {},
   "outputs": [],
   "source": [
    "def update_certificates(certificates):\n",
    "    new_certificates = set()\n",
    "    type1 = ['M', 'GP', 'M/PG']\n",
    "    type2 = ['X']\n",
    "    for i in certificates:\n",
    "        if i in type1:\n",
    "            new_certificates.add('PG')\n",
    "        elif i in type2:\n",
    "            new_certificates.add('NC-17')\n",
    "        else:\n",
    "            new_certificates.add(i)\n",
    "    return list(new_certificates)"
   ]
  },
  {
   "cell_type": "code",
   "execution_count": 150,
   "metadata": {},
   "outputs": [
    {
     "data": {
      "text/plain": [
       "{'G', 'NC-17', 'PG', 'PG-13', 'R'}"
      ]
     },
     "execution_count": 150,
     "metadata": {},
     "output_type": "execute_result"
    }
   ],
   "source": [
    "a['ListOfCertificate'] = a['ListOfCertificate'].apply(update_certificates)\n",
    "get_unique_certificates(a)"
   ]
  },
  {
   "cell_type": "markdown",
   "metadata": {
    "id": "N4TygV3wl6PC"
   },
   "source": [
    "## Multivalued attributes with gross and count\n",
    "\n",
    "1. Input\n",
    "- `dataframe`: Dataframe need to be process\n",
    "- `col_name`: Name of the column to process, `Cast`, `Genre` and `Studios` for example\n",
    "\n",
    "2. Output\n",
    "- Output: Dataframe contains information related to the columns combined with Money and Count"
   ]
  },
  {
   "cell_type": "code",
   "execution_count": 151,
   "metadata": {
    "id": "cpp79IVTjAnK",
    "pycharm": {
     "name": "#%%\n"
    }
   },
   "outputs": [],
   "source": [
    "def parseWithMoneyAndCount(dataframe, col_name):\n",
    "    result = []\n",
    "    count = []\n",
    "    gross = []\n",
    "    for i, record in enumerate(dataframe[col_name]):\n",
    "        for x in record:\n",
    "            # Save results to corresponding array\n",
    "            result.append(x)\n",
    "            gross.append(dataframe['Gross_worldwide'][i])\n",
    "            count.append(1)\n",
    "    # Make dataframe\n",
    "    t = pd.DataFrame({col_name: result, 'Money': gross, 'Count': count})\n",
    "    # Remove duplicates and sum corresponding columns\n",
    "    result = t.groupby(col_name).sum()\n",
    "    # Rearrange dataframe\n",
    "    sort_by_money = result.sort_values('Money', ascending=False)\n",
    "    return sort_by_money"
   ]
  },
  {
   "cell_type": "markdown",
   "metadata": {
    "id": "UMjMWeeFjAnK",
    "pycharm": {
     "name": "#%% md\n"
    }
   },
   "source": [
    "## Preprocess `Cast`, `Genre`, `Studios`, `ListOfCertificate`\n",
    "\n",
    "- Get necessary data\n",
    "\n",
    "- Calculate total gross of every movie each actor/actress in `Cast` has participated in"
   ]
  },
  {
   "cell_type": "code",
   "execution_count": 152,
   "metadata": {
    "colab": {
     "base_uri": "https://localhost:8080/",
     "height": 455
    },
    "id": "J92UBxwYjAnL",
    "outputId": "2a80d9ef-05fb-4c86-eb4b-a42d85b69d58",
    "scrolled": true
   },
   "outputs": [
    {
     "data": {
      "text/html": [
       "<div>\n",
       "<style scoped>\n",
       "    .dataframe tbody tr th:only-of-type {\n",
       "        vertical-align: middle;\n",
       "    }\n",
       "\n",
       "    .dataframe tbody tr th {\n",
       "        vertical-align: top;\n",
       "    }\n",
       "\n",
       "    .dataframe thead th {\n",
       "        text-align: right;\n",
       "    }\n",
       "</style>\n",
       "<table border=\"1\" class=\"dataframe\">\n",
       "  <thead>\n",
       "    <tr style=\"text-align: right;\">\n",
       "      <th></th>\n",
       "      <th>Money</th>\n",
       "      <th>Count</th>\n",
       "    </tr>\n",
       "    <tr>\n",
       "      <th>Cast</th>\n",
       "      <th></th>\n",
       "      <th></th>\n",
       "    </tr>\n",
       "  </thead>\n",
       "  <tbody>\n",
       "    <tr>\n",
       "      <th>Samuel L. Jackson</th>\n",
       "      <td>18580682439</td>\n",
       "      <td>83</td>\n",
       "    </tr>\n",
       "    <tr>\n",
       "      <th>Robert Downey Jr.</th>\n",
       "      <td>15200028143</td>\n",
       "      <td>54</td>\n",
       "    </tr>\n",
       "    <tr>\n",
       "      <th>Scarlett Johansson</th>\n",
       "      <td>14407657895</td>\n",
       "      <td>44</td>\n",
       "    </tr>\n",
       "    <tr>\n",
       "      <th>Zoe Saldana</th>\n",
       "      <td>12294639242</td>\n",
       "      <td>29</td>\n",
       "    </tr>\n",
       "    <tr>\n",
       "      <th>Dwayne Johnson</th>\n",
       "      <td>11942043248</td>\n",
       "      <td>33</td>\n",
       "    </tr>\n",
       "    <tr>\n",
       "      <th>...</th>\n",
       "      <td>...</td>\n",
       "      <td>...</td>\n",
       "    </tr>\n",
       "    <tr>\n",
       "      <th>Jeff Prewett</th>\n",
       "      <td>95</td>\n",
       "      <td>1</td>\n",
       "    </tr>\n",
       "    <tr>\n",
       "      <th>Matthew R. Anderson</th>\n",
       "      <td>95</td>\n",
       "      <td>1</td>\n",
       "    </tr>\n",
       "    <tr>\n",
       "      <th>Kenny Taylor</th>\n",
       "      <td>95</td>\n",
       "      <td>1</td>\n",
       "    </tr>\n",
       "    <tr>\n",
       "      <th>Qzaibar Allal</th>\n",
       "      <td>95</td>\n",
       "      <td>1</td>\n",
       "    </tr>\n",
       "    <tr>\n",
       "      <th>Chems-Eddine Zinoune</th>\n",
       "      <td>95</td>\n",
       "      <td>1</td>\n",
       "    </tr>\n",
       "  </tbody>\n",
       "</table>\n",
       "<p>73026 rows × 2 columns</p>\n",
       "</div>"
      ],
      "text/plain": [
       "                            Money  Count\n",
       "Cast                                    \n",
       "Samuel L. Jackson     18580682439     83\n",
       "Robert Downey Jr.     15200028143     54\n",
       "Scarlett Johansson    14407657895     44\n",
       "Zoe Saldana           12294639242     29\n",
       "Dwayne Johnson        11942043248     33\n",
       "...                           ...    ...\n",
       "Jeff Prewett                   95      1\n",
       "Matthew R. Anderson            95      1\n",
       "Kenny Taylor                   95      1\n",
       "Qzaibar Allal                  95      1\n",
       "Chems-Eddine Zinoune           95      1\n",
       "\n",
       "[73026 rows x 2 columns]"
      ]
     },
     "execution_count": 152,
     "metadata": {},
     "output_type": "execute_result"
    }
   ],
   "source": [
    "cast = parseWithMoneyAndCount(a, 'Cast')\n",
    "cast"
   ]
  },
  {
   "cell_type": "markdown",
   "metadata": {
    "id": "QVvRJwoxjAnM"
   },
   "source": [
    "Tương tự với cột Genre, Studios và ListOfCertificate"
   ]
  },
  {
   "cell_type": "code",
   "execution_count": 153,
   "metadata": {
    "colab": {
     "base_uri": "https://localhost:8080/",
     "height": 771
    },
    "id": "24HnuOqdjAnM",
    "outputId": "bccf7991-4b1d-42be-9272-4fbff96263b9"
   },
   "outputs": [
    {
     "data": {
      "text/html": [
       "<div>\n",
       "<style scoped>\n",
       "    .dataframe tbody tr th:only-of-type {\n",
       "        vertical-align: middle;\n",
       "    }\n",
       "\n",
       "    .dataframe tbody tr th {\n",
       "        vertical-align: top;\n",
       "    }\n",
       "\n",
       "    .dataframe thead th {\n",
       "        text-align: right;\n",
       "    }\n",
       "</style>\n",
       "<table border=\"1\" class=\"dataframe\">\n",
       "  <thead>\n",
       "    <tr style=\"text-align: right;\">\n",
       "      <th></th>\n",
       "      <th>Money</th>\n",
       "      <th>Count</th>\n",
       "    </tr>\n",
       "    <tr>\n",
       "      <th>Genre</th>\n",
       "      <th></th>\n",
       "      <th></th>\n",
       "    </tr>\n",
       "  </thead>\n",
       "  <tbody>\n",
       "    <tr>\n",
       "      <th>Adventure</th>\n",
       "      <td>298281440727</td>\n",
       "      <td>1515</td>\n",
       "    </tr>\n",
       "    <tr>\n",
       "      <th>Action</th>\n",
       "      <td>270712872044</td>\n",
       "      <td>1892</td>\n",
       "    </tr>\n",
       "    <tr>\n",
       "      <th>Drama</th>\n",
       "      <td>224422468047</td>\n",
       "      <td>4454</td>\n",
       "    </tr>\n",
       "    <tr>\n",
       "      <th>Comedy</th>\n",
       "      <td>222959609180</td>\n",
       "      <td>3232</td>\n",
       "    </tr>\n",
       "    <tr>\n",
       "      <th>Thriller</th>\n",
       "      <td>169670494650</td>\n",
       "      <td>2224</td>\n",
       "    </tr>\n",
       "    <tr>\n",
       "      <th>Fantasy</th>\n",
       "      <td>153116140508</td>\n",
       "      <td>981</td>\n",
       "    </tr>\n",
       "    <tr>\n",
       "      <th>Sci-Fi</th>\n",
       "      <td>152723454914</td>\n",
       "      <td>866</td>\n",
       "    </tr>\n",
       "    <tr>\n",
       "      <th>Family</th>\n",
       "      <td>137386773092</td>\n",
       "      <td>936</td>\n",
       "    </tr>\n",
       "    <tr>\n",
       "      <th>Romance</th>\n",
       "      <td>109277844855</td>\n",
       "      <td>2201</td>\n",
       "    </tr>\n",
       "    <tr>\n",
       "      <th>Crime</th>\n",
       "      <td>87149222552</td>\n",
       "      <td>1589</td>\n",
       "    </tr>\n",
       "    <tr>\n",
       "      <th>Animation</th>\n",
       "      <td>84311140430</td>\n",
       "      <td>400</td>\n",
       "    </tr>\n",
       "    <tr>\n",
       "      <th>Mystery</th>\n",
       "      <td>62314981386</td>\n",
       "      <td>880</td>\n",
       "    </tr>\n",
       "    <tr>\n",
       "      <th>Horror</th>\n",
       "      <td>39714174296</td>\n",
       "      <td>707</td>\n",
       "    </tr>\n",
       "    <tr>\n",
       "      <th>Musical</th>\n",
       "      <td>30446413474</td>\n",
       "      <td>279</td>\n",
       "    </tr>\n",
       "    <tr>\n",
       "      <th>Biography</th>\n",
       "      <td>26964736252</td>\n",
       "      <td>663</td>\n",
       "    </tr>\n",
       "    <tr>\n",
       "      <th>War</th>\n",
       "      <td>20548159884</td>\n",
       "      <td>357</td>\n",
       "    </tr>\n",
       "    <tr>\n",
       "      <th>Music</th>\n",
       "      <td>19600102040</td>\n",
       "      <td>449</td>\n",
       "    </tr>\n",
       "    <tr>\n",
       "      <th>History</th>\n",
       "      <td>18744144753</td>\n",
       "      <td>391</td>\n",
       "    </tr>\n",
       "    <tr>\n",
       "      <th>Sport</th>\n",
       "      <td>16388866644</td>\n",
       "      <td>374</td>\n",
       "    </tr>\n",
       "    <tr>\n",
       "      <th>Western</th>\n",
       "      <td>7393407155</td>\n",
       "      <td>143</td>\n",
       "    </tr>\n",
       "    <tr>\n",
       "      <th>Documentary</th>\n",
       "      <td>2710526736</td>\n",
       "      <td>243</td>\n",
       "    </tr>\n",
       "    <tr>\n",
       "      <th>News</th>\n",
       "      <td>57917412</td>\n",
       "      <td>3</td>\n",
       "    </tr>\n",
       "    <tr>\n",
       "      <th>Film-Noir</th>\n",
       "      <td>4890859</td>\n",
       "      <td>11</td>\n",
       "    </tr>\n",
       "  </tbody>\n",
       "</table>\n",
       "</div>"
      ],
      "text/plain": [
       "                    Money  Count\n",
       "Genre                           \n",
       "Adventure    298281440727   1515\n",
       "Action       270712872044   1892\n",
       "Drama        224422468047   4454\n",
       "Comedy       222959609180   3232\n",
       "Thriller     169670494650   2224\n",
       "Fantasy      153116140508    981\n",
       "Sci-Fi       152723454914    866\n",
       "Family       137386773092    936\n",
       "Romance      109277844855   2201\n",
       "Crime         87149222552   1589\n",
       "Animation     84311140430    400\n",
       "Mystery       62314981386    880\n",
       "Horror        39714174296    707\n",
       "Musical       30446413474    279\n",
       "Biography     26964736252    663\n",
       "War           20548159884    357\n",
       "Music         19600102040    449\n",
       "History       18744144753    391\n",
       "Sport         16388866644    374\n",
       "Western        7393407155    143\n",
       "Documentary    2710526736    243\n",
       "News             57917412      3\n",
       "Film-Noir         4890859     11"
      ]
     },
     "execution_count": 153,
     "metadata": {},
     "output_type": "execute_result"
    }
   ],
   "source": [
    "genre = parseWithMoneyAndCount(a, 'Genre')\n",
    "genre"
   ]
  },
  {
   "cell_type": "code",
   "execution_count": 154,
   "metadata": {
    "colab": {
     "base_uri": "https://localhost:8080/",
     "height": 455
    },
    "id": "9K3EI9lXjAnM",
    "outputId": "76f3045a-5d84-4120-e58d-fadbfc2f5664",
    "scrolled": true
   },
   "outputs": [
    {
     "data": {
      "text/html": [
       "<div>\n",
       "<style scoped>\n",
       "    .dataframe tbody tr th:only-of-type {\n",
       "        vertical-align: middle;\n",
       "    }\n",
       "\n",
       "    .dataframe tbody tr th {\n",
       "        vertical-align: top;\n",
       "    }\n",
       "\n",
       "    .dataframe thead th {\n",
       "        text-align: right;\n",
       "    }\n",
       "</style>\n",
       "<table border=\"1\" class=\"dataframe\">\n",
       "  <thead>\n",
       "    <tr style=\"text-align: right;\">\n",
       "      <th></th>\n",
       "      <th>Money</th>\n",
       "      <th>Count</th>\n",
       "    </tr>\n",
       "    <tr>\n",
       "      <th>Studios</th>\n",
       "      <th></th>\n",
       "      <th></th>\n",
       "    </tr>\n",
       "  </thead>\n",
       "  <tbody>\n",
       "    <tr>\n",
       "      <th>Walt Disney Pictures</th>\n",
       "      <td>69222893046</td>\n",
       "      <td>214</td>\n",
       "    </tr>\n",
       "    <tr>\n",
       "      <th>Warner Bros.</th>\n",
       "      <td>67324250819</td>\n",
       "      <td>486</td>\n",
       "    </tr>\n",
       "    <tr>\n",
       "      <th>Universal Pictures</th>\n",
       "      <td>65634910319</td>\n",
       "      <td>514</td>\n",
       "    </tr>\n",
       "    <tr>\n",
       "      <th>Paramount Pictures</th>\n",
       "      <td>55195232415</td>\n",
       "      <td>451</td>\n",
       "    </tr>\n",
       "    <tr>\n",
       "      <th>Columbia Pictures</th>\n",
       "      <td>53369131398</td>\n",
       "      <td>424</td>\n",
       "    </tr>\n",
       "    <tr>\n",
       "      <th>...</th>\n",
       "      <td>...</td>\n",
       "      <td>...</td>\n",
       "    </tr>\n",
       "    <tr>\n",
       "      <th>Paramount Famous Lasky Corporation</th>\n",
       "      <td>746</td>\n",
       "      <td>1</td>\n",
       "    </tr>\n",
       "    <tr>\n",
       "      <th>Walter Wanger Productions</th>\n",
       "      <td>623</td>\n",
       "      <td>1</td>\n",
       "    </tr>\n",
       "    <tr>\n",
       "      <th>Break Media</th>\n",
       "      <td>528</td>\n",
       "      <td>1</td>\n",
       "    </tr>\n",
       "    <tr>\n",
       "      <th>Campfire</th>\n",
       "      <td>528</td>\n",
       "      <td>1</td>\n",
       "    </tr>\n",
       "    <tr>\n",
       "      <th>Jaz Films</th>\n",
       "      <td>95</td>\n",
       "      <td>1</td>\n",
       "    </tr>\n",
       "  </tbody>\n",
       "</table>\n",
       "<p>6883 rows × 2 columns</p>\n",
       "</div>"
      ],
      "text/plain": [
       "                                          Money  Count\n",
       "Studios                                               \n",
       "Walt Disney Pictures                69222893046    214\n",
       "Warner Bros.                        67324250819    486\n",
       "Universal Pictures                  65634910319    514\n",
       "Paramount Pictures                  55195232415    451\n",
       "Columbia Pictures                   53369131398    424\n",
       "...                                         ...    ...\n",
       "Paramount Famous Lasky Corporation          746      1\n",
       "Walter Wanger Productions                   623      1\n",
       "Break Media                                 528      1\n",
       "Campfire                                    528      1\n",
       "Jaz Films                                    95      1\n",
       "\n",
       "[6883 rows x 2 columns]"
      ]
     },
     "execution_count": 154,
     "metadata": {},
     "output_type": "execute_result"
    }
   ],
   "source": [
    "studio = parseWithMoneyAndCount(a, 'Studios')\n",
    "studio"
   ]
  },
  {
   "cell_type": "code",
   "execution_count": 155,
   "metadata": {
    "colab": {
     "base_uri": "https://localhost:8080/",
     "height": 645
    },
    "id": "RBtqWD4ljAnN",
    "outputId": "d30804e8-6f6a-459e-fa5f-b1a07df4fad7"
   },
   "outputs": [
    {
     "data": {
      "text/html": [
       "<div>\n",
       "<style scoped>\n",
       "    .dataframe tbody tr th:only-of-type {\n",
       "        vertical-align: middle;\n",
       "    }\n",
       "\n",
       "    .dataframe tbody tr th {\n",
       "        vertical-align: top;\n",
       "    }\n",
       "\n",
       "    .dataframe thead th {\n",
       "        text-align: right;\n",
       "    }\n",
       "</style>\n",
       "<table border=\"1\" class=\"dataframe\">\n",
       "  <thead>\n",
       "    <tr style=\"text-align: right;\">\n",
       "      <th></th>\n",
       "      <th>Money</th>\n",
       "      <th>Count</th>\n",
       "    </tr>\n",
       "    <tr>\n",
       "      <th>ListOfCertificate</th>\n",
       "      <th></th>\n",
       "      <th></th>\n",
       "    </tr>\n",
       "  </thead>\n",
       "  <tbody>\n",
       "    <tr>\n",
       "      <th>PG-13</th>\n",
       "      <td>283553468080</td>\n",
       "      <td>2466</td>\n",
       "    </tr>\n",
       "    <tr>\n",
       "      <th>R</th>\n",
       "      <td>170006305715</td>\n",
       "      <td>3867</td>\n",
       "    </tr>\n",
       "    <tr>\n",
       "      <th>PG</th>\n",
       "      <td>144055409565</td>\n",
       "      <td>1621</td>\n",
       "    </tr>\n",
       "    <tr>\n",
       "      <th>G</th>\n",
       "      <td>42824185750</td>\n",
       "      <td>937</td>\n",
       "    </tr>\n",
       "    <tr>\n",
       "      <th>NC-17</th>\n",
       "      <td>925845011</td>\n",
       "      <td>37</td>\n",
       "    </tr>\n",
       "  </tbody>\n",
       "</table>\n",
       "</div>"
      ],
      "text/plain": [
       "                          Money  Count\n",
       "ListOfCertificate                     \n",
       "PG-13              283553468080   2466\n",
       "R                  170006305715   3867\n",
       "PG                 144055409565   1621\n",
       "G                   42824185750    937\n",
       "NC-17                 925845011     37"
      ]
     },
     "execution_count": 155,
     "metadata": {},
     "output_type": "execute_result"
    }
   ],
   "source": [
    "certificate = parseWithMoneyAndCount(a, 'ListOfCertificate')\n",
    "certificate"
   ]
  },
  {
   "cell_type": "markdown",
   "metadata": {
    "id": "JRyaAOgxjAnN"
   },
   "source": [
    "## Xử lý dữ liệu cột Keywords, Languages, Countries\n",
    "Dữ liệu dạng này chủ yếu chỉ cần tách và xem xét đến độ phổ biến nên chỉ cần đếm số lượng"
   ]
  },
  {
   "cell_type": "code",
   "execution_count": 156,
   "metadata": {
    "id": "9mOLno36jAnN"
   },
   "outputs": [],
   "source": [
    "def parseWithCount(dataframe, name):\n",
    "    result = []\n",
    "    count = []\n",
    "    for record in dataframe[name]:\n",
    "        for x in record:\n",
    "            result.append(x)\n",
    "            count.append(1)\n",
    "    result = pd.DataFrame({name: result, 'Count': count})\n",
    "    #Loại bỏ trùng lặp \n",
    "    result = result.groupby(name).sum()\n",
    "    sort_by_count = result.sort_values('Count', ascending=False)\n",
    "    return sort_by_count"
   ]
  },
  {
   "cell_type": "markdown",
   "metadata": {
    "id": "3hfuA3rJjAnO"
   },
   "source": [
    "### Cột keywords"
   ]
  },
  {
   "cell_type": "code",
   "execution_count": 157,
   "metadata": {
    "colab": {
     "base_uri": "https://localhost:8080/",
     "height": 455
    },
    "id": "w5JY72Z6jAnO",
    "outputId": "a398690a-c127-4b0e-a781-f7e88ce77e11",
    "scrolled": false
   },
   "outputs": [
    {
     "data": {
      "text/html": [
       "<div>\n",
       "<style scoped>\n",
       "    .dataframe tbody tr th:only-of-type {\n",
       "        vertical-align: middle;\n",
       "    }\n",
       "\n",
       "    .dataframe tbody tr th {\n",
       "        vertical-align: top;\n",
       "    }\n",
       "\n",
       "    .dataframe thead th {\n",
       "        text-align: right;\n",
       "    }\n",
       "</style>\n",
       "<table border=\"1\" class=\"dataframe\">\n",
       "  <thead>\n",
       "    <tr style=\"text-align: right;\">\n",
       "      <th></th>\n",
       "      <th>Count</th>\n",
       "    </tr>\n",
       "    <tr>\n",
       "      <th>Keywords</th>\n",
       "      <th></th>\n",
       "    </tr>\n",
       "  </thead>\n",
       "  <tbody>\n",
       "    <tr>\n",
       "      <th>female nudity</th>\n",
       "      <td>194</td>\n",
       "    </tr>\n",
       "    <tr>\n",
       "      <th>sex scene</th>\n",
       "      <td>164</td>\n",
       "    </tr>\n",
       "    <tr>\n",
       "      <th>murder</th>\n",
       "      <td>158</td>\n",
       "    </tr>\n",
       "    <tr>\n",
       "      <th>female protagonist</th>\n",
       "      <td>157</td>\n",
       "    </tr>\n",
       "    <tr>\n",
       "      <th>f rated</th>\n",
       "      <td>146</td>\n",
       "    </tr>\n",
       "    <tr>\n",
       "      <th>...</th>\n",
       "      <td>...</td>\n",
       "    </tr>\n",
       "    <tr>\n",
       "      <th>highgate cemetary</th>\n",
       "      <td>1</td>\n",
       "    </tr>\n",
       "    <tr>\n",
       "      <th>highlander character</th>\n",
       "      <td>1</td>\n",
       "    </tr>\n",
       "    <tr>\n",
       "      <th>highlands</th>\n",
       "      <td>1</td>\n",
       "    </tr>\n",
       "    <tr>\n",
       "      <th>highway</th>\n",
       "      <td>1</td>\n",
       "    </tr>\n",
       "    <tr>\n",
       "      <th>zydeco</th>\n",
       "      <td>1</td>\n",
       "    </tr>\n",
       "  </tbody>\n",
       "</table>\n",
       "<p>13909 rows × 1 columns</p>\n",
       "</div>"
      ],
      "text/plain": [
       "                      Count\n",
       "Keywords                   \n",
       "female nudity           194\n",
       "sex scene               164\n",
       "murder                  158\n",
       "female protagonist      157\n",
       "f rated                 146\n",
       "...                     ...\n",
       "highgate cemetary         1\n",
       "highlander character      1\n",
       "highlands                 1\n",
       "highway                   1\n",
       "zydeco                    1\n",
       "\n",
       "[13909 rows x 1 columns]"
      ]
     },
     "execution_count": 157,
     "metadata": {},
     "output_type": "execute_result"
    }
   ],
   "source": [
    "keywords = parseWithCount(a, 'Keywords')\n",
    "keywords"
   ]
  },
  {
   "cell_type": "markdown",
   "metadata": {
    "id": "wEr4x7FpjAnP"
   },
   "source": [
    "### Cột Languages"
   ]
  },
  {
   "cell_type": "code",
   "execution_count": 158,
   "metadata": {
    "colab": {
     "base_uri": "https://localhost:8080/",
     "height": 455
    },
    "id": "PvGiPHqkjAnP",
    "outputId": "fbbb5d13-5266-4d4c-d337-6dd06898366c",
    "scrolled": true
   },
   "outputs": [
    {
     "data": {
      "text/html": [
       "<div>\n",
       "<style scoped>\n",
       "    .dataframe tbody tr th:only-of-type {\n",
       "        vertical-align: middle;\n",
       "    }\n",
       "\n",
       "    .dataframe tbody tr th {\n",
       "        vertical-align: top;\n",
       "    }\n",
       "\n",
       "    .dataframe thead th {\n",
       "        text-align: right;\n",
       "    }\n",
       "</style>\n",
       "<table border=\"1\" class=\"dataframe\">\n",
       "  <thead>\n",
       "    <tr style=\"text-align: right;\">\n",
       "      <th></th>\n",
       "      <th>Count</th>\n",
       "    </tr>\n",
       "    <tr>\n",
       "      <th>Languages</th>\n",
       "      <th></th>\n",
       "    </tr>\n",
       "  </thead>\n",
       "  <tbody>\n",
       "    <tr>\n",
       "      <th>English</th>\n",
       "      <td>8150</td>\n",
       "    </tr>\n",
       "    <tr>\n",
       "      <th>French</th>\n",
       "      <td>977</td>\n",
       "    </tr>\n",
       "    <tr>\n",
       "      <th>Spanish</th>\n",
       "      <td>946</td>\n",
       "    </tr>\n",
       "    <tr>\n",
       "      <th>German</th>\n",
       "      <td>466</td>\n",
       "    </tr>\n",
       "    <tr>\n",
       "      <th>Italian</th>\n",
       "      <td>432</td>\n",
       "    </tr>\n",
       "    <tr>\n",
       "      <th>...</th>\n",
       "      <td>...</td>\n",
       "    </tr>\n",
       "    <tr>\n",
       "      <th>Papiamento</th>\n",
       "      <td>1</td>\n",
       "    </tr>\n",
       "    <tr>\n",
       "      <th>Oriya</th>\n",
       "      <td>1</td>\n",
       "    </tr>\n",
       "    <tr>\n",
       "      <th>Ojibwa</th>\n",
       "      <td>1</td>\n",
       "    </tr>\n",
       "    <tr>\n",
       "      <th>Nyanja</th>\n",
       "      <td>1</td>\n",
       "    </tr>\n",
       "    <tr>\n",
       "      <th>Bhojpuri</th>\n",
       "      <td>1</td>\n",
       "    </tr>\n",
       "  </tbody>\n",
       "</table>\n",
       "<p>191 rows × 1 columns</p>\n",
       "</div>"
      ],
      "text/plain": [
       "            Count\n",
       "Languages        \n",
       "English      8150\n",
       "French        977\n",
       "Spanish       946\n",
       "German        466\n",
       "Italian       432\n",
       "...           ...\n",
       "Papiamento      1\n",
       "Oriya           1\n",
       "Ojibwa          1\n",
       "Nyanja          1\n",
       "Bhojpuri        1\n",
       "\n",
       "[191 rows x 1 columns]"
      ]
     },
     "execution_count": 158,
     "metadata": {},
     "output_type": "execute_result"
    }
   ],
   "source": [
    "languages = parseWithCount(a, 'Languages')\n",
    "languages"
   ]
  },
  {
   "cell_type": "markdown",
   "metadata": {
    "id": "g9ZO45EDjAnP"
   },
   "source": [
    "### Cột Countries"
   ]
  },
  {
   "cell_type": "code",
   "execution_count": 159,
   "metadata": {
    "colab": {
     "base_uri": "https://localhost:8080/",
     "height": 455
    },
    "id": "tF3JJwxCjAnQ",
    "outputId": "c323e2c6-662a-4cd7-8e8b-65782a6910e7",
    "scrolled": true
   },
   "outputs": [
    {
     "data": {
      "text/html": [
       "<div>\n",
       "<style scoped>\n",
       "    .dataframe tbody tr th:only-of-type {\n",
       "        vertical-align: middle;\n",
       "    }\n",
       "\n",
       "    .dataframe tbody tr th {\n",
       "        vertical-align: top;\n",
       "    }\n",
       "\n",
       "    .dataframe thead th {\n",
       "        text-align: right;\n",
       "    }\n",
       "</style>\n",
       "<table border=\"1\" class=\"dataframe\">\n",
       "  <thead>\n",
       "    <tr style=\"text-align: right;\">\n",
       "      <th></th>\n",
       "      <th>Count</th>\n",
       "    </tr>\n",
       "    <tr>\n",
       "      <th>Countries</th>\n",
       "      <th></th>\n",
       "    </tr>\n",
       "  </thead>\n",
       "  <tbody>\n",
       "    <tr>\n",
       "      <th>United States</th>\n",
       "      <td>7375</td>\n",
       "    </tr>\n",
       "    <tr>\n",
       "      <th>United Kingdom</th>\n",
       "      <td>1447</td>\n",
       "    </tr>\n",
       "    <tr>\n",
       "      <th>France</th>\n",
       "      <td>793</td>\n",
       "    </tr>\n",
       "    <tr>\n",
       "      <th>Canada</th>\n",
       "      <td>692</td>\n",
       "    </tr>\n",
       "    <tr>\n",
       "      <th>Germany</th>\n",
       "      <td>553</td>\n",
       "    </tr>\n",
       "    <tr>\n",
       "      <th>...</th>\n",
       "      <td>...</td>\n",
       "    </tr>\n",
       "    <tr>\n",
       "      <th>Liberia</th>\n",
       "      <td>1</td>\n",
       "    </tr>\n",
       "    <tr>\n",
       "      <th>Lithuania</th>\n",
       "      <td>1</td>\n",
       "    </tr>\n",
       "    <tr>\n",
       "      <th>Mauritania</th>\n",
       "      <td>1</td>\n",
       "    </tr>\n",
       "    <tr>\n",
       "      <th>Nepal</th>\n",
       "      <td>1</td>\n",
       "    </tr>\n",
       "    <tr>\n",
       "      <th>Zimbabwe</th>\n",
       "      <td>1</td>\n",
       "    </tr>\n",
       "  </tbody>\n",
       "</table>\n",
       "<p>111 rows × 1 columns</p>\n",
       "</div>"
      ],
      "text/plain": [
       "                Count\n",
       "Countries            \n",
       "United States    7375\n",
       "United Kingdom   1447\n",
       "France            793\n",
       "Canada            692\n",
       "Germany           553\n",
       "...               ...\n",
       "Liberia             1\n",
       "Lithuania           1\n",
       "Mauritania          1\n",
       "Nepal               1\n",
       "Zimbabwe            1\n",
       "\n",
       "[111 rows x 1 columns]"
      ]
     },
     "execution_count": 159,
     "metadata": {},
     "output_type": "execute_result"
    }
   ],
   "source": [
    "countries = parseWithCount(a, 'Countries')\n",
    "countries"
   ]
  },
  {
   "cell_type": "markdown",
   "metadata": {
    "id": "eNtvWVxpjAnQ"
   },
   "source": [
    "## Chuẩn hóa lại dữ liệu dạng thời gian\n",
    "### 1. Dữ liệu cột runtime dạng giờ-phút\n",
    "Hàm chuyển thời gian về dạng phút"
   ]
  },
  {
   "cell_type": "code",
   "execution_count": 160,
   "metadata": {
    "id": "2bgDWlBijAnQ",
    "scrolled": true
   },
   "outputs": [],
   "source": [
    "def convertTime(time):\n",
    "    time = str(time)\n",
    "    # Loại bỏ khoảng trắng\n",
    "    time = time.replace(\" \", \"\")\n",
    "    # nếu trong chuỗi có chứa 'hour' -> có 2 khả năng là chuỗi có chứa 'hours' hoặc 'hour' \n",
    "    if \"hour\" in time:\n",
    "        hours = 0\n",
    "        # Nếu chuỗi chứa 'hours', loại bỏ 'hours' và lấy ký tự đầu tiên nhân với 60\n",
    "        if \"hours\" in time:\n",
    "            hours = int(time[0]) * 60\n",
    "            after_eliminate_hour = time.replace(\"hours\", \"\")\n",
    "        else:\n",
    "            # Nếu không thì nghĩa là ký tự đầu tiên bằng 1 => 60 phút\n",
    "            hours = 60\n",
    "            after_eliminate_hour = time.replace(\"hour\", \"\")\n",
    "        minutes = 0\n",
    "        # Sau đó lấy số phút đó cộng với số phút nếu có đằng sau \n",
    "        if \"minute\" in after_eliminate_hour:\n",
    "            if \"minutes\" in after_eliminate_hour:\n",
    "                minutes = int(after_eliminate_hour.replace(\"minutes\", \"\")[1:])\n",
    "            else:\n",
    "                minutes = 1\n",
    "        return int(hours) + int(minutes)\n",
    "    # Nếu chuỗi không chứa 'hour' -> chỉ cần loại bỏ chuỗi 'minutes' rồi chuyển về int là xong\n",
    "    else:\n",
    "        return int(time.replace(\"minutes\", \"\"))"
   ]
  },
  {
   "cell_type": "markdown",
   "metadata": {
    "id": "On2HmskbnVHB"
   },
   "source": [
    "Chuẩn hóa thời gian cho bộ dữ liệu"
   ]
  },
  {
   "cell_type": "code",
   "execution_count": 161,
   "metadata": {
    "id": "pnJVx-K3nWM3"
   },
   "outputs": [],
   "source": [
    "a['Runtime'] = a['Runtime'].apply(convertTime)"
   ]
  },
  {
   "cell_type": "code",
   "execution_count": 162,
   "metadata": {},
   "outputs": [
    {
     "data": {
      "text/plain": [
       "100    259\n",
       "97     258\n",
       "96     245\n",
       "101    244\n",
       "95     236\n",
       "      ... \n",
       "64       1\n",
       "288      1\n",
       "207      1\n",
       "60       1\n",
       "194      1\n",
       "Name: Runtime, Length: 160, dtype: int64"
      ]
     },
     "execution_count": 162,
     "metadata": {},
     "output_type": "execute_result"
    }
   ],
   "source": [
    "a['Runtime'].value_counts()"
   ]
  },
  {
   "cell_type": "markdown",
   "metadata": {
    "id": "6PRG4fG1jAnQ"
   },
   "source": [
    "### 2. Dữ liệu cột release_date dạng ngày tháng năm\n",
    "Tách ngày, tháng, năm của từng bộ phim"
   ]
  },
  {
   "cell_type": "code",
   "execution_count": 163,
   "metadata": {
    "id": "t4XQZGCujAnR",
    "scrolled": true
   },
   "outputs": [],
   "source": [
    "a['Release_Data'] = pd.to_datetime(a['Release_Data'], format='%Y-%m-%d')\n",
    "a['Release_Year'] = a['Release_Data'].apply(lambda x: x.year)\n",
    "a['Release_Month'] = a['Release_Data'].apply(lambda x: x.month)\n",
    "a['Release_Day'] = a['Release_Data'].apply(lambda x: x.day)"
   ]
  },
  {
   "cell_type": "markdown",
   "metadata": {
    "id": "HmgEZbJCjAnR"
   },
   "source": [
    "## Xử lý dữ liệu cột Rating và Rating_Count\n",
    "- Hàm chuẩn hóa lại dữ liệu cột Rating_Count và chuyển dữ liệu cột Rating về float"
   ]
  },
  {
   "cell_type": "code",
   "execution_count": 164,
   "metadata": {
    "id": "ppHXAhfKndcv"
   },
   "outputs": [],
   "source": [
    "def convertRatingCount(rating_count):\n",
    "    rate = str(rating_count)\n",
    "    if 'M' in rate:\n",
    "        return int(float(rate.replace(\"M\", \"\")) * 1000000)\n",
    "    elif 'K' in rate:\n",
    "        return int(float(rate.replace(\"K\", \"\")) * 1000)\n",
    "    else:\n",
    "        return int(rate)"
   ]
  },
  {
   "cell_type": "code",
   "execution_count": 165,
   "metadata": {
    "id": "rnwq8LIujAnR"
   },
   "outputs": [],
   "source": [
    "# Đưa dữ liệu cột rating_count về integer\n",
    "a['Rating_Count'] = a['Rating_Count'].apply(convertRatingCount)\n",
    "# Đưa dữ liệu cột rating về dạng float\n",
    "a['Rating'] = a['Rating'].astype(float)"
   ]
  },
  {
   "cell_type": "markdown",
   "metadata": {},
   "source": [
    "## Xử lý trường có giá trị 0"
   ]
  },
  {
   "cell_type": "markdown",
   "metadata": {},
   "source": [
    "Fill 0 values:\n",
    "\n",
    "| Attribute           | Before    |  After |\n",
    "|---------------------|-----------|--------|         \n",
    "| `Budget`            | 0         |  Min   |\n",
    "| `Runtime`           | 0         |  Mean  |"
   ]
  },
  {
   "cell_type": "code",
   "execution_count": 166,
   "metadata": {},
   "outputs": [],
   "source": [
    "## Find Budget 0\n",
    "indexNZero=list(a[a['Budget']!=0].index)\n",
    "indexZero=list(a[a['Budget']==0].index)\n",
    "min=np.min(list(a.iloc[indexNZero]['Budget']))\n",
    "a['Budget']=a['Budget'].apply(lambda x: min if x==0 else x)\n",
    "## Find Runtime 0\n",
    "indexNZero=list(a[a['Runtime']!=0].index)\n",
    "indexZero=list(a[a['Runtime']==0].index)\n",
    "mean=np.mean(list(a.iloc[indexNZero]['Runtime']))\n",
    "a['Runtime']=a['Runtime'].apply(lambda x: mean if x==0 else x)"
   ]
  },
  {
   "cell_type": "markdown",
   "metadata": {
    "id": "T_RnMX-ujAnT"
   },
   "source": [
    "## Xuất ra file CSV"
   ]
  },
  {
   "cell_type": "code",
   "execution_count": 167,
   "metadata": {
    "id": "GRYz9GKzjAnT",
    "pycharm": {
     "name": "#%%\n"
    }
   },
   "outputs": [],
   "source": [
    "cast.to_csv(\"../dataset/processed/Cast.csv\", index=False)\n",
    "genre.to_csv(\"../dataset/processed/Genre.csv\", index=False)\n",
    "studio.to_csv(\"../dataset/processed/Studio.csv\", index=False)\n",
    "keywords.to_csv(\"../dataset/processed/Keywords.csv\", index=False)\n",
    "languages.to_csv(\"../dataset/processed/Languages.csv\", index=False)\n",
    "countries.to_csv(\"../dataset/processed/Countries.csv\", index=False)\n",
    "a.to_csv(\"../dataset/processed/cleaned_data.csv\", index=False)"
   ]
  }
 ],
 "metadata": {
  "colab": {
   "collapsed_sections": [],
   "name": "Data Cleaning.ipynb",
   "provenance": []
  },
  "kernelspec": {
   "display_name": "Python 3 (ipykernel)",
   "language": "python",
   "name": "python3"
  },
  "language_info": {
   "codemirror_mode": {
    "name": "ipython",
    "version": 3
   },
   "file_extension": ".py",
   "mimetype": "text/x-python",
   "name": "python",
   "nbconvert_exporter": "python",
   "pygments_lexer": "ipython3",
   "version": "3.8.8"
  }
 },
 "nbformat": 4,
 "nbformat_minor": 0
}
