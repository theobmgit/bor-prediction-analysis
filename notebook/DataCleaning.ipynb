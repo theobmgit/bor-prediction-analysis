{
 "cells": [
  {
   "cell_type": "markdown",
   "metadata": {
    "id": "b8sWwUpOjAnD"
   },
   "source": [
    "# Data Cleaning and Preprocessing"
   ]
  },
  {
   "cell_type": "code",
   "execution_count": 1,
   "metadata": {
    "id": "r_UOtvL-jAnF"
   },
   "outputs": [],
   "source": [
    "import pandas as pd\n",
    "import matplotlib.pyplot as plt\n",
    "import numpy as np\n",
    "\n",
    "pd.options.mode.chained_assignment = None"
   ]
  },
  {
   "cell_type": "markdown",
   "metadata": {},
   "source": [
    "Load and drop unnecessary attribute, e.g., `Filming_Location`"
   ]
  },
  {
   "cell_type": "code",
   "execution_count": 2,
   "metadata": {
    "colab": {
     "base_uri": "https://localhost:8080/",
     "height": 214
    },
    "id": "viREz1IfjAnH",
    "outputId": "49989aad-68df-4fb6-be53-f49fcf091e39"
   },
   "outputs": [
    {
     "data": {
      "text/html": [
       "<div>\n",
       "<style scoped>\n",
       "    .dataframe tbody tr th:only-of-type {\n",
       "        vertical-align: middle;\n",
       "    }\n",
       "\n",
       "    .dataframe tbody tr th {\n",
       "        vertical-align: top;\n",
       "    }\n",
       "\n",
       "    .dataframe thead th {\n",
       "        text-align: right;\n",
       "    }\n",
       "</style>\n",
       "<table border=\"1\" class=\"dataframe\">\n",
       "  <thead>\n",
       "    <tr style=\"text-align: right;\">\n",
       "      <th></th>\n",
       "      <th>Movie_Title</th>\n",
       "      <th>Movie_ID</th>\n",
       "      <th>Budget</th>\n",
       "      <th>Cast</th>\n",
       "      <th>Crew</th>\n",
       "      <th>Studios</th>\n",
       "      <th>Genre</th>\n",
       "      <th>Keywords</th>\n",
       "      <th>Languages</th>\n",
       "      <th>Countries</th>\n",
       "      <th>Release_Data</th>\n",
       "      <th>Runtime</th>\n",
       "      <th>Gross_worldwide</th>\n",
       "      <th>Rating</th>\n",
       "      <th>Rating_Count</th>\n",
       "      <th>ListOfCertificate</th>\n",
       "    </tr>\n",
       "  </thead>\n",
       "  <tbody>\n",
       "    <tr>\n",
       "      <th>0</th>\n",
       "      <td>Star Wars: Episode VII - The Force Awakens</td>\n",
       "      <td>2488496</td>\n",
       "      <td>$245,000,000</td>\n",
       "      <td>Daisy Ridley,John Boyega,Oscar Isaac,Domhnall ...</td>\n",
       "      <td>Lawrence Kasdan,Michael Arndt,J.J. Abrams</td>\n",
       "      <td>Lucasfilm,Bad Robot,Truenorth Productions</td>\n",
       "      <td>Action,Adventure,Sci-Fi</td>\n",
       "      <td>reboot,sanitation employee,remake,crash landin...</td>\n",
       "      <td>English</td>\n",
       "      <td>United States</td>\n",
       "      <td>2015-12-18</td>\n",
       "      <td>2 hours 18 minutes</td>\n",
       "      <td>$2,069,521,700</td>\n",
       "      <td>7.8</td>\n",
       "      <td>893K</td>\n",
       "      <td>PG-13</td>\n",
       "    </tr>\n",
       "    <tr>\n",
       "      <th>1</th>\n",
       "      <td>Frozen II</td>\n",
       "      <td>4520988</td>\n",
       "      <td>$150,000,000</td>\n",
       "      <td>Kristen Bell,Idina Menzel,Josh Gad,Jonathan Gr...</td>\n",
       "      <td>Jennifer Lee,Hans Christian Andersen,Chris Buck</td>\n",
       "      <td>Walt Disney Animation Studios,Walt Disney Pict...</td>\n",
       "      <td>Animation,Adventure,Comedy,Family,Fantasy,Musical</td>\n",
       "      <td>autumn,anthropomorphic snowman,princess,disney...</td>\n",
       "      <td>English</td>\n",
       "      <td>United States</td>\n",
       "      <td>2019-11-22</td>\n",
       "      <td>1 hour 43 minutes</td>\n",
       "      <td>$1,450,026,933</td>\n",
       "      <td>6.8</td>\n",
       "      <td>156K</td>\n",
       "      <td>PG</td>\n",
       "    </tr>\n",
       "    <tr>\n",
       "      <th>2</th>\n",
       "      <td>The Dark Knight Rises</td>\n",
       "      <td>1345836</td>\n",
       "      <td>$250,000,000</td>\n",
       "      <td>Christian Bale,Tom Hardy,Anne Hathaway,Gary Ol...</td>\n",
       "      <td>Jonathan Nolan,Christopher Nolan,David S. Goyer</td>\n",
       "      <td>Warner Bros.,Legendary Entertainment,DC Entert...</td>\n",
       "      <td>Action,Crime,Drama</td>\n",
       "      <td>dc comics,batman character,bruce wayne charact...</td>\n",
       "      <td>English,Arabic</td>\n",
       "      <td>United Kingdom,United States</td>\n",
       "      <td>2012-07-27</td>\n",
       "      <td>2 hours 44 minutes</td>\n",
       "      <td>$1,081,142,612</td>\n",
       "      <td>8.4</td>\n",
       "      <td>1.6M</td>\n",
       "      <td>PG-13</td>\n",
       "    </tr>\n",
       "    <tr>\n",
       "      <th>3</th>\n",
       "      <td>Beauty and the Beast</td>\n",
       "      <td>2771200</td>\n",
       "      <td>$160,000,000</td>\n",
       "      <td>Emma Watson,Dan Stevens,Luke Evans,Josh Gad,Ke...</td>\n",
       "      <td>Evan Spiliotopoulos,Bill Condon,Stephen Chbosk...</td>\n",
       "      <td>Mandeville Films,Walt Disney Pictures</td>\n",
       "      <td>Adventure,Family,Fantasy,Musical,Romance</td>\n",
       "      <td>beast,fairy tale,heroine,beast's heart,remake ...</td>\n",
       "      <td>English</td>\n",
       "      <td>United States</td>\n",
       "      <td>2017-03-17</td>\n",
       "      <td>2 hours 9 minutes</td>\n",
       "      <td>$1,273,576,220</td>\n",
       "      <td>7.1</td>\n",
       "      <td>293K</td>\n",
       "      <td>PG</td>\n",
       "    </tr>\n",
       "    <tr>\n",
       "      <th>4</th>\n",
       "      <td>Finding Dory</td>\n",
       "      <td>2277860</td>\n",
       "      <td>$200,000,000</td>\n",
       "      <td>Ellen DeGeneres,Albert Brooks,Ed O'Neill,Kaitl...</td>\n",
       "      <td>Angus MacLane,Victoria Strouse,Andrew Stanton</td>\n",
       "      <td>Pixar Animation Studios,Walt Disney Pictures</td>\n",
       "      <td>Animation,Adventure,Comedy,Family</td>\n",
       "      <td>fish,ocean,whale,octopus driving a truck,talki...</td>\n",
       "      <td>English,Indonesian</td>\n",
       "      <td>United States</td>\n",
       "      <td>2016-06-17</td>\n",
       "      <td>1 hour 37 minutes</td>\n",
       "      <td>$1,028,570,942</td>\n",
       "      <td>7.3</td>\n",
       "      <td>259K</td>\n",
       "      <td>PG</td>\n",
       "    </tr>\n",
       "  </tbody>\n",
       "</table>\n",
       "</div>"
      ],
      "text/plain": [
       "                                  Movie_Title  Movie_ID        Budget  \\\n",
       "0  Star Wars: Episode VII - The Force Awakens   2488496  $245,000,000   \n",
       "1                                   Frozen II   4520988  $150,000,000   \n",
       "2                       The Dark Knight Rises   1345836  $250,000,000   \n",
       "3                        Beauty and the Beast   2771200  $160,000,000   \n",
       "4                                Finding Dory   2277860  $200,000,000   \n",
       "\n",
       "                                                Cast  \\\n",
       "0  Daisy Ridley,John Boyega,Oscar Isaac,Domhnall ...   \n",
       "1  Kristen Bell,Idina Menzel,Josh Gad,Jonathan Gr...   \n",
       "2  Christian Bale,Tom Hardy,Anne Hathaway,Gary Ol...   \n",
       "3  Emma Watson,Dan Stevens,Luke Evans,Josh Gad,Ke...   \n",
       "4  Ellen DeGeneres,Albert Brooks,Ed O'Neill,Kaitl...   \n",
       "\n",
       "                                                Crew  \\\n",
       "0          Lawrence Kasdan,Michael Arndt,J.J. Abrams   \n",
       "1    Jennifer Lee,Hans Christian Andersen,Chris Buck   \n",
       "2    Jonathan Nolan,Christopher Nolan,David S. Goyer   \n",
       "3  Evan Spiliotopoulos,Bill Condon,Stephen Chbosk...   \n",
       "4      Angus MacLane,Victoria Strouse,Andrew Stanton   \n",
       "\n",
       "                                             Studios  \\\n",
       "0          Lucasfilm,Bad Robot,Truenorth Productions   \n",
       "1  Walt Disney Animation Studios,Walt Disney Pict...   \n",
       "2  Warner Bros.,Legendary Entertainment,DC Entert...   \n",
       "3              Mandeville Films,Walt Disney Pictures   \n",
       "4       Pixar Animation Studios,Walt Disney Pictures   \n",
       "\n",
       "                                               Genre  \\\n",
       "0                            Action,Adventure,Sci-Fi   \n",
       "1  Animation,Adventure,Comedy,Family,Fantasy,Musical   \n",
       "2                                 Action,Crime,Drama   \n",
       "3           Adventure,Family,Fantasy,Musical,Romance   \n",
       "4                  Animation,Adventure,Comedy,Family   \n",
       "\n",
       "                                            Keywords           Languages  \\\n",
       "0  reboot,sanitation employee,remake,crash landin...             English   \n",
       "1  autumn,anthropomorphic snowman,princess,disney...             English   \n",
       "2  dc comics,batman character,bruce wayne charact...      English,Arabic   \n",
       "3  beast,fairy tale,heroine,beast's heart,remake ...             English   \n",
       "4  fish,ocean,whale,octopus driving a truck,talki...  English,Indonesian   \n",
       "\n",
       "                      Countries Release_Data             Runtime  \\\n",
       "0                 United States   2015-12-18  2 hours 18 minutes   \n",
       "1                 United States   2019-11-22   1 hour 43 minutes   \n",
       "2  United Kingdom,United States   2012-07-27  2 hours 44 minutes   \n",
       "3                 United States   2017-03-17   2 hours 9 minutes   \n",
       "4                 United States   2016-06-17   1 hour 37 minutes   \n",
       "\n",
       "  Gross_worldwide  Rating Rating_Count ListOfCertificate  \n",
       "0  $2,069,521,700     7.8         893K             PG-13  \n",
       "1  $1,450,026,933     6.8         156K                PG  \n",
       "2  $1,081,142,612     8.4         1.6M             PG-13  \n",
       "3  $1,273,576,220     7.1         293K                PG  \n",
       "4  $1,028,570,942     7.3         259K                PG  "
      ]
     },
     "execution_count": 2,
     "metadata": {},
     "output_type": "execute_result"
    }
   ],
   "source": [
    "dataset_path = \"../dataset/\"\n",
    "data = pd.read_csv(dataset_path + \"data_joined.csv\")\n",
    "data = data.drop('Filming_Location', axis=1)\n",
    "a = data\n",
    "a.reset_index(drop=True, inplace=True)\n",
    "a.head()"
   ]
  },
  {
   "cell_type": "markdown",
   "metadata": {},
   "source": [
    "## Missing Values\n",
    "\n",
    "Check for missing values"
   ]
  },
  {
   "cell_type": "code",
   "execution_count": 3,
   "metadata": {
    "pycharm": {
     "name": "#%%\n"
    }
   },
   "outputs": [
    {
     "data": {
      "text/plain": [
       "Movie_Title             0\n",
       "Movie_ID                0\n",
       "Budget               2930\n",
       "Cast                    9\n",
       "Crew                    4\n",
       "Studios                49\n",
       "Genre                1178\n",
       "Keywords               27\n",
       "Languages              11\n",
       "Countries               6\n",
       "Release_Data            0\n",
       "Runtime                 7\n",
       "Gross_worldwide      1035\n",
       "Rating                  7\n",
       "Rating_Count            7\n",
       "ListOfCertificate    1199\n",
       "dtype: int64"
      ]
     },
     "execution_count": 3,
     "metadata": {},
     "output_type": "execute_result"
    }
   ],
   "source": [
    "a.isnull().sum()"
   ]
  },
  {
   "cell_type": "markdown",
   "metadata": {},
   "source": [
    "Drop all records missing `Gross_worldwide`"
   ]
  },
  {
   "cell_type": "code",
   "execution_count": 4,
   "metadata": {},
   "outputs": [],
   "source": [
    "listToDrop = list(a[a['Gross_worldwide'].isna()].index)\n",
    "a = a.drop(listToDrop)"
   ]
  },
  {
   "cell_type": "markdown",
   "metadata": {},
   "source": [
    "Fill missing values:\n",
    "\n",
    "| Attribute           | Fill with |\n",
    "|---------------------|-----------|\n",
    "| `Budget`            | $0        |\n",
    "| `Runtime`           | 0         |\n",
    "| `Rating`            | 5.0       |\n",
    "| `Rating_Count`      | 0K        |\n",
    "| `ListOfCertificate` | G         |\n",
    "\n",
    "Other null attributes are filled with empty string."
   ]
  },
  {
   "cell_type": "code",
   "execution_count": 5,
   "metadata": {},
   "outputs": [],
   "source": [
    "a['Budget'] = a['Budget'].fillna(\"$0\")\n",
    "a['Runtime'] = a['Runtime'].fillna(\"0\")\n",
    "a['Rating'] = a['Rating'].fillna(5.0)\n",
    "a['Rating_Count'] = a['Rating_Count'].fillna(\"0K\")\n",
    "a['ListOfCertificate'] = a['ListOfCertificate'].fillna(\"G\")\n",
    "a = a.fillna(\"\")"
   ]
  },
  {
   "cell_type": "markdown",
   "metadata": {},
   "source": [
    "Drop all records with empty attributes"
   ]
  },
  {
   "cell_type": "code",
   "execution_count": 6,
   "metadata": {},
   "outputs": [],
   "source": [
    "a = a.reset_index(drop=True)"
   ]
  },
  {
   "cell_type": "markdown",
   "metadata": {
    "id": "1MNNWNyRjAnH",
    "pycharm": {
     "name": "#%% md\n"
    }
   },
   "source": [
    "## Currency Attributes\n",
    "\n",
    "**Input**: Input dataframe with unprocessed currency\n",
    "\n",
    "**Output**: Processed one"
   ]
  },
  {
   "cell_type": "markdown",
   "metadata": {
    "id": "7Evir8lZkOYZ"
   },
   "source": [
    "Currency symbols in `Budget` and `Gross_worldwide`"
   ]
  },
  {
   "cell_type": "code",
   "execution_count": 7,
   "metadata": {
    "colab": {
     "base_uri": "https://localhost:8080/"
    },
    "id": "iv85JzoJkOGo",
    "outputId": "e085759f-1c08-483d-e8e7-32d021456b8d"
   },
   "outputs": [
    {
     "name": "stdout",
     "output_type": "stream",
     "text": [
      "{'€', '$'}\n",
      "{'$'}\n"
     ]
    }
   ],
   "source": [
    "currency = [str(s)[0] for s in a['Budget'].unique()]\n",
    "print(set(currency))\n",
    "currency = [str(s)[0] for s in a['Gross_worldwide'].unique()]\n",
    "print(set(currency))"
   ]
  },
  {
   "cell_type": "markdown",
   "metadata": {
    "id": "Ss0l11zRkXVR"
   },
   "source": [
    "Eliminate `$`,`€` and `,` in money string and convert the string to integer"
   ]
  },
  {
   "cell_type": "code",
   "execution_count": 8,
   "metadata": {
    "id": "tM7xMOrNjAnI",
    "pycharm": {
     "name": "#%%\n"
    }
   },
   "outputs": [],
   "source": [
    "def parse_currency(before_parsed):\n",
    "    if '$' in before_parsed:\n",
    "        after_parsed = int(before_parsed.strip('$').replace(',', \"\"))\n",
    "    else:\n",
    "        after_parsed = int(int(before_parsed.strip('€').replace(',', \"\")) * 1.14)\n",
    "    return after_parsed"
   ]
  },
  {
   "cell_type": "code",
   "execution_count": 9,
   "metadata": {
    "id": "2Vd4NFiQkou2"
   },
   "outputs": [
    {
     "data": {
      "text/html": [
       "<div>\n",
       "<style scoped>\n",
       "    .dataframe tbody tr th:only-of-type {\n",
       "        vertical-align: middle;\n",
       "    }\n",
       "\n",
       "    .dataframe tbody tr th {\n",
       "        vertical-align: top;\n",
       "    }\n",
       "\n",
       "    .dataframe thead th {\n",
       "        text-align: right;\n",
       "    }\n",
       "</style>\n",
       "<table border=\"1\" class=\"dataframe\">\n",
       "  <thead>\n",
       "    <tr style=\"text-align: right;\">\n",
       "      <th></th>\n",
       "      <th>Movie_Title</th>\n",
       "      <th>Movie_ID</th>\n",
       "      <th>Budget</th>\n",
       "      <th>Cast</th>\n",
       "      <th>Crew</th>\n",
       "      <th>Studios</th>\n",
       "      <th>Genre</th>\n",
       "      <th>Keywords</th>\n",
       "      <th>Languages</th>\n",
       "      <th>Countries</th>\n",
       "      <th>Release_Data</th>\n",
       "      <th>Runtime</th>\n",
       "      <th>Gross_worldwide</th>\n",
       "      <th>Rating</th>\n",
       "      <th>Rating_Count</th>\n",
       "      <th>ListOfCertificate</th>\n",
       "    </tr>\n",
       "  </thead>\n",
       "  <tbody>\n",
       "    <tr>\n",
       "      <th>0</th>\n",
       "      <td>Star Wars: Episode VII - The Force Awakens</td>\n",
       "      <td>2488496</td>\n",
       "      <td>245000000</td>\n",
       "      <td>Daisy Ridley,John Boyega,Oscar Isaac,Domhnall ...</td>\n",
       "      <td>Lawrence Kasdan,Michael Arndt,J.J. Abrams</td>\n",
       "      <td>Lucasfilm,Bad Robot,Truenorth Productions</td>\n",
       "      <td>Action,Adventure,Sci-Fi</td>\n",
       "      <td>reboot,sanitation employee,remake,crash landin...</td>\n",
       "      <td>English</td>\n",
       "      <td>United States</td>\n",
       "      <td>2015-12-18</td>\n",
       "      <td>2 hours 18 minutes</td>\n",
       "      <td>2069521700</td>\n",
       "      <td>7.8</td>\n",
       "      <td>893K</td>\n",
       "      <td>PG-13</td>\n",
       "    </tr>\n",
       "    <tr>\n",
       "      <th>1</th>\n",
       "      <td>Frozen II</td>\n",
       "      <td>4520988</td>\n",
       "      <td>150000000</td>\n",
       "      <td>Kristen Bell,Idina Menzel,Josh Gad,Jonathan Gr...</td>\n",
       "      <td>Jennifer Lee,Hans Christian Andersen,Chris Buck</td>\n",
       "      <td>Walt Disney Animation Studios,Walt Disney Pict...</td>\n",
       "      <td>Animation,Adventure,Comedy,Family,Fantasy,Musical</td>\n",
       "      <td>autumn,anthropomorphic snowman,princess,disney...</td>\n",
       "      <td>English</td>\n",
       "      <td>United States</td>\n",
       "      <td>2019-11-22</td>\n",
       "      <td>1 hour 43 minutes</td>\n",
       "      <td>1450026933</td>\n",
       "      <td>6.8</td>\n",
       "      <td>156K</td>\n",
       "      <td>PG</td>\n",
       "    </tr>\n",
       "    <tr>\n",
       "      <th>2</th>\n",
       "      <td>The Dark Knight Rises</td>\n",
       "      <td>1345836</td>\n",
       "      <td>250000000</td>\n",
       "      <td>Christian Bale,Tom Hardy,Anne Hathaway,Gary Ol...</td>\n",
       "      <td>Jonathan Nolan,Christopher Nolan,David S. Goyer</td>\n",
       "      <td>Warner Bros.,Legendary Entertainment,DC Entert...</td>\n",
       "      <td>Action,Crime,Drama</td>\n",
       "      <td>dc comics,batman character,bruce wayne charact...</td>\n",
       "      <td>English,Arabic</td>\n",
       "      <td>United Kingdom,United States</td>\n",
       "      <td>2012-07-27</td>\n",
       "      <td>2 hours 44 minutes</td>\n",
       "      <td>1081142612</td>\n",
       "      <td>8.4</td>\n",
       "      <td>1.6M</td>\n",
       "      <td>PG-13</td>\n",
       "    </tr>\n",
       "    <tr>\n",
       "      <th>3</th>\n",
       "      <td>Beauty and the Beast</td>\n",
       "      <td>2771200</td>\n",
       "      <td>160000000</td>\n",
       "      <td>Emma Watson,Dan Stevens,Luke Evans,Josh Gad,Ke...</td>\n",
       "      <td>Evan Spiliotopoulos,Bill Condon,Stephen Chbosk...</td>\n",
       "      <td>Mandeville Films,Walt Disney Pictures</td>\n",
       "      <td>Adventure,Family,Fantasy,Musical,Romance</td>\n",
       "      <td>beast,fairy tale,heroine,beast's heart,remake ...</td>\n",
       "      <td>English</td>\n",
       "      <td>United States</td>\n",
       "      <td>2017-03-17</td>\n",
       "      <td>2 hours 9 minutes</td>\n",
       "      <td>1273576220</td>\n",
       "      <td>7.1</td>\n",
       "      <td>293K</td>\n",
       "      <td>PG</td>\n",
       "    </tr>\n",
       "    <tr>\n",
       "      <th>4</th>\n",
       "      <td>Finding Dory</td>\n",
       "      <td>2277860</td>\n",
       "      <td>200000000</td>\n",
       "      <td>Ellen DeGeneres,Albert Brooks,Ed O'Neill,Kaitl...</td>\n",
       "      <td>Angus MacLane,Victoria Strouse,Andrew Stanton</td>\n",
       "      <td>Pixar Animation Studios,Walt Disney Pictures</td>\n",
       "      <td>Animation,Adventure,Comedy,Family</td>\n",
       "      <td>fish,ocean,whale,octopus driving a truck,talki...</td>\n",
       "      <td>English,Indonesian</td>\n",
       "      <td>United States</td>\n",
       "      <td>2016-06-17</td>\n",
       "      <td>1 hour 37 minutes</td>\n",
       "      <td>1028570942</td>\n",
       "      <td>7.3</td>\n",
       "      <td>259K</td>\n",
       "      <td>PG</td>\n",
       "    </tr>\n",
       "  </tbody>\n",
       "</table>\n",
       "</div>"
      ],
      "text/plain": [
       "                                  Movie_Title  Movie_ID     Budget  \\\n",
       "0  Star Wars: Episode VII - The Force Awakens   2488496  245000000   \n",
       "1                                   Frozen II   4520988  150000000   \n",
       "2                       The Dark Knight Rises   1345836  250000000   \n",
       "3                        Beauty and the Beast   2771200  160000000   \n",
       "4                                Finding Dory   2277860  200000000   \n",
       "\n",
       "                                                Cast  \\\n",
       "0  Daisy Ridley,John Boyega,Oscar Isaac,Domhnall ...   \n",
       "1  Kristen Bell,Idina Menzel,Josh Gad,Jonathan Gr...   \n",
       "2  Christian Bale,Tom Hardy,Anne Hathaway,Gary Ol...   \n",
       "3  Emma Watson,Dan Stevens,Luke Evans,Josh Gad,Ke...   \n",
       "4  Ellen DeGeneres,Albert Brooks,Ed O'Neill,Kaitl...   \n",
       "\n",
       "                                                Crew  \\\n",
       "0          Lawrence Kasdan,Michael Arndt,J.J. Abrams   \n",
       "1    Jennifer Lee,Hans Christian Andersen,Chris Buck   \n",
       "2    Jonathan Nolan,Christopher Nolan,David S. Goyer   \n",
       "3  Evan Spiliotopoulos,Bill Condon,Stephen Chbosk...   \n",
       "4      Angus MacLane,Victoria Strouse,Andrew Stanton   \n",
       "\n",
       "                                             Studios  \\\n",
       "0          Lucasfilm,Bad Robot,Truenorth Productions   \n",
       "1  Walt Disney Animation Studios,Walt Disney Pict...   \n",
       "2  Warner Bros.,Legendary Entertainment,DC Entert...   \n",
       "3              Mandeville Films,Walt Disney Pictures   \n",
       "4       Pixar Animation Studios,Walt Disney Pictures   \n",
       "\n",
       "                                               Genre  \\\n",
       "0                            Action,Adventure,Sci-Fi   \n",
       "1  Animation,Adventure,Comedy,Family,Fantasy,Musical   \n",
       "2                                 Action,Crime,Drama   \n",
       "3           Adventure,Family,Fantasy,Musical,Romance   \n",
       "4                  Animation,Adventure,Comedy,Family   \n",
       "\n",
       "                                            Keywords           Languages  \\\n",
       "0  reboot,sanitation employee,remake,crash landin...             English   \n",
       "1  autumn,anthropomorphic snowman,princess,disney...             English   \n",
       "2  dc comics,batman character,bruce wayne charact...      English,Arabic   \n",
       "3  beast,fairy tale,heroine,beast's heart,remake ...             English   \n",
       "4  fish,ocean,whale,octopus driving a truck,talki...  English,Indonesian   \n",
       "\n",
       "                      Countries Release_Data             Runtime  \\\n",
       "0                 United States   2015-12-18  2 hours 18 minutes   \n",
       "1                 United States   2019-11-22   1 hour 43 minutes   \n",
       "2  United Kingdom,United States   2012-07-27  2 hours 44 minutes   \n",
       "3                 United States   2017-03-17   2 hours 9 minutes   \n",
       "4                 United States   2016-06-17   1 hour 37 minutes   \n",
       "\n",
       "   Gross_worldwide  Rating Rating_Count ListOfCertificate  \n",
       "0       2069521700     7.8         893K             PG-13  \n",
       "1       1450026933     6.8         156K                PG  \n",
       "2       1081142612     8.4         1.6M             PG-13  \n",
       "3       1273576220     7.1         293K                PG  \n",
       "4       1028570942     7.3         259K                PG  "
      ]
     },
     "execution_count": 9,
     "metadata": {},
     "output_type": "execute_result"
    }
   ],
   "source": [
    "a['Budget'] = a['Budget'].apply(parse_currency)\n",
    "a['Gross_worldwide'] = a['Gross_worldwide'].apply(parse_currency)\n",
    "a.head()"
   ]
  },
  {
   "cell_type": "markdown",
   "metadata": {
    "id": "exTJnmaDjAnJ"
   },
   "source": [
    "## Multivalued Attributes\n",
    "\n",
    "Multivalued data is seperated by comma `,`\n",
    "\n",
    "`Cast`, `Genre`, `Studios`, `ListOfCertificate`, `Keywords`, `Languages`, `Countries` are multivalued so we convert them to `List` data structure"
   ]
  },
  {
   "cell_type": "code",
   "execution_count": 10,
   "metadata": {
    "id": "196tbNwKlTzf"
   },
   "outputs": [],
   "source": [
    "def parse_multi_value(field_value):\n",
    "    array_value = field_value.split(',')\n",
    "    if '' in array_value:\n",
    "        return []\n",
    "    return array_value"
   ]
  },
  {
   "cell_type": "code",
   "execution_count": 11,
   "metadata": {
    "id": "q_df6aHWlXNT"
   },
   "outputs": [],
   "source": [
    "cols = ['Cast', 'Genre', 'Studios', 'ListOfCertificate', 'Keywords', 'Languages', 'Countries', 'Crew']\n",
    "for col in cols:\n",
    "    a[col] = a[col].apply(parse_multi_value)"
   ]
  },
  {
   "cell_type": "markdown",
   "metadata": {},
   "source": [
    "Note!\n",
    "After change to list we will need this function this to load again in another part"
   ]
  },
  {
   "cell_type": "code",
   "execution_count": 12,
   "metadata": {},
   "outputs": [
    {
     "data": {
      "text/plain": [
       "\"\\n\\nimport ast\\ncols =['Cast', 'Genre', 'Studios', 'ListOfCertificate','Keywords', 'Languages', 'Countries']\\nfor col in cols:\\n    a[col]=a[col].apply(ast.literal_eval)\\n    \\n\""
      ]
     },
     "execution_count": 12,
     "metadata": {},
     "output_type": "execute_result"
    }
   ],
   "source": [
    "\"\"\"\n",
    "\n",
    "import ast\n",
    "cols =['Cast', 'Genre', 'Studios', 'ListOfCertificate','Keywords', 'Languages', 'Countries']\n",
    "for col in cols:\n",
    "    a[col]=a[col].apply(ast.literal_eval)\n",
    "    \n",
    "\"\"\""
   ]
  },
  {
   "cell_type": "markdown",
   "metadata": {},
   "source": [
    "Process wrong values in `ListOfCertificate`"
   ]
  },
  {
   "cell_type": "code",
   "execution_count": 13,
   "metadata": {},
   "outputs": [],
   "source": [
    "def get_unique_certificates(dataframe):\n",
    "    certificates = set()\n",
    "    for i in dataframe['ListOfCertificate']:\n",
    "        for y in i:\n",
    "            certificates.add(y)\n",
    "    return certificates"
   ]
  },
  {
   "cell_type": "code",
   "execution_count": 14,
   "metadata": {},
   "outputs": [
    {
     "data": {
      "text/plain": [
       "{'G', 'GP', 'M', 'M/PG', 'NC-17', 'PG', 'PG-13', 'R', 'X'}"
      ]
     },
     "execution_count": 14,
     "metadata": {},
     "output_type": "execute_result"
    }
   ],
   "source": [
    "get_unique_certificates(a)"
   ]
  },
  {
   "cell_type": "markdown",
   "metadata": {},
   "source": [
    "Some of those certificates are out of date and does not follow MPAA's newest policy. They should be replaced:\n",
    "\n",
    "- M, GP and M/PG replaced by PG\n",
    "\n",
    "- X replaced by NC-17"
   ]
  },
  {
   "cell_type": "code",
   "execution_count": 15,
   "metadata": {},
   "outputs": [],
   "source": [
    "def update_certificates(certificates):\n",
    "    new_certificates = set()\n",
    "    type1 = ['M', 'GP', 'M/PG']\n",
    "    type2 = ['X']\n",
    "    for i in certificates:\n",
    "        if i in type1:\n",
    "            new_certificates.add('PG')\n",
    "        elif i in type2:\n",
    "            new_certificates.add('NC-17')\n",
    "        else:\n",
    "            new_certificates.add(i)\n",
    "    return list(new_certificates)"
   ]
  },
  {
   "cell_type": "code",
   "execution_count": 16,
   "metadata": {},
   "outputs": [
    {
     "data": {
      "text/plain": [
       "{'G', 'NC-17', 'PG', 'PG-13', 'R'}"
      ]
     },
     "execution_count": 16,
     "metadata": {},
     "output_type": "execute_result"
    }
   ],
   "source": [
    "a['ListOfCertificate'] = a['ListOfCertificate'].apply(update_certificates)\n",
    "get_unique_certificates(a)"
   ]
  },
  {
   "cell_type": "markdown",
   "metadata": {
    "id": "N4TygV3wl6PC"
   },
   "source": [
    "## Multivalued attributes with gross and count\n",
    "\n",
    "1. Input\n",
    "- `dataframe`: Dataframe need to be process\n",
    "- `col_name`: Name of the column to process, `Cast`, `Genre` and `Studios` for example\n",
    "\n",
    "2. Output\n",
    "- Output: Dataframe contains information related to the columns combined with Money and Count"
   ]
  },
  {
   "cell_type": "code",
   "execution_count": 17,
   "metadata": {
    "id": "cpp79IVTjAnK",
    "pycharm": {
     "name": "#%%\n"
    }
   },
   "outputs": [],
   "source": [
    "def parseWithMoneyAndCount(dataframe, col_name):\n",
    "    result = []\n",
    "    count = []\n",
    "    gross = []\n",
    "    for i, record in enumerate(dataframe[col_name]):\n",
    "        for x in record:\n",
    "            # Save results to corresponding array\n",
    "            result.append(x)\n",
    "            gross.append(dataframe['Gross_worldwide'][i])\n",
    "            count.append(1)\n",
    "    # Make dataframe\n",
    "    t = pd.DataFrame({col_name: result, 'Money': gross, 'Count': count})\n",
    "    # Remove duplicates and sum corresponding columns\n",
    "    result = t.groupby(col_name).sum()\n",
    "    # Rearrange dataframe\n",
    "    sort_by_money = result.sort_values('Money', ascending=False)\n",
    "    return sort_by_money"
   ]
  },
  {
   "cell_type": "markdown",
   "metadata": {
    "id": "eNtvWVxpjAnQ"
   },
   "source": [
    "## Chuẩn hóa lại dữ liệu dạng thời gian\n",
    "### 1. Dữ liệu cột runtime dạng giờ-phút\n",
    "Hàm chuyển thời gian về dạng phút"
   ]
  },
  {
   "cell_type": "code",
   "execution_count": 18,
   "metadata": {
    "id": "2bgDWlBijAnQ",
    "scrolled": true
   },
   "outputs": [],
   "source": [
    "def convertTime(time):\n",
    "    time = str(time)\n",
    "    # Loại bỏ khoảng trắng\n",
    "    time = time.replace(\" \", \"\")\n",
    "    # nếu trong chuỗi có chứa 'hour' -> có 2 khả năng là chuỗi có chứa 'hours' hoặc 'hour' \n",
    "    if \"hour\" in time:\n",
    "        hours = 0\n",
    "        # Nếu chuỗi chứa 'hours', loại bỏ 'hours' và lấy ký tự đầu tiên nhân với 60\n",
    "        if \"hours\" in time:\n",
    "            hours = int(time[0]) * 60\n",
    "            after_eliminate_hour = time.replace(\"hours\", \"\")\n",
    "        else:\n",
    "            # Nếu không thì nghĩa là ký tự đầu tiên bằng 1 => 60 phút\n",
    "            hours = 60\n",
    "            after_eliminate_hour = time.replace(\"hour\", \"\")\n",
    "        minutes = 0\n",
    "        # Sau đó lấy số phút đó cộng với số phút nếu có đằng sau \n",
    "        if \"minute\" in after_eliminate_hour:\n",
    "            if \"minutes\" in after_eliminate_hour:\n",
    "                minutes = int(after_eliminate_hour.replace(\"minutes\", \"\")[1:])\n",
    "            else:\n",
    "                minutes = 1\n",
    "        return int(hours) + int(minutes)\n",
    "    # Nếu chuỗi không chứa 'hour' -> chỉ cần loại bỏ chuỗi 'minutes' rồi chuyển về int là xong\n",
    "    else:\n",
    "        return int(time.replace(\"minutes\", \"\"))"
   ]
  },
  {
   "cell_type": "markdown",
   "metadata": {
    "id": "On2HmskbnVHB"
   },
   "source": [
    "Chuẩn hóa thời gian cho bộ dữ liệu"
   ]
  },
  {
   "cell_type": "code",
   "execution_count": 19,
   "metadata": {
    "id": "pnJVx-K3nWM3"
   },
   "outputs": [],
   "source": [
    "a['Runtime'] = a['Runtime'].apply(convertTime)"
   ]
  },
  {
   "cell_type": "code",
   "execution_count": 20,
   "metadata": {},
   "outputs": [
    {
     "data": {
      "text/plain": [
       "100    259\n",
       "97     258\n",
       "96     245\n",
       "101    244\n",
       "95     236\n",
       "      ... \n",
       "64       1\n",
       "288      1\n",
       "207      1\n",
       "60       1\n",
       "194      1\n",
       "Name: Runtime, Length: 160, dtype: int64"
      ]
     },
     "execution_count": 20,
     "metadata": {},
     "output_type": "execute_result"
    }
   ],
   "source": [
    "a['Runtime'].value_counts()"
   ]
  },
  {
   "cell_type": "markdown",
   "metadata": {
    "id": "6PRG4fG1jAnQ"
   },
   "source": [
    "### 2. Dữ liệu cột release_date dạng ngày tháng năm\n",
    "Tách ngày, tháng, năm của từng bộ phim"
   ]
  },
  {
   "cell_type": "code",
   "execution_count": 21,
   "metadata": {
    "id": "t4XQZGCujAnR",
    "scrolled": true
   },
   "outputs": [],
   "source": [
    "a['Release_Data'] = pd.to_datetime(a['Release_Data'], format='%Y-%m-%d')\n",
    "a['Release_Year'] = a['Release_Data'].apply(lambda x: x.year)\n",
    "a['Release_Month'] = a['Release_Data'].apply(lambda x: x.month)\n",
    "a['Release_Day'] = a['Release_Data'].apply(lambda x: x.day)"
   ]
  },
  {
   "cell_type": "markdown",
   "metadata": {
    "id": "HmgEZbJCjAnR"
   },
   "source": [
    "## Xử lý dữ liệu cột Rating và Rating_Count\n",
    "- Hàm chuẩn hóa lại dữ liệu cột Rating_Count và chuyển dữ liệu cột Rating về float"
   ]
  },
  {
   "cell_type": "code",
   "execution_count": 22,
   "metadata": {
    "id": "ppHXAhfKndcv"
   },
   "outputs": [],
   "source": [
    "def convertRatingCount(rating_count):\n",
    "    rate = str(rating_count)\n",
    "    if 'M' in rate:\n",
    "        return int(float(rate.replace(\"M\", \"\")) * 1000000)\n",
    "    elif 'K' in rate:\n",
    "        return int(float(rate.replace(\"K\", \"\")) * 1000)\n",
    "    else:\n",
    "        return int(rate)"
   ]
  },
  {
   "cell_type": "code",
   "execution_count": 23,
   "metadata": {
    "id": "rnwq8LIujAnR"
   },
   "outputs": [],
   "source": [
    "# Đưa dữ liệu cột rating_count về integer\n",
    "a['Rating_Count'] = a['Rating_Count'].apply(convertRatingCount)\n",
    "# Đưa dữ liệu cột rating về dạng float\n",
    "a['Rating'] = a['Rating'].astype(float)"
   ]
  },
  {
   "cell_type": "markdown",
   "metadata": {},
   "source": [
    "## Xử lý trường có giá trị 0"
   ]
  },
  {
   "cell_type": "markdown",
   "metadata": {},
   "source": [
    "Fill 0 values:\n",
    "\n",
    "| Attribute           | Fill with |\n",
    "|---------------------|-----------|\n",
    "| `Budget`            | Min       |\n",
    "| `Runtime`           | Mean      |"
   ]
  },
  {
   "cell_type": "code",
   "execution_count": 24,
   "metadata": {},
   "outputs": [],
   "source": [
    "## Find Budget 0\n",
    "indexNZero = list(a[a['Budget'] != 0].index)\n",
    "indexZero = list(a[a['Budget'] == 0].index)\n",
    "min = np.min(list(a.iloc[indexNZero]['Budget']))\n",
    "a['Budget'] = a['Budget'].apply(lambda x: min if x == 0 else x)\n",
    "## Find Runtime 0\n",
    "indexNZero = list(a[a['Runtime'] != 0].index)\n",
    "indexZero = list(a[a['Runtime'] == 0].index)\n",
    "mean = np.mean(list(a.iloc[indexNZero]['Runtime']))\n",
    "a['Runtime'] = a['Runtime'].apply(lambda x: mean if x == 0 else x)"
   ]
  },
  {
   "cell_type": "markdown",
   "metadata": {
    "id": "T_RnMX-ujAnT"
   },
   "source": [
    "## Xuất ra file CSV"
   ]
  },
  {
   "cell_type": "code",
   "execution_count": 25,
   "metadata": {
    "id": "GRYz9GKzjAnT",
    "pycharm": {
     "name": "#%%\n"
    }
   },
   "outputs": [],
   "source": [
    "a.to_csv(\"../dataset/processed/cleaned_data.csv\", index=False)"
   ]
  }
 ],
 "metadata": {
  "colab": {
   "collapsed_sections": [],
   "name": "Data Cleaning.ipynb",
   "provenance": []
  },
  "kernelspec": {
   "display_name": "Python 3 (ipykernel)",
   "language": "python",
   "name": "python3"
  },
  "language_info": {
   "codemirror_mode": {
    "name": "ipython",
    "version": 3
   },
   "file_extension": ".py",
   "mimetype": "text/x-python",
   "name": "python",
   "nbconvert_exporter": "python",
   "pygments_lexer": "ipython3",
   "version": "3.10.1"
  }
 },
 "nbformat": 4,
 "nbformat_minor": 1
}