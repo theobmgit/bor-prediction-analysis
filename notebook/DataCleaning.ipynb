{
 "cells": [
  {
   "cell_type": "markdown",
   "metadata": {
    "id": "b8sWwUpOjAnD"
   },
   "source": [
    "# Data Cleaning\n",
    "\n",
    "In this part we conduct data preprocessing"
   ]
  },
  {
   "cell_type": "code",
   "execution_count": 1,
   "metadata": {
    "id": "r_UOtvL-jAnF"
   },
   "outputs": [],
   "source": [
    "import pandas as pd\n",
    "import matplotlib.pyplot as plt\n",
    "pd.options.mode.chained_assignment = None"
   ]
  },
  {
   "cell_type": "code",
   "execution_count": 2,
   "metadata": {
    "colab": {
     "base_uri": "https://localhost:8080/",
     "height": 214
    },
    "id": "viREz1IfjAnH",
    "outputId": "49989aad-68df-4fb6-be53-f49fcf091e39"
   },
   "outputs": [
    {
     "data": {
      "text/html": [
       "<div>\n",
       "<style scoped>\n",
       "    .dataframe tbody tr th:only-of-type {\n",
       "        vertical-align: middle;\n",
       "    }\n",
       "\n",
       "    .dataframe tbody tr th {\n",
       "        vertical-align: top;\n",
       "    }\n",
       "\n",
       "    .dataframe thead th {\n",
       "        text-align: right;\n",
       "    }\n",
       "</style>\n",
       "<table border=\"1\" class=\"dataframe\">\n",
       "  <thead>\n",
       "    <tr style=\"text-align: right;\">\n",
       "      <th></th>\n",
       "      <th>Movie_Title</th>\n",
       "      <th>Movie_ID</th>\n",
       "      <th>Budget</th>\n",
       "      <th>Cast</th>\n",
       "      <th>Crew</th>\n",
       "      <th>Studios</th>\n",
       "      <th>Genre</th>\n",
       "      <th>Keywords</th>\n",
       "      <th>Languages</th>\n",
       "      <th>Countries</th>\n",
       "      <th>Release_Data</th>\n",
       "      <th>Runtime</th>\n",
       "      <th>Gross_worldwide</th>\n",
       "      <th>Rating</th>\n",
       "      <th>Rating_Count</th>\n",
       "      <th>ListOfCertificate</th>\n",
       "    </tr>\n",
       "  </thead>\n",
       "  <tbody>\n",
       "    <tr>\n",
       "      <th>0</th>\n",
       "      <td>Star Wars: Episode VII - The Force Awakens</td>\n",
       "      <td>2488496</td>\n",
       "      <td>$245,000,000</td>\n",
       "      <td>Daisy Ridley,John Boyega,Oscar Isaac,Domhnall ...</td>\n",
       "      <td>Lawrence Kasdan,Michael Arndt,J.J. Abrams</td>\n",
       "      <td>Lucasfilm,Bad Robot,Truenorth Productions</td>\n",
       "      <td>Action,Adventure,Sci-Fi</td>\n",
       "      <td>reboot,sanitation employee,remake,crash landin...</td>\n",
       "      <td>English</td>\n",
       "      <td>United States</td>\n",
       "      <td>2015-12-18</td>\n",
       "      <td>2 hours 18 minutes</td>\n",
       "      <td>$2,069,521,700</td>\n",
       "      <td>7.8</td>\n",
       "      <td>893K</td>\n",
       "      <td>PG-13</td>\n",
       "    </tr>\n",
       "  </tbody>\n",
       "</table>\n",
       "</div>"
      ],
      "text/plain": [
       "                                  Movie_Title  Movie_ID        Budget  \\\n",
       "0  Star Wars: Episode VII - The Force Awakens   2488496  $245,000,000   \n",
       "\n",
       "                                                Cast  \\\n",
       "0  Daisy Ridley,John Boyega,Oscar Isaac,Domhnall ...   \n",
       "\n",
       "                                        Crew  \\\n",
       "0  Lawrence Kasdan,Michael Arndt,J.J. Abrams   \n",
       "\n",
       "                                     Studios                    Genre  \\\n",
       "0  Lucasfilm,Bad Robot,Truenorth Productions  Action,Adventure,Sci-Fi   \n",
       "\n",
       "                                            Keywords Languages      Countries  \\\n",
       "0  reboot,sanitation employee,remake,crash landin...   English  United States   \n",
       "\n",
       "  Release_Data             Runtime Gross_worldwide  Rating Rating_Count  \\\n",
       "0   2015-12-18  2 hours 18 minutes  $2,069,521,700     7.8         893K   \n",
       "\n",
       "  ListOfCertificate  \n",
       "0             PG-13  "
      ]
     },
     "execution_count": 2,
     "metadata": {},
     "output_type": "execute_result"
    }
   ],
   "source": [
    "dataset_path = \"../dataset/\"\n",
    "data = pd.read_csv(dataset_path + \"data_joined.csv\")\n",
    "data=data.drop('Filming_Location',axis=1)\n",
    "a = data.dropna(axis=0)\n",
    "a.reset_index(drop=True,inplace=True)\n",
    "a.head(1)"
   ]
  },
  {
   "cell_type": "markdown",
   "metadata": {
    "id": "1MNNWNyRjAnH",
    "pycharm": {
     "name": "#%% md\n"
    }
   },
   "source": [
    "## Currency attribute\n",
    "\n",
    "**Input**: Input dataframe with unprocessed currency\n",
    "\n",
    "**Output**: Processed one"
   ]
  },
  {
   "cell_type": "markdown",
   "metadata": {
    "id": "7Evir8lZkOYZ"
   },
   "source": [
    "Currency type in Budget and Gross_Woldwide"
   ]
  },
  {
   "cell_type": "code",
   "execution_count": 3,
   "metadata": {
    "colab": {
     "base_uri": "https://localhost:8080/"
    },
    "id": "iv85JzoJkOGo",
    "outputId": "e085759f-1c08-483d-e8e7-32d021456b8d"
   },
   "outputs": [
    {
     "name": "stdout",
     "output_type": "stream",
     "text": [
      "{'€', '$'}\n",
      "{'$'}\n"
     ]
    }
   ],
   "source": [
    "currency=[str(s)[0] for s in a['Budget'].unique()]\n",
    "print(set(currency))\n",
    "currency=[str(s)[0] for s in a['Gross_worldwide'].unique()]\n",
    "print(set(currency))"
   ]
  },
  {
   "cell_type": "markdown",
   "metadata": {
    "id": "Ss0l11zRkXVR"
   },
   "source": [
    "Function use to parse money"
   ]
  },
  {
   "cell_type": "code",
   "execution_count": 4,
   "metadata": {
    "id": "tM7xMOrNjAnI",
    "pycharm": {
     "name": "#%%\n"
    }
   },
   "outputs": [],
   "source": [
    "def parseMoney(beforeParsed):\n",
    "    #Loại bỏ ký tự '$','€' và ',' trong xâu rồi chuyển về dạng integer\n",
    "    if '$' in beforeParsed:\n",
    "      afterParsed=int(beforeParsed.strip('$').replace(',',\"\"))\n",
    "    else:\n",
    "      afterParsed=int(int(beforeParsed.strip('€').replace(',',\"\"))*1.14)\n",
    "    return afterParsed"
   ]
  },
  {
   "cell_type": "markdown",
   "metadata": {
    "id": "kJ4O8MCikmNg"
   },
   "source": [
    "Convert currency"
   ]
  },
  {
   "cell_type": "code",
   "execution_count": 5,
   "metadata": {
    "id": "2Vd4NFiQkou2"
   },
   "outputs": [],
   "source": [
    "a['Budget']=a['Budget'].apply(parseMoney)\n",
    "a['Gross_worldwide']=a['Gross_worldwide'].apply(parseMoney)"
   ]
  },
  {
   "cell_type": "code",
   "execution_count": 6,
   "metadata": {
    "colab": {
     "base_uri": "https://localhost:8080/",
     "height": 214
    },
    "id": "ghp0UGuXkqgg",
    "outputId": "8458baaf-b336-4a1c-a5ee-e0c135819682"
   },
   "outputs": [
    {
     "data": {
      "text/html": [
       "<div>\n",
       "<style scoped>\n",
       "    .dataframe tbody tr th:only-of-type {\n",
       "        vertical-align: middle;\n",
       "    }\n",
       "\n",
       "    .dataframe tbody tr th {\n",
       "        vertical-align: top;\n",
       "    }\n",
       "\n",
       "    .dataframe thead th {\n",
       "        text-align: right;\n",
       "    }\n",
       "</style>\n",
       "<table border=\"1\" class=\"dataframe\">\n",
       "  <thead>\n",
       "    <tr style=\"text-align: right;\">\n",
       "      <th></th>\n",
       "      <th>Movie_Title</th>\n",
       "      <th>Movie_ID</th>\n",
       "      <th>Budget</th>\n",
       "      <th>Cast</th>\n",
       "      <th>Crew</th>\n",
       "      <th>Studios</th>\n",
       "      <th>Genre</th>\n",
       "      <th>Keywords</th>\n",
       "      <th>Languages</th>\n",
       "      <th>Countries</th>\n",
       "      <th>Release_Data</th>\n",
       "      <th>Runtime</th>\n",
       "      <th>Gross_worldwide</th>\n",
       "      <th>Rating</th>\n",
       "      <th>Rating_Count</th>\n",
       "      <th>ListOfCertificate</th>\n",
       "    </tr>\n",
       "  </thead>\n",
       "  <tbody>\n",
       "    <tr>\n",
       "      <th>0</th>\n",
       "      <td>Star Wars: Episode VII - The Force Awakens</td>\n",
       "      <td>2488496</td>\n",
       "      <td>245000000</td>\n",
       "      <td>Daisy Ridley,John Boyega,Oscar Isaac,Domhnall ...</td>\n",
       "      <td>Lawrence Kasdan,Michael Arndt,J.J. Abrams</td>\n",
       "      <td>Lucasfilm,Bad Robot,Truenorth Productions</td>\n",
       "      <td>Action,Adventure,Sci-Fi</td>\n",
       "      <td>reboot,sanitation employee,remake,crash landin...</td>\n",
       "      <td>English</td>\n",
       "      <td>United States</td>\n",
       "      <td>2015-12-18</td>\n",
       "      <td>2 hours 18 minutes</td>\n",
       "      <td>2069521700</td>\n",
       "      <td>7.8</td>\n",
       "      <td>893K</td>\n",
       "      <td>PG-13</td>\n",
       "    </tr>\n",
       "  </tbody>\n",
       "</table>\n",
       "</div>"
      ],
      "text/plain": [
       "                                  Movie_Title  Movie_ID     Budget  \\\n",
       "0  Star Wars: Episode VII - The Force Awakens   2488496  245000000   \n",
       "\n",
       "                                                Cast  \\\n",
       "0  Daisy Ridley,John Boyega,Oscar Isaac,Domhnall ...   \n",
       "\n",
       "                                        Crew  \\\n",
       "0  Lawrence Kasdan,Michael Arndt,J.J. Abrams   \n",
       "\n",
       "                                     Studios                    Genre  \\\n",
       "0  Lucasfilm,Bad Robot,Truenorth Productions  Action,Adventure,Sci-Fi   \n",
       "\n",
       "                                            Keywords Languages      Countries  \\\n",
       "0  reboot,sanitation employee,remake,crash landin...   English  United States   \n",
       "\n",
       "  Release_Data             Runtime  Gross_worldwide  Rating Rating_Count  \\\n",
       "0   2015-12-18  2 hours 18 minutes       2069521700     7.8         893K   \n",
       "\n",
       "  ListOfCertificate  \n",
       "0             PG-13  "
      ]
     },
     "execution_count": 6,
     "metadata": {},
     "output_type": "execute_result"
    }
   ],
   "source": [
    "a.head(1)"
   ]
  },
  {
   "cell_type": "markdown",
   "metadata": {
    "id": "exTJnmaDjAnJ"
   },
   "source": [
    "## Multivalued attributes\n",
    "\n",
    "Multivalued attributes is seperated by comma (,)\n",
    "\n",
    "- The fields Cast, Genre, Studios, ListOfCertificate, Keywords, Languages, Countries are multivalued so we change to **List** Data Structure"
   ]
  },
  {
   "cell_type": "code",
   "execution_count": 7,
   "metadata": {
    "id": "196tbNwKlTzf"
   },
   "outputs": [],
   "source": [
    "def convertToList(fieldValue):\n",
    "  arrayValue=fieldValue.split(',')\n",
    "  return arrayValue"
   ]
  },
  {
   "cell_type": "code",
   "execution_count": 8,
   "metadata": {
    "id": "q_df6aHWlXNT"
   },
   "outputs": [],
   "source": [
    "# Cast, Genre, Studios, ListOfCertificate\n",
    "cols =['Cast', 'Genre', 'Studios', 'ListOfCertificate','Keywords', 'Languages', 'Countries','Crew']\n",
    "for col in cols:\n",
    "  a[col]=a[col].apply(convertToList)"
   ]
  },
  {
   "cell_type": "markdown",
   "metadata": {},
   "source": [
    "Note!\n",
    "After change to list we will need this function this to load again in another part"
   ]
  },
  {
   "cell_type": "code",
   "execution_count": 9,
   "metadata": {},
   "outputs": [
    {
     "data": {
      "text/plain": [
       "\"\\n\\nimport ast\\ncols =['Cast', 'Genre', 'Studios', 'ListOfCertificate','Keywords', 'Languages', 'Countries']\\nfor col in cols:\\n    a[col]=a[col].apply(ast.literal_eval)\\n    \\n\""
      ]
     },
     "execution_count": 9,
     "metadata": {},
     "output_type": "execute_result"
    }
   ],
   "source": [
    "\"\"\"\n",
    "\n",
    "import ast\n",
    "cols =['Cast', 'Genre', 'Studios', 'ListOfCertificate','Keywords', 'Languages', 'Countries']\n",
    "for col in cols:\n",
    "    a[col]=a[col].apply(ast.literal_eval)\n",
    "    \n",
    "\"\"\""
   ]
  },
  {
   "cell_type": "markdown",
   "metadata": {},
   "source": [
    "- The fields ListOfCertificate are multivalued and also need to clean"
   ]
  },
  {
   "cell_type": "code",
   "execution_count": 10,
   "metadata": {},
   "outputs": [],
   "source": [
    "def getUniqueCer(dataframe):   \n",
    "    lCer=set()\n",
    "    for i in dataframe['ListOfCertificate']:\n",
    "        for y in i:\n",
    "            lCer.add(y)\n",
    "    return lCer"
   ]
  },
  {
   "cell_type": "code",
   "execution_count": 11,
   "metadata": {},
   "outputs": [
    {
     "data": {
      "text/plain": [
       "{'G', 'GP', 'M', 'M/PG', 'NC-17', 'PG', 'PG-13', 'R', 'X'}"
      ]
     },
     "execution_count": 11,
     "metadata": {},
     "output_type": "execute_result"
    }
   ],
   "source": [
    "getUniqueCer(a)"
   ]
  },
  {
   "cell_type": "markdown",
   "metadata": {},
   "source": [
    "Those certificate is out of date. Can be replace:\n",
    "\n",
    "- M, GP and M/PG are listed to PG\n",
    "\n",
    "- X replaced by NC-17"
   ]
  },
  {
   "cell_type": "code",
   "execution_count": 12,
   "metadata": {},
   "outputs": [],
   "source": [
    "def convertCertificate(certificates):\n",
    "    newCertificate=set()\n",
    "    type1=['M','GP','M/PG']\n",
    "    type2=['X']\n",
    "    for i in certificates:\n",
    "        if i in type1:\n",
    "            newCertificate.add('PG')\n",
    "        elif i in type2:\n",
    "            newCertificate.add('NC-17')\n",
    "        else:\n",
    "            newCertificate.add(i)\n",
    "    return list(newCertificate)"
   ]
  },
  {
   "cell_type": "code",
   "execution_count": 13,
   "metadata": {},
   "outputs": [
    {
     "data": {
      "text/plain": [
       "{'G', 'NC-17', 'PG', 'PG-13', 'R'}"
      ]
     },
     "execution_count": 13,
     "metadata": {},
     "output_type": "execute_result"
    }
   ],
   "source": [
    "a['ListOfCertificate']=a['ListOfCertificate'].apply(convertCertificate)\n",
    "getUniqueCer(a)"
   ]
  },
  {
   "cell_type": "markdown",
   "metadata": {
    "id": "N4TygV3wl6PC"
   },
   "source": [
    "## Process multivalued fields with Money and Count\n",
    "1. Input\n",
    "- Dataframe: Dataframe need to be process\n",
    "- Name: Name of the columns we want to process. In this project they are **Cast**, **Genre** or **Studios**\n",
    "\n",
    "2. Output\n",
    "- Output: DataFrame contains information related to the columns combined with Money and Count"
   ]
  },
  {
   "cell_type": "code",
   "execution_count": 14,
   "metadata": {
    "id": "cpp79IVTjAnK",
    "pycharm": {
     "name": "#%%\n"
    }
   },
   "outputs": [],
   "source": [
    "def parseWithMoneyAndCount(dataframe, colName):\n",
    "    result = []\n",
    "    count = []\n",
    "    gross = []\n",
    "    for i,record in enumerate(dataframe[colName]):\n",
    "      for x in record:\n",
    "        #Lưu kết quả vào mảng tương ứng\n",
    "          result.append(x)\n",
    "          gross.append(dataframe['Gross_worldwide'][i])\n",
    "          count.append(1)\n",
    "    #Tạo dataFrame\n",
    "    t = pd.DataFrame({colName:result, 'Money':gross, 'Count':count})\n",
    "    #Loại bỏ các giá trị trùng nhau và cộng các hàng tương ứng lại \n",
    "    result = t.groupby(colName).sum()\n",
    "    #Sắp xếp lại dataFrame\n",
    "    sort_by_money = result.sort_values('Money', ascending = False)\n",
    "    return sort_by_money"
   ]
  },
  {
   "cell_type": "markdown",
   "metadata": {
    "id": "UMjMWeeFjAnK",
    "pycharm": {
     "name": "#%% md\n"
    }
   },
   "source": [
    "## Xử lý dữ liệu với cột Cast, Genre, Studios, ListOfCertificate\n",
    "\n",
    "- Tách lấy thông tin cần thiết\n",
    "\n",
    "- Tính tổng số doanh thu của những bộ phim mà họ từng tham gia"
   ]
  },
  {
   "cell_type": "code",
   "execution_count": 15,
   "metadata": {
    "colab": {
     "base_uri": "https://localhost:8080/",
     "height": 455
    },
    "id": "J92UBxwYjAnL",
    "outputId": "2a80d9ef-05fb-4c86-eb4b-a42d85b69d58",
    "scrolled": true
   },
   "outputs": [
    {
     "data": {
      "text/html": [
       "<div>\n",
       "<style scoped>\n",
       "    .dataframe tbody tr th:only-of-type {\n",
       "        vertical-align: middle;\n",
       "    }\n",
       "\n",
       "    .dataframe tbody tr th {\n",
       "        vertical-align: top;\n",
       "    }\n",
       "\n",
       "    .dataframe thead th {\n",
       "        text-align: right;\n",
       "    }\n",
       "</style>\n",
       "<table border=\"1\" class=\"dataframe\">\n",
       "  <thead>\n",
       "    <tr style=\"text-align: right;\">\n",
       "      <th></th>\n",
       "      <th>Money</th>\n",
       "      <th>Count</th>\n",
       "    </tr>\n",
       "    <tr>\n",
       "      <th>Cast</th>\n",
       "      <th></th>\n",
       "      <th></th>\n",
       "    </tr>\n",
       "  </thead>\n",
       "  <tbody>\n",
       "    <tr>\n",
       "      <th>Samuel L. Jackson</th>\n",
       "      <td>18456068690</td>\n",
       "      <td>72</td>\n",
       "    </tr>\n",
       "    <tr>\n",
       "      <th>Robert Downey Jr.</th>\n",
       "      <td>15039939731</td>\n",
       "      <td>46</td>\n",
       "    </tr>\n",
       "    <tr>\n",
       "      <th>Scarlett Johansson</th>\n",
       "      <td>14258148970</td>\n",
       "      <td>40</td>\n",
       "    </tr>\n",
       "    <tr>\n",
       "      <th>Zoe Saldana</th>\n",
       "      <td>12244178786</td>\n",
       "      <td>26</td>\n",
       "    </tr>\n",
       "    <tr>\n",
       "      <th>Dwayne Johnson</th>\n",
       "      <td>11942043248</td>\n",
       "      <td>33</td>\n",
       "    </tr>\n",
       "    <tr>\n",
       "      <th>...</th>\n",
       "      <td>...</td>\n",
       "      <td>...</td>\n",
       "    </tr>\n",
       "    <tr>\n",
       "      <th>Thomas Carrigan</th>\n",
       "      <td>746</td>\n",
       "      <td>1</td>\n",
       "    </tr>\n",
       "    <tr>\n",
       "      <th>Celia Lovsky</th>\n",
       "      <td>210</td>\n",
       "      <td>1</td>\n",
       "    </tr>\n",
       "    <tr>\n",
       "      <th>Belle Mitchell</th>\n",
       "      <td>210</td>\n",
       "      <td>1</td>\n",
       "    </tr>\n",
       "    <tr>\n",
       "      <th>Leigh Taylor-Young</th>\n",
       "      <td>210</td>\n",
       "      <td>1</td>\n",
       "    </tr>\n",
       "    <tr>\n",
       "      <th>John Barclay</th>\n",
       "      <td>210</td>\n",
       "      <td>1</td>\n",
       "    </tr>\n",
       "  </tbody>\n",
       "</table>\n",
       "<p>46845 rows × 2 columns</p>\n",
       "</div>"
      ],
      "text/plain": [
       "                          Money  Count\n",
       "Cast                                  \n",
       "Samuel L. Jackson   18456068690     72\n",
       "Robert Downey Jr.   15039939731     46\n",
       "Scarlett Johansson  14258148970     40\n",
       "Zoe Saldana         12244178786     26\n",
       "Dwayne Johnson      11942043248     33\n",
       "...                         ...    ...\n",
       "Thomas Carrigan             746      1\n",
       "Celia Lovsky                210      1\n",
       "Belle Mitchell              210      1\n",
       "Leigh Taylor-Young          210      1\n",
       "John Barclay                210      1\n",
       "\n",
       "[46845 rows x 2 columns]"
      ]
     },
     "execution_count": 15,
     "metadata": {},
     "output_type": "execute_result"
    }
   ],
   "source": [
    "# phần Money trong hàm này cần được chuẩn hóa bằng hàm xử lý tiền tệ trước khi truyền vào\n",
    "cast = parseWithMoneyAndCount(a,'Cast')\n",
    "cast"
   ]
  },
  {
   "cell_type": "markdown",
   "metadata": {
    "id": "QVvRJwoxjAnM"
   },
   "source": [
    "Tương tự với cột Genre, Studios và ListOfCertificate"
   ]
  },
  {
   "cell_type": "code",
   "execution_count": 16,
   "metadata": {
    "colab": {
     "base_uri": "https://localhost:8080/",
     "height": 771
    },
    "id": "24HnuOqdjAnM",
    "outputId": "bccf7991-4b1d-42be-9272-4fbff96263b9"
   },
   "outputs": [
    {
     "data": {
      "text/html": [
       "<div>\n",
       "<style scoped>\n",
       "    .dataframe tbody tr th:only-of-type {\n",
       "        vertical-align: middle;\n",
       "    }\n",
       "\n",
       "    .dataframe tbody tr th {\n",
       "        vertical-align: top;\n",
       "    }\n",
       "\n",
       "    .dataframe thead th {\n",
       "        text-align: right;\n",
       "    }\n",
       "</style>\n",
       "<table border=\"1\" class=\"dataframe\">\n",
       "  <thead>\n",
       "    <tr style=\"text-align: right;\">\n",
       "      <th></th>\n",
       "      <th>Money</th>\n",
       "      <th>Count</th>\n",
       "    </tr>\n",
       "    <tr>\n",
       "      <th>Genre</th>\n",
       "      <th></th>\n",
       "      <th></th>\n",
       "    </tr>\n",
       "  </thead>\n",
       "  <tbody>\n",
       "    <tr>\n",
       "      <th>Adventure</th>\n",
       "      <td>287126772253</td>\n",
       "      <td>1260</td>\n",
       "    </tr>\n",
       "    <tr>\n",
       "      <th>Action</th>\n",
       "      <td>257211396402</td>\n",
       "      <td>1551</td>\n",
       "    </tr>\n",
       "    <tr>\n",
       "      <th>Comedy</th>\n",
       "      <td>206984038964</td>\n",
       "      <td>2268</td>\n",
       "    </tr>\n",
       "    <tr>\n",
       "      <th>Drama</th>\n",
       "      <td>202661234532</td>\n",
       "      <td>3003</td>\n",
       "    </tr>\n",
       "    <tr>\n",
       "      <th>Thriller</th>\n",
       "      <td>159883807756</td>\n",
       "      <td>1819</td>\n",
       "    </tr>\n",
       "    <tr>\n",
       "      <th>Sci-Fi</th>\n",
       "      <td>149409917064</td>\n",
       "      <td>761</td>\n",
       "    </tr>\n",
       "    <tr>\n",
       "      <th>Fantasy</th>\n",
       "      <td>146296058095</td>\n",
       "      <td>820</td>\n",
       "    </tr>\n",
       "    <tr>\n",
       "      <th>Family</th>\n",
       "      <td>130284457945</td>\n",
       "      <td>725</td>\n",
       "    </tr>\n",
       "    <tr>\n",
       "      <th>Romance</th>\n",
       "      <td>98429498497</td>\n",
       "      <td>1397</td>\n",
       "    </tr>\n",
       "    <tr>\n",
       "      <th>Crime</th>\n",
       "      <td>81562645524</td>\n",
       "      <td>1212</td>\n",
       "    </tr>\n",
       "    <tr>\n",
       "      <th>Animation</th>\n",
       "      <td>81188903181</td>\n",
       "      <td>331</td>\n",
       "    </tr>\n",
       "    <tr>\n",
       "      <th>Mystery</th>\n",
       "      <td>58390426707</td>\n",
       "      <td>694</td>\n",
       "    </tr>\n",
       "    <tr>\n",
       "      <th>Horror</th>\n",
       "      <td>37477650191</td>\n",
       "      <td>598</td>\n",
       "    </tr>\n",
       "    <tr>\n",
       "      <th>Musical</th>\n",
       "      <td>29400559273</td>\n",
       "      <td>191</td>\n",
       "    </tr>\n",
       "    <tr>\n",
       "      <th>Biography</th>\n",
       "      <td>24561154917</td>\n",
       "      <td>437</td>\n",
       "    </tr>\n",
       "    <tr>\n",
       "      <th>Music</th>\n",
       "      <td>18090451873</td>\n",
       "      <td>260</td>\n",
       "    </tr>\n",
       "    <tr>\n",
       "      <th>War</th>\n",
       "      <td>17380643151</td>\n",
       "      <td>236</td>\n",
       "    </tr>\n",
       "    <tr>\n",
       "      <th>History</th>\n",
       "      <td>16407579195</td>\n",
       "      <td>253</td>\n",
       "    </tr>\n",
       "    <tr>\n",
       "      <th>Sport</th>\n",
       "      <td>14184166302</td>\n",
       "      <td>244</td>\n",
       "    </tr>\n",
       "    <tr>\n",
       "      <th>Western</th>\n",
       "      <td>7099304356</td>\n",
       "      <td>112</td>\n",
       "    </tr>\n",
       "    <tr>\n",
       "      <th>Documentary</th>\n",
       "      <td>1830136020</td>\n",
       "      <td>52</td>\n",
       "    </tr>\n",
       "    <tr>\n",
       "      <th>News</th>\n",
       "      <td>49782012</td>\n",
       "      <td>1</td>\n",
       "    </tr>\n",
       "    <tr>\n",
       "      <th>Film-Noir</th>\n",
       "      <td>2288441</td>\n",
       "      <td>2</td>\n",
       "    </tr>\n",
       "  </tbody>\n",
       "</table>\n",
       "</div>"
      ],
      "text/plain": [
       "                    Money  Count\n",
       "Genre                           \n",
       "Adventure    287126772253   1260\n",
       "Action       257211396402   1551\n",
       "Comedy       206984038964   2268\n",
       "Drama        202661234532   3003\n",
       "Thriller     159883807756   1819\n",
       "Sci-Fi       149409917064    761\n",
       "Fantasy      146296058095    820\n",
       "Family       130284457945    725\n",
       "Romance       98429498497   1397\n",
       "Crime         81562645524   1212\n",
       "Animation     81188903181    331\n",
       "Mystery       58390426707    694\n",
       "Horror        37477650191    598\n",
       "Musical       29400559273    191\n",
       "Biography     24561154917    437\n",
       "Music         18090451873    260\n",
       "War           17380643151    236\n",
       "History       16407579195    253\n",
       "Sport         14184166302    244\n",
       "Western        7099304356    112\n",
       "Documentary    1830136020     52\n",
       "News             49782012      1\n",
       "Film-Noir         2288441      2"
      ]
     },
     "execution_count": 16,
     "metadata": {},
     "output_type": "execute_result"
    }
   ],
   "source": [
    "genre = parseWithMoneyAndCount(a,'Genre')\n",
    "genre"
   ]
  },
  {
   "cell_type": "code",
   "execution_count": 17,
   "metadata": {
    "colab": {
     "base_uri": "https://localhost:8080/",
     "height": 455
    },
    "id": "9K3EI9lXjAnM",
    "outputId": "76f3045a-5d84-4120-e58d-fadbfc2f5664",
    "scrolled": true
   },
   "outputs": [
    {
     "data": {
      "text/html": [
       "<div>\n",
       "<style scoped>\n",
       "    .dataframe tbody tr th:only-of-type {\n",
       "        vertical-align: middle;\n",
       "    }\n",
       "\n",
       "    .dataframe tbody tr th {\n",
       "        vertical-align: top;\n",
       "    }\n",
       "\n",
       "    .dataframe thead th {\n",
       "        text-align: right;\n",
       "    }\n",
       "</style>\n",
       "<table border=\"1\" class=\"dataframe\">\n",
       "  <thead>\n",
       "    <tr style=\"text-align: right;\">\n",
       "      <th></th>\n",
       "      <th>Money</th>\n",
       "      <th>Count</th>\n",
       "    </tr>\n",
       "    <tr>\n",
       "      <th>Studios</th>\n",
       "      <th></th>\n",
       "      <th></th>\n",
       "    </tr>\n",
       "  </thead>\n",
       "  <tbody>\n",
       "    <tr>\n",
       "      <th>Walt Disney Pictures</th>\n",
       "      <td>67988077450</td>\n",
       "      <td>186</td>\n",
       "    </tr>\n",
       "    <tr>\n",
       "      <th>Warner Bros.</th>\n",
       "      <td>62251946993</td>\n",
       "      <td>380</td>\n",
       "    </tr>\n",
       "    <tr>\n",
       "      <th>Universal Pictures</th>\n",
       "      <td>60582426477</td>\n",
       "      <td>409</td>\n",
       "    </tr>\n",
       "    <tr>\n",
       "      <th>Paramount Pictures</th>\n",
       "      <td>52117636071</td>\n",
       "      <td>355</td>\n",
       "    </tr>\n",
       "    <tr>\n",
       "      <th>Columbia Pictures</th>\n",
       "      <td>50418451892</td>\n",
       "      <td>355</td>\n",
       "    </tr>\n",
       "    <tr>\n",
       "      <th>...</th>\n",
       "      <td>...</td>\n",
       "      <td>...</td>\n",
       "    </tr>\n",
       "    <tr>\n",
       "      <th>Commonwealth Film Manufacturing</th>\n",
       "      <td>4550</td>\n",
       "      <td>1</td>\n",
       "    </tr>\n",
       "    <tr>\n",
       "      <th>New Coast Productions</th>\n",
       "      <td>4550</td>\n",
       "      <td>1</td>\n",
       "    </tr>\n",
       "    <tr>\n",
       "      <th>Elmer Enterprises</th>\n",
       "      <td>4534</td>\n",
       "      <td>1</td>\n",
       "    </tr>\n",
       "    <tr>\n",
       "      <th>World Entertainment</th>\n",
       "      <td>2735</td>\n",
       "      <td>1</td>\n",
       "    </tr>\n",
       "    <tr>\n",
       "      <th>Paramount Famous Lasky Corporation</th>\n",
       "      <td>746</td>\n",
       "      <td>1</td>\n",
       "    </tr>\n",
       "  </tbody>\n",
       "</table>\n",
       "<p>4312 rows × 2 columns</p>\n",
       "</div>"
      ],
      "text/plain": [
       "                                          Money  Count\n",
       "Studios                                               \n",
       "Walt Disney Pictures                67988077450    186\n",
       "Warner Bros.                        62251946993    380\n",
       "Universal Pictures                  60582426477    409\n",
       "Paramount Pictures                  52117636071    355\n",
       "Columbia Pictures                   50418451892    355\n",
       "...                                         ...    ...\n",
       "Commonwealth Film Manufacturing            4550      1\n",
       "New Coast Productions                      4550      1\n",
       "Elmer Enterprises                          4534      1\n",
       "World Entertainment                        2735      1\n",
       "Paramount Famous Lasky Corporation          746      1\n",
       "\n",
       "[4312 rows x 2 columns]"
      ]
     },
     "execution_count": 17,
     "metadata": {},
     "output_type": "execute_result"
    }
   ],
   "source": [
    "studio = parseWithMoneyAndCount(a,'Studios')\n",
    "studio"
   ]
  },
  {
   "cell_type": "code",
   "execution_count": 18,
   "metadata": {
    "colab": {
     "base_uri": "https://localhost:8080/",
     "height": 645
    },
    "id": "RBtqWD4ljAnN",
    "outputId": "d30804e8-6f6a-459e-fa5f-b1a07df4fad7"
   },
   "outputs": [
    {
     "data": {
      "text/html": [
       "<div>\n",
       "<style scoped>\n",
       "    .dataframe tbody tr th:only-of-type {\n",
       "        vertical-align: middle;\n",
       "    }\n",
       "\n",
       "    .dataframe tbody tr th {\n",
       "        vertical-align: top;\n",
       "    }\n",
       "\n",
       "    .dataframe thead th {\n",
       "        text-align: right;\n",
       "    }\n",
       "</style>\n",
       "<table border=\"1\" class=\"dataframe\">\n",
       "  <thead>\n",
       "    <tr style=\"text-align: right;\">\n",
       "      <th></th>\n",
       "      <th>Money</th>\n",
       "      <th>Count</th>\n",
       "    </tr>\n",
       "    <tr>\n",
       "      <th>ListOfCertificate</th>\n",
       "      <th></th>\n",
       "      <th></th>\n",
       "    </tr>\n",
       "  </thead>\n",
       "  <tbody>\n",
       "    <tr>\n",
       "      <th>PG-13</th>\n",
       "      <td>266649426461</td>\n",
       "      <td>1810</td>\n",
       "    </tr>\n",
       "    <tr>\n",
       "      <th>R</th>\n",
       "      <td>145322456967</td>\n",
       "      <td>2585</td>\n",
       "    </tr>\n",
       "    <tr>\n",
       "      <th>PG</th>\n",
       "      <td>134940788389</td>\n",
       "      <td>1100</td>\n",
       "    </tr>\n",
       "    <tr>\n",
       "      <th>G</th>\n",
       "      <td>25311167254</td>\n",
       "      <td>185</td>\n",
       "    </tr>\n",
       "    <tr>\n",
       "      <th>NC-17</th>\n",
       "      <td>755519496</td>\n",
       "      <td>19</td>\n",
       "    </tr>\n",
       "  </tbody>\n",
       "</table>\n",
       "</div>"
      ],
      "text/plain": [
       "                          Money  Count\n",
       "ListOfCertificate                     \n",
       "PG-13              266649426461   1810\n",
       "R                  145322456967   2585\n",
       "PG                 134940788389   1100\n",
       "G                   25311167254    185\n",
       "NC-17                 755519496     19"
      ]
     },
     "execution_count": 18,
     "metadata": {},
     "output_type": "execute_result"
    }
   ],
   "source": [
    "certificate = parseWithMoneyAndCount(a,'ListOfCertificate')\n",
    "certificate"
   ]
  },
  {
   "cell_type": "markdown",
   "metadata": {
    "id": "JRyaAOgxjAnN"
   },
   "source": [
    "## Xử lý dữ liệu cột Keywords, Languages, Countries\n",
    "Dữ liệu dạng này chủ yếu chỉ cần tách và xem xét đến độ phổ biến nên chỉ cần đếm số lượng"
   ]
  },
  {
   "cell_type": "code",
   "execution_count": 19,
   "metadata": {
    "id": "9mOLno36jAnN"
   },
   "outputs": [],
   "source": [
    "def parseWithCount(dataframe, name):\n",
    "    result = []\n",
    "    count = []\n",
    "    for record in dataframe[name]:\n",
    "      for x in record:\n",
    "        result.append(x)\n",
    "        count.append(1)\n",
    "    result = pd.DataFrame({name:result, 'Count':count})\n",
    "    #Loại bỏ trùng lặp \n",
    "    result = result.groupby(name).sum()\n",
    "    sort_by_count = result.sort_values('Count', ascending=False)\n",
    "    return sort_by_count"
   ]
  },
  {
   "cell_type": "markdown",
   "metadata": {
    "id": "3hfuA3rJjAnO"
   },
   "source": [
    "### Cột keywords"
   ]
  },
  {
   "cell_type": "code",
   "execution_count": 20,
   "metadata": {
    "colab": {
     "base_uri": "https://localhost:8080/",
     "height": 455
    },
    "id": "w5JY72Z6jAnO",
    "outputId": "a398690a-c127-4b0e-a781-f7e88ce77e11",
    "scrolled": false
   },
   "outputs": [
    {
     "data": {
      "text/html": [
       "<div>\n",
       "<style scoped>\n",
       "    .dataframe tbody tr th:only-of-type {\n",
       "        vertical-align: middle;\n",
       "    }\n",
       "\n",
       "    .dataframe tbody tr th {\n",
       "        vertical-align: top;\n",
       "    }\n",
       "\n",
       "    .dataframe thead th {\n",
       "        text-align: right;\n",
       "    }\n",
       "</style>\n",
       "<table border=\"1\" class=\"dataframe\">\n",
       "  <thead>\n",
       "    <tr style=\"text-align: right;\">\n",
       "      <th></th>\n",
       "      <th>Count</th>\n",
       "    </tr>\n",
       "    <tr>\n",
       "      <th>Keywords</th>\n",
       "      <th></th>\n",
       "    </tr>\n",
       "  </thead>\n",
       "  <tbody>\n",
       "    <tr>\n",
       "      <th>female nudity</th>\n",
       "      <td>115</td>\n",
       "    </tr>\n",
       "    <tr>\n",
       "      <th>new york city</th>\n",
       "      <td>110</td>\n",
       "    </tr>\n",
       "    <tr>\n",
       "      <th>female protagonist</th>\n",
       "      <td>107</td>\n",
       "    </tr>\n",
       "    <tr>\n",
       "      <th>murder</th>\n",
       "      <td>104</td>\n",
       "    </tr>\n",
       "    <tr>\n",
       "      <th>sex scene</th>\n",
       "      <td>99</td>\n",
       "    </tr>\n",
       "    <tr>\n",
       "      <th>...</th>\n",
       "      <td>...</td>\n",
       "    </tr>\n",
       "    <tr>\n",
       "      <th>hebrew</th>\n",
       "      <td>1</td>\n",
       "    </tr>\n",
       "    <tr>\n",
       "      <th>heavyweight champion</th>\n",
       "      <td>1</td>\n",
       "    </tr>\n",
       "    <tr>\n",
       "      <th>heavy water</th>\n",
       "      <td>1</td>\n",
       "    </tr>\n",
       "    <tr>\n",
       "      <th>heavy breathing</th>\n",
       "      <td>1</td>\n",
       "    </tr>\n",
       "    <tr>\n",
       "      <th>zorro</th>\n",
       "      <td>1</td>\n",
       "    </tr>\n",
       "  </tbody>\n",
       "</table>\n",
       "<p>10311 rows × 1 columns</p>\n",
       "</div>"
      ],
      "text/plain": [
       "                      Count\n",
       "Keywords                   \n",
       "female nudity           115\n",
       "new york city           110\n",
       "female protagonist      107\n",
       "murder                  104\n",
       "sex scene                99\n",
       "...                     ...\n",
       "hebrew                    1\n",
       "heavyweight champion      1\n",
       "heavy water               1\n",
       "heavy breathing           1\n",
       "zorro                     1\n",
       "\n",
       "[10311 rows x 1 columns]"
      ]
     },
     "execution_count": 20,
     "metadata": {},
     "output_type": "execute_result"
    }
   ],
   "source": [
    "keywords = parseWithCount(a,'Keywords')\n",
    "keywords"
   ]
  },
  {
   "cell_type": "markdown",
   "metadata": {
    "id": "wEr4x7FpjAnP"
   },
   "source": [
    "### Cột Languages"
   ]
  },
  {
   "cell_type": "code",
   "execution_count": 21,
   "metadata": {
    "colab": {
     "base_uri": "https://localhost:8080/",
     "height": 455
    },
    "id": "PvGiPHqkjAnP",
    "outputId": "fbbb5d13-5266-4d4c-d337-6dd06898366c",
    "scrolled": true
   },
   "outputs": [
    {
     "data": {
      "text/html": [
       "<div>\n",
       "<style scoped>\n",
       "    .dataframe tbody tr th:only-of-type {\n",
       "        vertical-align: middle;\n",
       "    }\n",
       "\n",
       "    .dataframe tbody tr th {\n",
       "        vertical-align: top;\n",
       "    }\n",
       "\n",
       "    .dataframe thead th {\n",
       "        text-align: right;\n",
       "    }\n",
       "</style>\n",
       "<table border=\"1\" class=\"dataframe\">\n",
       "  <thead>\n",
       "    <tr style=\"text-align: right;\">\n",
       "      <th></th>\n",
       "      <th>Count</th>\n",
       "    </tr>\n",
       "    <tr>\n",
       "      <th>Languages</th>\n",
       "      <th></th>\n",
       "    </tr>\n",
       "  </thead>\n",
       "  <tbody>\n",
       "    <tr>\n",
       "      <th>English</th>\n",
       "      <td>5469</td>\n",
       "    </tr>\n",
       "    <tr>\n",
       "      <th>Spanish</th>\n",
       "      <td>674</td>\n",
       "    </tr>\n",
       "    <tr>\n",
       "      <th>French</th>\n",
       "      <td>585</td>\n",
       "    </tr>\n",
       "    <tr>\n",
       "      <th>German</th>\n",
       "      <td>322</td>\n",
       "    </tr>\n",
       "    <tr>\n",
       "      <th>Italian</th>\n",
       "      <td>280</td>\n",
       "    </tr>\n",
       "    <tr>\n",
       "      <th>...</th>\n",
       "      <td>...</td>\n",
       "    </tr>\n",
       "    <tr>\n",
       "      <th>Cheyenne</th>\n",
       "      <td>1</td>\n",
       "    </tr>\n",
       "    <tr>\n",
       "      <th>Chechen</th>\n",
       "      <td>1</td>\n",
       "    </tr>\n",
       "    <tr>\n",
       "      <th>Saami</th>\n",
       "      <td>1</td>\n",
       "    </tr>\n",
       "    <tr>\n",
       "      <th>Samoan</th>\n",
       "      <td>1</td>\n",
       "    </tr>\n",
       "    <tr>\n",
       "      <th>Malayalam</th>\n",
       "      <td>1</td>\n",
       "    </tr>\n",
       "  </tbody>\n",
       "</table>\n",
       "<p>158 rows × 1 columns</p>\n",
       "</div>"
      ],
      "text/plain": [
       "           Count\n",
       "Languages       \n",
       "English     5469\n",
       "Spanish      674\n",
       "French       585\n",
       "German       322\n",
       "Italian      280\n",
       "...          ...\n",
       "Cheyenne       1\n",
       "Chechen        1\n",
       "Saami          1\n",
       "Samoan         1\n",
       "Malayalam      1\n",
       "\n",
       "[158 rows x 1 columns]"
      ]
     },
     "execution_count": 21,
     "metadata": {},
     "output_type": "execute_result"
    }
   ],
   "source": [
    "languages = parseWithCount(a, 'Languages')\n",
    "languages"
   ]
  },
  {
   "cell_type": "markdown",
   "metadata": {
    "id": "g9ZO45EDjAnP"
   },
   "source": [
    "### Cột Countries"
   ]
  },
  {
   "cell_type": "code",
   "execution_count": 22,
   "metadata": {
    "colab": {
     "base_uri": "https://localhost:8080/",
     "height": 455
    },
    "id": "tF3JJwxCjAnQ",
    "outputId": "c323e2c6-662a-4cd7-8e8b-65782a6910e7",
    "scrolled": true
   },
   "outputs": [
    {
     "data": {
      "text/html": [
       "<div>\n",
       "<style scoped>\n",
       "    .dataframe tbody tr th:only-of-type {\n",
       "        vertical-align: middle;\n",
       "    }\n",
       "\n",
       "    .dataframe tbody tr th {\n",
       "        vertical-align: top;\n",
       "    }\n",
       "\n",
       "    .dataframe thead th {\n",
       "        text-align: right;\n",
       "    }\n",
       "</style>\n",
       "<table border=\"1\" class=\"dataframe\">\n",
       "  <thead>\n",
       "    <tr style=\"text-align: right;\">\n",
       "      <th></th>\n",
       "      <th>Count</th>\n",
       "    </tr>\n",
       "    <tr>\n",
       "      <th>Countries</th>\n",
       "      <th></th>\n",
       "    </tr>\n",
       "  </thead>\n",
       "  <tbody>\n",
       "    <tr>\n",
       "      <th>United States</th>\n",
       "      <td>5158</td>\n",
       "    </tr>\n",
       "    <tr>\n",
       "      <th>United Kingdom</th>\n",
       "      <td>960</td>\n",
       "    </tr>\n",
       "    <tr>\n",
       "      <th>Canada</th>\n",
       "      <td>515</td>\n",
       "    </tr>\n",
       "    <tr>\n",
       "      <th>France</th>\n",
       "      <td>448</td>\n",
       "    </tr>\n",
       "    <tr>\n",
       "      <th>Germany</th>\n",
       "      <td>413</td>\n",
       "    </tr>\n",
       "    <tr>\n",
       "      <th>...</th>\n",
       "      <td>...</td>\n",
       "    </tr>\n",
       "    <tr>\n",
       "      <th>Jamaica</th>\n",
       "      <td>1</td>\n",
       "    </tr>\n",
       "    <tr>\n",
       "      <th>Kazakhstan</th>\n",
       "      <td>1</td>\n",
       "    </tr>\n",
       "    <tr>\n",
       "      <th>Lithuania</th>\n",
       "      <td>1</td>\n",
       "    </tr>\n",
       "    <tr>\n",
       "      <th>Liechtenstein</th>\n",
       "      <td>1</td>\n",
       "    </tr>\n",
       "    <tr>\n",
       "      <th>Afghanistan</th>\n",
       "      <td>1</td>\n",
       "    </tr>\n",
       "  </tbody>\n",
       "</table>\n",
       "<p>93 rows × 1 columns</p>\n",
       "</div>"
      ],
      "text/plain": [
       "                Count\n",
       "Countries            \n",
       "United States    5158\n",
       "United Kingdom    960\n",
       "Canada            515\n",
       "France            448\n",
       "Germany           413\n",
       "...               ...\n",
       "Jamaica             1\n",
       "Kazakhstan          1\n",
       "Lithuania           1\n",
       "Liechtenstein       1\n",
       "Afghanistan         1\n",
       "\n",
       "[93 rows x 1 columns]"
      ]
     },
     "execution_count": 22,
     "metadata": {},
     "output_type": "execute_result"
    }
   ],
   "source": [
    "countries = parseWithCount(a, 'Countries')\n",
    "countries"
   ]
  },
  {
   "cell_type": "markdown",
   "metadata": {
    "id": "eNtvWVxpjAnQ"
   },
   "source": [
    "## Chuẩn hóa lại dữ liệu dạng thời gian\n",
    "### 1. Dữ liệu cột runtime dạng giờ-phút\n",
    "Hàm chuyển thời gian về dạng phút"
   ]
  },
  {
   "cell_type": "code",
   "execution_count": 23,
   "metadata": {
    "id": "2bgDWlBijAnQ",
    "scrolled": true
   },
   "outputs": [],
   "source": [
    "def convertTime(time):\n",
    "    time = str(time)\n",
    "    # Loại bỏ khoảng trắng\n",
    "    time = time.replace(\" \", \"\")\n",
    "    # nếu trong chuỗi có chứa 'hour' -> có 2 khả năng là chuỗi có chứa 'hours' hoặc 'hour' \n",
    "    if \"hour\" in time:\n",
    "        hours = 0\n",
    "        # Nếu chuỗi chứa 'hours', loại bỏ 'hours' và lấy ký tự đầu tiên nhân với 60\n",
    "        if \"hours\" in time:\n",
    "            hours = int(time[0])*60\n",
    "            after_eliminate_hour = time.replace(\"hours\", \"\")\n",
    "        else:\n",
    "        # Nếu không thì nghĩa là ký tự đầu tiên bằng 1 => 60 phút\n",
    "            hours = 60\n",
    "            after_eliminate_hour = time.replace(\"hour\", \"\")\n",
    "        minutes = 0\n",
    "        # Sau đó lấy số phút đó cộng với số phút nếu có đằng sau \n",
    "        if \"minute\" in after_eliminate_hour:\n",
    "            if \"minutes\" in after_eliminate_hour:\n",
    "                minutes = int(after_eliminate_hour.replace(\"minutes\",\"\")[1:])\n",
    "            else:\n",
    "                minutes = 1\n",
    "        return hours+minutes\n",
    "    # Nếu chuỗi không chứa 'hour' -> chỉ cần loại bỏ chuỗi 'minutes' rồi chuyển về int là xong\n",
    "    else:\n",
    "      return int(time.replace(\"minutes\",\"\"))"
   ]
  },
  {
   "cell_type": "markdown",
   "metadata": {
    "id": "On2HmskbnVHB"
   },
   "source": [
    "Chuẩn hóa thời gian cho bộ dữ liệu"
   ]
  },
  {
   "cell_type": "code",
   "execution_count": 24,
   "metadata": {
    "id": "pnJVx-K3nWM3"
   },
   "outputs": [],
   "source": [
    "a['Runtime']=a['Runtime'].apply(convertTime)"
   ]
  },
  {
   "cell_type": "markdown",
   "metadata": {
    "id": "6PRG4fG1jAnQ"
   },
   "source": [
    "### 2. Dữ liệu cột release_date dạng ngày tháng năm\n",
    "Tách ngày, tháng, năm của từng bộ phim"
   ]
  },
  {
   "cell_type": "code",
   "execution_count": 25,
   "metadata": {
    "id": "t4XQZGCujAnR",
    "scrolled": true
   },
   "outputs": [],
   "source": [
    "a['Release_Data']=pd.to_datetime(a['Release_Data'], format='%Y-%m-%d')\n",
    "a=a.assign(Release_Year=a['Release_Data'].dt.year)\n",
    "a=a.assign(Release_Month=a['Release_Data'].dt.month)\n",
    "a=a.assign(Release_Day=a['Release_Data'].dt.day)"
   ]
  },
  {
   "cell_type": "markdown",
   "metadata": {
    "id": "HmgEZbJCjAnR"
   },
   "source": [
    "## Xử lý dữ liệu cột Rating và Rating_Count\n",
    "- Hàm chuẩn hóa lại dữ liệu cột Rating_Count và chuyển dữ liệu cột Rating về float"
   ]
  },
  {
   "cell_type": "code",
   "execution_count": 26,
   "metadata": {
    "id": "ppHXAhfKndcv"
   },
   "outputs": [],
   "source": [
    "def convertRatingCount(rating_count):\n",
    "  rate = str(rating_count)\n",
    "  if 'M' in rate:\n",
    "        return int(float(rate.replace(\"M\", \"\"))*1000000)\n",
    "  elif 'K' in rate:\n",
    "        return int(float(rate.replace(\"K\", \"\"))*1000)\n",
    "  else:\n",
    "        return int(rate)"
   ]
  },
  {
   "cell_type": "code",
   "execution_count": 27,
   "metadata": {
    "id": "rnwq8LIujAnR"
   },
   "outputs": [],
   "source": [
    "# Đưa dữ liệu cột rating_count về integer\n",
    "a['Rating_Count']=a['Rating_Count'].apply(convertRatingCount)\n",
    "# Đưa dữ liệu cột rating về dạng float\n",
    "a['Rating']=a['Rating'].astype(float)"
   ]
  },
  {
   "cell_type": "code",
   "execution_count": 28,
   "metadata": {
    "colab": {
     "base_uri": "https://localhost:8080/",
     "height": 1000
    },
    "id": "5XswQPkzjAnS",
    "outputId": "07e093fc-881b-4120-c60a-018212427584",
    "scrolled": true
   },
   "outputs": [
    {
     "data": {
      "text/html": [
       "<div>\n",
       "<style scoped>\n",
       "    .dataframe tbody tr th:only-of-type {\n",
       "        vertical-align: middle;\n",
       "    }\n",
       "\n",
       "    .dataframe tbody tr th {\n",
       "        vertical-align: top;\n",
       "    }\n",
       "\n",
       "    .dataframe thead th {\n",
       "        text-align: right;\n",
       "    }\n",
       "</style>\n",
       "<table border=\"1\" class=\"dataframe\">\n",
       "  <thead>\n",
       "    <tr style=\"text-align: right;\">\n",
       "      <th></th>\n",
       "      <th>Movie_Title</th>\n",
       "      <th>Movie_ID</th>\n",
       "      <th>Budget</th>\n",
       "      <th>Cast</th>\n",
       "      <th>Crew</th>\n",
       "      <th>Studios</th>\n",
       "      <th>Genre</th>\n",
       "      <th>Keywords</th>\n",
       "      <th>Languages</th>\n",
       "      <th>Countries</th>\n",
       "      <th>Release_Data</th>\n",
       "      <th>Runtime</th>\n",
       "      <th>Gross_worldwide</th>\n",
       "      <th>Rating</th>\n",
       "      <th>Rating_Count</th>\n",
       "      <th>ListOfCertificate</th>\n",
       "      <th>Release_Year</th>\n",
       "      <th>Release_Month</th>\n",
       "      <th>Release_Day</th>\n",
       "    </tr>\n",
       "  </thead>\n",
       "  <tbody>\n",
       "    <tr>\n",
       "      <th>0</th>\n",
       "      <td>Star Wars: Episode VII - The Force Awakens</td>\n",
       "      <td>2488496</td>\n",
       "      <td>245000000</td>\n",
       "      <td>[Daisy Ridley, John Boyega, Oscar Isaac, Domhn...</td>\n",
       "      <td>[Lawrence Kasdan, Michael Arndt, J.J. Abrams]</td>\n",
       "      <td>[Lucasfilm, Bad Robot, Truenorth Productions]</td>\n",
       "      <td>[Action, Adventure, Sci-Fi]</td>\n",
       "      <td>[reboot, sanitation employee, remake, crash la...</td>\n",
       "      <td>[English]</td>\n",
       "      <td>[United States]</td>\n",
       "      <td>2015-12-18</td>\n",
       "      <td>138</td>\n",
       "      <td>2069521700</td>\n",
       "      <td>7.8</td>\n",
       "      <td>893000</td>\n",
       "      <td>[PG-13]</td>\n",
       "      <td>2015</td>\n",
       "      <td>12</td>\n",
       "      <td>18</td>\n",
       "    </tr>\n",
       "    <tr>\n",
       "      <th>1</th>\n",
       "      <td>Frozen II</td>\n",
       "      <td>4520988</td>\n",
       "      <td>150000000</td>\n",
       "      <td>[Kristen Bell, Idina Menzel, Josh Gad, Jonatha...</td>\n",
       "      <td>[Jennifer Lee, Hans Christian Andersen, Chris ...</td>\n",
       "      <td>[Walt Disney Animation Studios, Walt Disney Pi...</td>\n",
       "      <td>[Animation, Adventure, Comedy, Family, Fantasy...</td>\n",
       "      <td>[autumn, anthropomorphic snowman, princess, di...</td>\n",
       "      <td>[English]</td>\n",
       "      <td>[United States]</td>\n",
       "      <td>2019-11-22</td>\n",
       "      <td>103</td>\n",
       "      <td>1450026933</td>\n",
       "      <td>6.8</td>\n",
       "      <td>156000</td>\n",
       "      <td>[PG]</td>\n",
       "      <td>2019</td>\n",
       "      <td>11</td>\n",
       "      <td>22</td>\n",
       "    </tr>\n",
       "    <tr>\n",
       "      <th>2</th>\n",
       "      <td>The Dark Knight Rises</td>\n",
       "      <td>1345836</td>\n",
       "      <td>250000000</td>\n",
       "      <td>[Christian Bale, Tom Hardy, Anne Hathaway, Gar...</td>\n",
       "      <td>[Jonathan Nolan, Christopher Nolan, David S. G...</td>\n",
       "      <td>[Warner Bros., Legendary Entertainment, DC Ent...</td>\n",
       "      <td>[Action, Crime, Drama]</td>\n",
       "      <td>[dc comics, batman character, bruce wayne char...</td>\n",
       "      <td>[English, Arabic]</td>\n",
       "      <td>[United Kingdom, United States]</td>\n",
       "      <td>2012-07-27</td>\n",
       "      <td>164</td>\n",
       "      <td>1081142612</td>\n",
       "      <td>8.4</td>\n",
       "      <td>1600000</td>\n",
       "      <td>[PG-13]</td>\n",
       "      <td>2012</td>\n",
       "      <td>7</td>\n",
       "      <td>27</td>\n",
       "    </tr>\n",
       "    <tr>\n",
       "      <th>3</th>\n",
       "      <td>Beauty and the Beast</td>\n",
       "      <td>2771200</td>\n",
       "      <td>160000000</td>\n",
       "      <td>[Emma Watson, Dan Stevens, Luke Evans, Josh Ga...</td>\n",
       "      <td>[Evan Spiliotopoulos, Bill Condon, Stephen Chb...</td>\n",
       "      <td>[Mandeville Films, Walt Disney Pictures]</td>\n",
       "      <td>[Adventure, Family, Fantasy, Musical, Romance]</td>\n",
       "      <td>[beast, fairy tale, heroine, beast's heart, re...</td>\n",
       "      <td>[English]</td>\n",
       "      <td>[United States]</td>\n",
       "      <td>2017-03-17</td>\n",
       "      <td>129</td>\n",
       "      <td>1273576220</td>\n",
       "      <td>7.1</td>\n",
       "      <td>293000</td>\n",
       "      <td>[PG]</td>\n",
       "      <td>2017</td>\n",
       "      <td>3</td>\n",
       "      <td>17</td>\n",
       "    </tr>\n",
       "    <tr>\n",
       "      <th>4</th>\n",
       "      <td>Finding Dory</td>\n",
       "      <td>2277860</td>\n",
       "      <td>200000000</td>\n",
       "      <td>[Ellen DeGeneres, Albert Brooks, Ed O'Neill, K...</td>\n",
       "      <td>[Angus MacLane, Victoria Strouse, Andrew Stanton]</td>\n",
       "      <td>[Pixar Animation Studios, Walt Disney Pictures]</td>\n",
       "      <td>[Animation, Adventure, Comedy, Family]</td>\n",
       "      <td>[fish, ocean, whale, octopus driving a truck, ...</td>\n",
       "      <td>[English, Indonesian]</td>\n",
       "      <td>[United States]</td>\n",
       "      <td>2016-06-17</td>\n",
       "      <td>97</td>\n",
       "      <td>1028570942</td>\n",
       "      <td>7.3</td>\n",
       "      <td>259000</td>\n",
       "      <td>[PG]</td>\n",
       "      <td>2016</td>\n",
       "      <td>6</td>\n",
       "      <td>17</td>\n",
       "    </tr>\n",
       "    <tr>\n",
       "      <th>...</th>\n",
       "      <td>...</td>\n",
       "      <td>...</td>\n",
       "      <td>...</td>\n",
       "      <td>...</td>\n",
       "      <td>...</td>\n",
       "      <td>...</td>\n",
       "      <td>...</td>\n",
       "      <td>...</td>\n",
       "      <td>...</td>\n",
       "      <td>...</td>\n",
       "      <td>...</td>\n",
       "      <td>...</td>\n",
       "      <td>...</td>\n",
       "      <td>...</td>\n",
       "      <td>...</td>\n",
       "      <td>...</td>\n",
       "      <td>...</td>\n",
       "      <td>...</td>\n",
       "      <td>...</td>\n",
       "    </tr>\n",
       "    <tr>\n",
       "      <th>5563</th>\n",
       "      <td>Avengers: Endgame</td>\n",
       "      <td>4154796</td>\n",
       "      <td>356000000</td>\n",
       "      <td>[Robert Downey Jr., Chris Evans, Mark Ruffalo,...</td>\n",
       "      <td>[Stan Lee, Joe Russo, Christopher Markus, Step...</td>\n",
       "      <td>[Marvel Studios, Walt Disney Pictures]</td>\n",
       "      <td>[Action, Adventure, Drama, Sci-Fi]</td>\n",
       "      <td>[time travel, superhero, sequel, super villain...</td>\n",
       "      <td>[English, Japanese, Xhosa, German]</td>\n",
       "      <td>[United States]</td>\n",
       "      <td>2019-04-26</td>\n",
       "      <td>181</td>\n",
       "      <td>2797501328</td>\n",
       "      <td>8.4</td>\n",
       "      <td>977000</td>\n",
       "      <td>[PG-13]</td>\n",
       "      <td>2019</td>\n",
       "      <td>4</td>\n",
       "      <td>26</td>\n",
       "    </tr>\n",
       "    <tr>\n",
       "      <th>5564</th>\n",
       "      <td>Titanic</td>\n",
       "      <td>120338</td>\n",
       "      <td>200000000</td>\n",
       "      <td>[Leonardo DiCaprio, Kate Winslet, Billy Zane, ...</td>\n",
       "      <td>[James Cameron]</td>\n",
       "      <td>[Twentieth Century Fox, Paramount Pictures, Li...</td>\n",
       "      <td>[Drama, Romance]</td>\n",
       "      <td>[iceberg, sailor's death, love affair, sunken ...</td>\n",
       "      <td>[English, Swedish, Italian, French]</td>\n",
       "      <td>[United States, Mexico, Australia]</td>\n",
       "      <td>1997-12-18</td>\n",
       "      <td>194</td>\n",
       "      <td>2201647264</td>\n",
       "      <td>7.8</td>\n",
       "      <td>1100000</td>\n",
       "      <td>[PG-13]</td>\n",
       "      <td>1997</td>\n",
       "      <td>12</td>\n",
       "      <td>18</td>\n",
       "    </tr>\n",
       "    <tr>\n",
       "      <th>5565</th>\n",
       "      <td>Avatar</td>\n",
       "      <td>499549</td>\n",
       "      <td>237000000</td>\n",
       "      <td>[Sam Worthington, Zoe Saldana, Sigourney Weave...</td>\n",
       "      <td>[James Cameron]</td>\n",
       "      <td>[Twentieth Century Fox, Dune Entertainment, Li...</td>\n",
       "      <td>[Action, Adventure, Fantasy, Sci-Fi]</td>\n",
       "      <td>[spiritualism, paraplegic, marine, future, for...</td>\n",
       "      <td>[English, Spanish]</td>\n",
       "      <td>[United States]</td>\n",
       "      <td>2009-12-18</td>\n",
       "      <td>162</td>\n",
       "      <td>2847246203</td>\n",
       "      <td>7.8</td>\n",
       "      <td>1200000</td>\n",
       "      <td>[PG-13]</td>\n",
       "      <td>2009</td>\n",
       "      <td>12</td>\n",
       "      <td>18</td>\n",
       "    </tr>\n",
       "    <tr>\n",
       "      <th>5566</th>\n",
       "      <td>Lara Croft: Tomb Raider</td>\n",
       "      <td>146316</td>\n",
       "      <td>115000000</td>\n",
       "      <td>[Angelina Jolie, Jon Voight, Iain Glen, Noah T...</td>\n",
       "      <td>[Mike Werb, Sara B. Cooper, Simon West, Michae...</td>\n",
       "      <td>[Paramount Pictures, Mutual Film Company, BBC ...</td>\n",
       "      <td>[Action, Adventure, Fantasy, Thriller]</td>\n",
       "      <td>[female nudity, handheld weapon, strong female...</td>\n",
       "      <td>[English, Central Khmer, Russian, Italian]</td>\n",
       "      <td>[United States, United Kingdom, Japan, Germany]</td>\n",
       "      <td>2001-06-15</td>\n",
       "      <td>100</td>\n",
       "      <td>274703340</td>\n",
       "      <td>5.8</td>\n",
       "      <td>205000</td>\n",
       "      <td>[PG-13]</td>\n",
       "      <td>2001</td>\n",
       "      <td>6</td>\n",
       "      <td>15</td>\n",
       "    </tr>\n",
       "    <tr>\n",
       "      <th>5567</th>\n",
       "      <td>Batman &amp;amp; Robin</td>\n",
       "      <td>118688</td>\n",
       "      <td>125000000</td>\n",
       "      <td>[Arnold Schwarzenegger, George Clooney, Chris ...</td>\n",
       "      <td>[Akiva Goldsman, Joel Schumacher, Bob Kane]</td>\n",
       "      <td>[Warner Bros., PolyGram Filmed Entertainment]</td>\n",
       "      <td>[Action, Sci-Fi]</td>\n",
       "      <td>[bat nipples, heavy breathing, pun, ice, freeze]</td>\n",
       "      <td>[English]</td>\n",
       "      <td>[United States, United Kingdom]</td>\n",
       "      <td>1997-06-20</td>\n",
       "      <td>125</td>\n",
       "      <td>238235719</td>\n",
       "      <td>3.8</td>\n",
       "      <td>243000</td>\n",
       "      <td>[PG-13]</td>\n",
       "      <td>1997</td>\n",
       "      <td>6</td>\n",
       "      <td>20</td>\n",
       "    </tr>\n",
       "  </tbody>\n",
       "</table>\n",
       "<p>5568 rows × 19 columns</p>\n",
       "</div>"
      ],
      "text/plain": [
       "                                     Movie_Title  Movie_ID     Budget  \\\n",
       "0     Star Wars: Episode VII - The Force Awakens   2488496  245000000   \n",
       "1                                      Frozen II   4520988  150000000   \n",
       "2                          The Dark Knight Rises   1345836  250000000   \n",
       "3                           Beauty and the Beast   2771200  160000000   \n",
       "4                                   Finding Dory   2277860  200000000   \n",
       "...                                          ...       ...        ...   \n",
       "5563                           Avengers: Endgame   4154796  356000000   \n",
       "5564                                     Titanic    120338  200000000   \n",
       "5565                                      Avatar    499549  237000000   \n",
       "5566                     Lara Croft: Tomb Raider    146316  115000000   \n",
       "5567                          Batman &amp; Robin    118688  125000000   \n",
       "\n",
       "                                                   Cast  \\\n",
       "0     [Daisy Ridley, John Boyega, Oscar Isaac, Domhn...   \n",
       "1     [Kristen Bell, Idina Menzel, Josh Gad, Jonatha...   \n",
       "2     [Christian Bale, Tom Hardy, Anne Hathaway, Gar...   \n",
       "3     [Emma Watson, Dan Stevens, Luke Evans, Josh Ga...   \n",
       "4     [Ellen DeGeneres, Albert Brooks, Ed O'Neill, K...   \n",
       "...                                                 ...   \n",
       "5563  [Robert Downey Jr., Chris Evans, Mark Ruffalo,...   \n",
       "5564  [Leonardo DiCaprio, Kate Winslet, Billy Zane, ...   \n",
       "5565  [Sam Worthington, Zoe Saldana, Sigourney Weave...   \n",
       "5566  [Angelina Jolie, Jon Voight, Iain Glen, Noah T...   \n",
       "5567  [Arnold Schwarzenegger, George Clooney, Chris ...   \n",
       "\n",
       "                                                   Crew  \\\n",
       "0         [Lawrence Kasdan, Michael Arndt, J.J. Abrams]   \n",
       "1     [Jennifer Lee, Hans Christian Andersen, Chris ...   \n",
       "2     [Jonathan Nolan, Christopher Nolan, David S. G...   \n",
       "3     [Evan Spiliotopoulos, Bill Condon, Stephen Chb...   \n",
       "4     [Angus MacLane, Victoria Strouse, Andrew Stanton]   \n",
       "...                                                 ...   \n",
       "5563  [Stan Lee, Joe Russo, Christopher Markus, Step...   \n",
       "5564                                    [James Cameron]   \n",
       "5565                                    [James Cameron]   \n",
       "5566  [Mike Werb, Sara B. Cooper, Simon West, Michae...   \n",
       "5567        [Akiva Goldsman, Joel Schumacher, Bob Kane]   \n",
       "\n",
       "                                                Studios  \\\n",
       "0         [Lucasfilm, Bad Robot, Truenorth Productions]   \n",
       "1     [Walt Disney Animation Studios, Walt Disney Pi...   \n",
       "2     [Warner Bros., Legendary Entertainment, DC Ent...   \n",
       "3              [Mandeville Films, Walt Disney Pictures]   \n",
       "4       [Pixar Animation Studios, Walt Disney Pictures]   \n",
       "...                                                 ...   \n",
       "5563             [Marvel Studios, Walt Disney Pictures]   \n",
       "5564  [Twentieth Century Fox, Paramount Pictures, Li...   \n",
       "5565  [Twentieth Century Fox, Dune Entertainment, Li...   \n",
       "5566  [Paramount Pictures, Mutual Film Company, BBC ...   \n",
       "5567      [Warner Bros., PolyGram Filmed Entertainment]   \n",
       "\n",
       "                                                  Genre  \\\n",
       "0                           [Action, Adventure, Sci-Fi]   \n",
       "1     [Animation, Adventure, Comedy, Family, Fantasy...   \n",
       "2                                [Action, Crime, Drama]   \n",
       "3        [Adventure, Family, Fantasy, Musical, Romance]   \n",
       "4                [Animation, Adventure, Comedy, Family]   \n",
       "...                                                 ...   \n",
       "5563                 [Action, Adventure, Drama, Sci-Fi]   \n",
       "5564                                   [Drama, Romance]   \n",
       "5565               [Action, Adventure, Fantasy, Sci-Fi]   \n",
       "5566             [Action, Adventure, Fantasy, Thriller]   \n",
       "5567                                   [Action, Sci-Fi]   \n",
       "\n",
       "                                               Keywords  \\\n",
       "0     [reboot, sanitation employee, remake, crash la...   \n",
       "1     [autumn, anthropomorphic snowman, princess, di...   \n",
       "2     [dc comics, batman character, bruce wayne char...   \n",
       "3     [beast, fairy tale, heroine, beast's heart, re...   \n",
       "4     [fish, ocean, whale, octopus driving a truck, ...   \n",
       "...                                                 ...   \n",
       "5563  [time travel, superhero, sequel, super villain...   \n",
       "5564  [iceberg, sailor's death, love affair, sunken ...   \n",
       "5565  [spiritualism, paraplegic, marine, future, for...   \n",
       "5566  [female nudity, handheld weapon, strong female...   \n",
       "5567   [bat nipples, heavy breathing, pun, ice, freeze]   \n",
       "\n",
       "                                       Languages  \\\n",
       "0                                      [English]   \n",
       "1                                      [English]   \n",
       "2                              [English, Arabic]   \n",
       "3                                      [English]   \n",
       "4                          [English, Indonesian]   \n",
       "...                                          ...   \n",
       "5563          [English, Japanese, Xhosa, German]   \n",
       "5564         [English, Swedish, Italian, French]   \n",
       "5565                          [English, Spanish]   \n",
       "5566  [English, Central Khmer, Russian, Italian]   \n",
       "5567                                   [English]   \n",
       "\n",
       "                                            Countries Release_Data  Runtime  \\\n",
       "0                                     [United States]   2015-12-18      138   \n",
       "1                                     [United States]   2019-11-22      103   \n",
       "2                     [United Kingdom, United States]   2012-07-27      164   \n",
       "3                                     [United States]   2017-03-17      129   \n",
       "4                                     [United States]   2016-06-17       97   \n",
       "...                                               ...          ...      ...   \n",
       "5563                                  [United States]   2019-04-26      181   \n",
       "5564               [United States, Mexico, Australia]   1997-12-18      194   \n",
       "5565                                  [United States]   2009-12-18      162   \n",
       "5566  [United States, United Kingdom, Japan, Germany]   2001-06-15      100   \n",
       "5567                  [United States, United Kingdom]   1997-06-20      125   \n",
       "\n",
       "      Gross_worldwide  Rating  Rating_Count ListOfCertificate  Release_Year  \\\n",
       "0          2069521700     7.8        893000           [PG-13]          2015   \n",
       "1          1450026933     6.8        156000              [PG]          2019   \n",
       "2          1081142612     8.4       1600000           [PG-13]          2012   \n",
       "3          1273576220     7.1        293000              [PG]          2017   \n",
       "4          1028570942     7.3        259000              [PG]          2016   \n",
       "...               ...     ...           ...               ...           ...   \n",
       "5563       2797501328     8.4        977000           [PG-13]          2019   \n",
       "5564       2201647264     7.8       1100000           [PG-13]          1997   \n",
       "5565       2847246203     7.8       1200000           [PG-13]          2009   \n",
       "5566        274703340     5.8        205000           [PG-13]          2001   \n",
       "5567        238235719     3.8        243000           [PG-13]          1997   \n",
       "\n",
       "      Release_Month  Release_Day  \n",
       "0                12           18  \n",
       "1                11           22  \n",
       "2                 7           27  \n",
       "3                 3           17  \n",
       "4                 6           17  \n",
       "...             ...          ...  \n",
       "5563              4           26  \n",
       "5564             12           18  \n",
       "5565             12           18  \n",
       "5566              6           15  \n",
       "5567              6           20  \n",
       "\n",
       "[5568 rows x 19 columns]"
      ]
     },
     "execution_count": 28,
     "metadata": {},
     "output_type": "execute_result"
    }
   ],
   "source": [
    "a"
   ]
  },
  {
   "cell_type": "markdown",
   "metadata": {
    "id": "T_RnMX-ujAnT"
   },
   "source": [
    "## Xuất ra file CSV"
   ]
  },
  {
   "cell_type": "code",
   "execution_count": 29,
   "metadata": {
    "id": "GRYz9GKzjAnT"
   },
   "outputs": [],
   "source": [
    "cast.to_csv(\"../dataset/processed/Cast.csv\", index = False)\n",
    "genre.to_csv(\"../dataset/processed/Genre.csv\", index = False)\n",
    "studio.to_csv(\"../dataset/processed/Studio.csv\", index = False)\n",
    "keywords.to_csv(\"../dataset/processed/Keywords.csv\", index = False)\n",
    "languages.to_csv(\"../dataset/processed/Languages.csv\", index = False)\n",
    "countries.to_csv(\"../dataset/processed/Countries.csv\", index = False)\n",
    "a.to_csv(\"../dataset/processed/cleanedData.csv\",index=False)"
   ]
  },
  {
   "cell_type": "code",
   "execution_count": 30,
   "metadata": {
    "colab": {
     "base_uri": "https://localhost:8080/",
     "height": 290
    },
    "id": "nqSzUob6jAnT",
    "outputId": "e42f8025-c9c8-4c7d-fd87-0c5878ad47d9",
    "scrolled": true
   },
   "outputs": [
    {
     "data": {
      "image/png": "[encoded data removed]",
      "text/plain": [
       "<Figure size 432x288 with 1 Axes>"
      ]
     },
     "metadata": {
      "needs_background": "light"
     },
     "output_type": "display_data"
    }
   ],
   "source": [
    "a.plot(kind=\"scatter\", x =\"Budget\", y = \"Gross_worldwide\")\n",
    "plt.show()"
   ]
  }
 ],
 "metadata": {
  "colab": {
   "collapsed_sections": [],
   "name": "Data Cleaning.ipynb",
   "provenance": []
  },
  "kernelspec": {
   "display_name": "Python 3 (ipykernel)",
   "language": "python",
   "name": "python3"
  },
  "language_info": {
   "codemirror_mode": {
    "name": "ipython",
    "version": 3
   },
   "file_extension": ".py",
   "mimetype": "text/x-python",
   "name": "python",
   "nbconvert_exporter": "python",
   "pygments_lexer": "ipython3",
   "version": "3.8.8"
  }
 },
 "nbformat": 4,
 "nbformat_minor": 0
}
