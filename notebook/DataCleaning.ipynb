{
 "cells": [
  {
   "cell_type": "markdown",
   "metadata": {
    "id": "b8sWwUpOjAnD"
   },
   "source": [
    "# Data Cleaning and Preprocessing"
   ]
  },
  {
   "cell_type": "code",
   "execution_count": 104,
   "metadata": {
    "id": "r_UOtvL-jAnF"
   },
   "outputs": [],
   "source": [
    "import pandas as pd\n",
    "import matplotlib.pyplot as plt\n",
    "\n",
    "pd.options.mode.chained_assignment = None"
   ]
  },
  {
   "cell_type": "markdown",
   "source": [
    "Load and drop unnecessary attribute, e.g., `Filming_Location`"
   ],
   "metadata": {
    "collapsed": false
   }
  },
  {
   "cell_type": "code",
   "execution_count": 105,
   "metadata": {
    "colab": {
     "base_uri": "https://localhost:8080/",
     "height": 214
    },
    "id": "viREz1IfjAnH",
    "outputId": "49989aad-68df-4fb6-be53-f49fcf091e39"
   },
   "outputs": [
    {
     "data": {
      "text/plain": "                                  Movie_Title  Movie_ID        Budget  \\\n0  Star Wars: Episode VII - The Force Awakens   2488496  $245,000,000   \n1                                   Frozen II   4520988  $150,000,000   \n2                       The Dark Knight Rises   1345836  $250,000,000   \n3                        Beauty and the Beast   2771200  $160,000,000   \n4                                Finding Dory   2277860  $200,000,000   \n\n                                                Cast  \\\n0  Daisy Ridley,John Boyega,Oscar Isaac,Domhnall ...   \n1  Kristen Bell,Idina Menzel,Josh Gad,Jonathan Gr...   \n2  Christian Bale,Tom Hardy,Anne Hathaway,Gary Ol...   \n3  Emma Watson,Dan Stevens,Luke Evans,Josh Gad,Ke...   \n4  Ellen DeGeneres,Albert Brooks,Ed O'Neill,Kaitl...   \n\n                                                Crew  \\\n0          Lawrence Kasdan,Michael Arndt,J.J. Abrams   \n1    Jennifer Lee,Hans Christian Andersen,Chris Buck   \n2    Jonathan Nolan,Christopher Nolan,David S. Goyer   \n3  Evan Spiliotopoulos,Bill Condon,Stephen Chbosk...   \n4      Angus MacLane,Victoria Strouse,Andrew Stanton   \n\n                                             Studios  \\\n0          Lucasfilm,Bad Robot,Truenorth Productions   \n1  Walt Disney Animation Studios,Walt Disney Pict...   \n2  Warner Bros.,Legendary Entertainment,DC Entert...   \n3              Mandeville Films,Walt Disney Pictures   \n4       Pixar Animation Studios,Walt Disney Pictures   \n\n                                               Genre  \\\n0                            Action,Adventure,Sci-Fi   \n1  Animation,Adventure,Comedy,Family,Fantasy,Musical   \n2                                 Action,Crime,Drama   \n3           Adventure,Family,Fantasy,Musical,Romance   \n4                  Animation,Adventure,Comedy,Family   \n\n                                            Keywords           Languages  \\\n0  reboot,sanitation employee,remake,crash landin...             English   \n1  autumn,anthropomorphic snowman,princess,disney...             English   \n2  dc comics,batman character,bruce wayne charact...      English,Arabic   \n3  beast,fairy tale,heroine,beast's heart,remake ...             English   \n4  fish,ocean,whale,octopus driving a truck,talki...  English,Indonesian   \n\n                      Countries Release_Data             Runtime  \\\n0                 United States   2015-12-18  2 hours 18 minutes   \n1                 United States   2019-11-22   1 hour 43 minutes   \n2  United Kingdom,United States   2012-07-27  2 hours 44 minutes   \n3                 United States   2017-03-17   2 hours 9 minutes   \n4                 United States   2016-06-17   1 hour 37 minutes   \n\n  Gross_worldwide  Rating Rating_Count ListOfCertificate  \n0  $2,069,521,700     7.8         893K             PG-13  \n1  $1,450,026,933     6.8         156K                PG  \n2  $1,081,142,612     8.4         1.6M             PG-13  \n3  $1,273,576,220     7.1         293K                PG  \n4  $1,028,570,942     7.3         259K                PG  ",
      "text/html": "<div>\n<style scoped>\n    .dataframe tbody tr th:only-of-type {\n        vertical-align: middle;\n    }\n\n    .dataframe tbody tr th {\n        vertical-align: top;\n    }\n\n    .dataframe thead th {\n        text-align: right;\n    }\n</style>\n<table border=\"1\" class=\"dataframe\">\n  <thead>\n    <tr style=\"text-align: right;\">\n      <th></th>\n      <th>Movie_Title</th>\n      <th>Movie_ID</th>\n      <th>Budget</th>\n      <th>Cast</th>\n      <th>Crew</th>\n      <th>Studios</th>\n      <th>Genre</th>\n      <th>Keywords</th>\n      <th>Languages</th>\n      <th>Countries</th>\n      <th>Release_Data</th>\n      <th>Runtime</th>\n      <th>Gross_worldwide</th>\n      <th>Rating</th>\n      <th>Rating_Count</th>\n      <th>ListOfCertificate</th>\n    </tr>\n  </thead>\n  <tbody>\n    <tr>\n      <th>0</th>\n      <td>Star Wars: Episode VII - The Force Awakens</td>\n      <td>2488496</td>\n      <td>$245,000,000</td>\n      <td>Daisy Ridley,John Boyega,Oscar Isaac,Domhnall ...</td>\n      <td>Lawrence Kasdan,Michael Arndt,J.J. Abrams</td>\n      <td>Lucasfilm,Bad Robot,Truenorth Productions</td>\n      <td>Action,Adventure,Sci-Fi</td>\n      <td>reboot,sanitation employee,remake,crash landin...</td>\n      <td>English</td>\n      <td>United States</td>\n      <td>2015-12-18</td>\n      <td>2 hours 18 minutes</td>\n      <td>$2,069,521,700</td>\n      <td>7.8</td>\n      <td>893K</td>\n      <td>PG-13</td>\n    </tr>\n    <tr>\n      <th>1</th>\n      <td>Frozen II</td>\n      <td>4520988</td>\n      <td>$150,000,000</td>\n      <td>Kristen Bell,Idina Menzel,Josh Gad,Jonathan Gr...</td>\n      <td>Jennifer Lee,Hans Christian Andersen,Chris Buck</td>\n      <td>Walt Disney Animation Studios,Walt Disney Pict...</td>\n      <td>Animation,Adventure,Comedy,Family,Fantasy,Musical</td>\n      <td>autumn,anthropomorphic snowman,princess,disney...</td>\n      <td>English</td>\n      <td>United States</td>\n      <td>2019-11-22</td>\n      <td>1 hour 43 minutes</td>\n      <td>$1,450,026,933</td>\n      <td>6.8</td>\n      <td>156K</td>\n      <td>PG</td>\n    </tr>\n    <tr>\n      <th>2</th>\n      <td>The Dark Knight Rises</td>\n      <td>1345836</td>\n      <td>$250,000,000</td>\n      <td>Christian Bale,Tom Hardy,Anne Hathaway,Gary Ol...</td>\n      <td>Jonathan Nolan,Christopher Nolan,David S. Goyer</td>\n      <td>Warner Bros.,Legendary Entertainment,DC Entert...</td>\n      <td>Action,Crime,Drama</td>\n      <td>dc comics,batman character,bruce wayne charact...</td>\n      <td>English,Arabic</td>\n      <td>United Kingdom,United States</td>\n      <td>2012-07-27</td>\n      <td>2 hours 44 minutes</td>\n      <td>$1,081,142,612</td>\n      <td>8.4</td>\n      <td>1.6M</td>\n      <td>PG-13</td>\n    </tr>\n    <tr>\n      <th>3</th>\n      <td>Beauty and the Beast</td>\n      <td>2771200</td>\n      <td>$160,000,000</td>\n      <td>Emma Watson,Dan Stevens,Luke Evans,Josh Gad,Ke...</td>\n      <td>Evan Spiliotopoulos,Bill Condon,Stephen Chbosk...</td>\n      <td>Mandeville Films,Walt Disney Pictures</td>\n      <td>Adventure,Family,Fantasy,Musical,Romance</td>\n      <td>beast,fairy tale,heroine,beast's heart,remake ...</td>\n      <td>English</td>\n      <td>United States</td>\n      <td>2017-03-17</td>\n      <td>2 hours 9 minutes</td>\n      <td>$1,273,576,220</td>\n      <td>7.1</td>\n      <td>293K</td>\n      <td>PG</td>\n    </tr>\n    <tr>\n      <th>4</th>\n      <td>Finding Dory</td>\n      <td>2277860</td>\n      <td>$200,000,000</td>\n      <td>Ellen DeGeneres,Albert Brooks,Ed O'Neill,Kaitl...</td>\n      <td>Angus MacLane,Victoria Strouse,Andrew Stanton</td>\n      <td>Pixar Animation Studios,Walt Disney Pictures</td>\n      <td>Animation,Adventure,Comedy,Family</td>\n      <td>fish,ocean,whale,octopus driving a truck,talki...</td>\n      <td>English,Indonesian</td>\n      <td>United States</td>\n      <td>2016-06-17</td>\n      <td>1 hour 37 minutes</td>\n      <td>$1,028,570,942</td>\n      <td>7.3</td>\n      <td>259K</td>\n      <td>PG</td>\n    </tr>\n  </tbody>\n</table>\n</div>"
     },
     "execution_count": 105,
     "metadata": {},
     "output_type": "execute_result"
    }
   ],
   "source": [
    "dataset_path = \"../dataset/\"\n",
    "data = pd.read_csv(dataset_path + \"data_joined.csv\")\n",
    "data = data.drop('Filming_Location', axis=1)\n",
    "a = data\n",
    "a.reset_index(drop=True, inplace=True)\n",
    "a.head()"
   ]
  },
  {
   "cell_type": "markdown",
   "source": [
    "## Missing Values\n",
    "\n",
    "Check for missing values"
   ],
   "metadata": {
    "collapsed": false
   }
  },
  {
   "cell_type": "code",
   "execution_count": 106,
   "outputs": [
    {
     "data": {
      "text/plain": "Movie_Title             0\nMovie_ID                0\nBudget               2930\nCast                    9\nCrew                    4\nStudios                49\nGenre                1178\nKeywords               27\nLanguages              11\nCountries               6\nRelease_Data            0\nRuntime                 7\nGross_worldwide      1035\nRating                  7\nRating_Count            7\nListOfCertificate    1199\ndtype: int64"
     },
     "execution_count": 106,
     "metadata": {},
     "output_type": "execute_result"
    }
   ],
   "source": [
    "a.isnull().sum()"
   ],
   "metadata": {
    "collapsed": false,
    "pycharm": {
     "name": "#%%\n"
    }
   }
  },
  {
   "cell_type": "markdown",
   "source": [
    "Drop all records missing `Gross_worldwide`"
   ],
   "metadata": {
    "collapsed": false
   }
  },
  {
   "cell_type": "code",
   "execution_count": 107,
   "metadata": {},
   "outputs": [],
   "source": [
    "listToDrop = list(a[a['Gross_worldwide'].isna()].index)\n",
    "a = a.drop(listToDrop)"
   ]
  },
  {
   "cell_type": "markdown",
   "source": [
    "Fill missing values:\n",
    "\n",
    "| Attribute           | Fill with |\n",
    "|---------------------|-----------|\n",
    "| `Budget`            | $0        |\n",
    "| `Runtime`           | 0         |\n",
    "| `Rating`            | 5.0       |\n",
    "| `Rating_Count`      | 0K        |\n",
    "| `ListOfCertificate` | G         |\n",
    "\n",
    "Other null attributes are filled with empty string."
   ],
   "metadata": {
    "collapsed": false
   }
  },
  {
   "cell_type": "code",
   "execution_count": 108,
   "metadata": {},
   "outputs": [],
   "source": [
    "a['Budget'] = a['Budget'].fillna(\"$0\")\n",
    "a['Runtime'] = a['Runtime'].fillna(\"0\")\n",
    "a['Rating'] = a['Rating'].fillna(5.0)\n",
    "a['Rating_Count'] = a['Rating_Count'].fillna(\"0K\")\n",
    "a['ListOfCertificate'] = a['ListOfCertificate'].fillna(\"G\")\n",
    "a = a.fillna(\"\")"
   ]
  },
  {
   "cell_type": "markdown",
   "source": [
    "Drop all records with empty attributes"
   ],
   "metadata": {
    "collapsed": false
   }
  },
  {
   "cell_type": "code",
   "execution_count": 109,
   "metadata": {},
   "outputs": [],
   "source": [
    "a = a.reset_index(drop=True)"
   ]
  },
  {
   "cell_type": "markdown",
   "metadata": {
    "id": "1MNNWNyRjAnH",
    "pycharm": {
     "name": "#%% md\n"
    }
   },
   "source": [
    "## Currency Attributes\n",
    "\n",
    "**Input**: Input dataframe with unprocessed currency\n",
    "\n",
    "**Output**: Processed one"
   ]
  },
  {
   "cell_type": "markdown",
   "metadata": {
    "id": "7Evir8lZkOYZ"
   },
   "source": [
    "Currency symbols in `Budget` and `Gross_worldwide`"
   ]
  },
  {
   "cell_type": "code",
   "execution_count": 110,
   "metadata": {
    "colab": {
     "base_uri": "https://localhost:8080/"
    },
    "id": "iv85JzoJkOGo",
    "outputId": "e085759f-1c08-483d-e8e7-32d021456b8d"
   },
   "outputs": [
    {
     "name": "stdout",
     "output_type": "stream",
     "text": [
      "{'$', '€'}\n",
      "{'$'}\n"
     ]
    }
   ],
   "source": [
    "currency = [str(s)[0] for s in a['Budget'].unique()]\n",
    "print(set(currency))\n",
    "currency = [str(s)[0] for s in a['Gross_worldwide'].unique()]\n",
    "print(set(currency))"
   ]
  },
  {
   "cell_type": "markdown",
   "metadata": {
    "id": "Ss0l11zRkXVR"
   },
   "source": [
    "Eliminate `$`,`€` and `,` in money string and convert the string to integer"
   ]
  },
  {
   "cell_type": "code",
   "execution_count": 111,
   "metadata": {
    "id": "tM7xMOrNjAnI",
    "pycharm": {
     "name": "#%%\n"
    }
   },
   "outputs": [],
   "source": [
    "def parse_currency(before_parsed):\n",
    "    if '$' in before_parsed:\n",
    "        after_parsed = int(before_parsed.strip('$').replace(',', \"\"))\n",
    "    else:\n",
    "        after_parsed = int(int(before_parsed.strip('€').replace(',', \"\")) * 1.14)\n",
    "    return after_parsed"
   ]
  },
  {
   "cell_type": "code",
   "execution_count": 112,
   "metadata": {
    "id": "2Vd4NFiQkou2"
   },
   "outputs": [
    {
     "data": {
      "text/plain": "                                  Movie_Title  Movie_ID     Budget  \\\n0  Star Wars: Episode VII - The Force Awakens   2488496  245000000   \n1                                   Frozen II   4520988  150000000   \n2                       The Dark Knight Rises   1345836  250000000   \n3                        Beauty and the Beast   2771200  160000000   \n4                                Finding Dory   2277860  200000000   \n\n                                                Cast  \\\n0  Daisy Ridley,John Boyega,Oscar Isaac,Domhnall ...   \n1  Kristen Bell,Idina Menzel,Josh Gad,Jonathan Gr...   \n2  Christian Bale,Tom Hardy,Anne Hathaway,Gary Ol...   \n3  Emma Watson,Dan Stevens,Luke Evans,Josh Gad,Ke...   \n4  Ellen DeGeneres,Albert Brooks,Ed O'Neill,Kaitl...   \n\n                                                Crew  \\\n0          Lawrence Kasdan,Michael Arndt,J.J. Abrams   \n1    Jennifer Lee,Hans Christian Andersen,Chris Buck   \n2    Jonathan Nolan,Christopher Nolan,David S. Goyer   \n3  Evan Spiliotopoulos,Bill Condon,Stephen Chbosk...   \n4      Angus MacLane,Victoria Strouse,Andrew Stanton   \n\n                                             Studios  \\\n0          Lucasfilm,Bad Robot,Truenorth Productions   \n1  Walt Disney Animation Studios,Walt Disney Pict...   \n2  Warner Bros.,Legendary Entertainment,DC Entert...   \n3              Mandeville Films,Walt Disney Pictures   \n4       Pixar Animation Studios,Walt Disney Pictures   \n\n                                               Genre  \\\n0                            Action,Adventure,Sci-Fi   \n1  Animation,Adventure,Comedy,Family,Fantasy,Musical   \n2                                 Action,Crime,Drama   \n3           Adventure,Family,Fantasy,Musical,Romance   \n4                  Animation,Adventure,Comedy,Family   \n\n                                            Keywords           Languages  \\\n0  reboot,sanitation employee,remake,crash landin...             English   \n1  autumn,anthropomorphic snowman,princess,disney...             English   \n2  dc comics,batman character,bruce wayne charact...      English,Arabic   \n3  beast,fairy tale,heroine,beast's heart,remake ...             English   \n4  fish,ocean,whale,octopus driving a truck,talki...  English,Indonesian   \n\n                      Countries Release_Data             Runtime  \\\n0                 United States   2015-12-18  2 hours 18 minutes   \n1                 United States   2019-11-22   1 hour 43 minutes   \n2  United Kingdom,United States   2012-07-27  2 hours 44 minutes   \n3                 United States   2017-03-17   2 hours 9 minutes   \n4                 United States   2016-06-17   1 hour 37 minutes   \n\n   Gross_worldwide  Rating Rating_Count ListOfCertificate  \n0       2069521700     7.8         893K             PG-13  \n1       1450026933     6.8         156K                PG  \n2       1081142612     8.4         1.6M             PG-13  \n3       1273576220     7.1         293K                PG  \n4       1028570942     7.3         259K                PG  ",
      "text/html": "<div>\n<style scoped>\n    .dataframe tbody tr th:only-of-type {\n        vertical-align: middle;\n    }\n\n    .dataframe tbody tr th {\n        vertical-align: top;\n    }\n\n    .dataframe thead th {\n        text-align: right;\n    }\n</style>\n<table border=\"1\" class=\"dataframe\">\n  <thead>\n    <tr style=\"text-align: right;\">\n      <th></th>\n      <th>Movie_Title</th>\n      <th>Movie_ID</th>\n      <th>Budget</th>\n      <th>Cast</th>\n      <th>Crew</th>\n      <th>Studios</th>\n      <th>Genre</th>\n      <th>Keywords</th>\n      <th>Languages</th>\n      <th>Countries</th>\n      <th>Release_Data</th>\n      <th>Runtime</th>\n      <th>Gross_worldwide</th>\n      <th>Rating</th>\n      <th>Rating_Count</th>\n      <th>ListOfCertificate</th>\n    </tr>\n  </thead>\n  <tbody>\n    <tr>\n      <th>0</th>\n      <td>Star Wars: Episode VII - The Force Awakens</td>\n      <td>2488496</td>\n      <td>245000000</td>\n      <td>Daisy Ridley,John Boyega,Oscar Isaac,Domhnall ...</td>\n      <td>Lawrence Kasdan,Michael Arndt,J.J. Abrams</td>\n      <td>Lucasfilm,Bad Robot,Truenorth Productions</td>\n      <td>Action,Adventure,Sci-Fi</td>\n      <td>reboot,sanitation employee,remake,crash landin...</td>\n      <td>English</td>\n      <td>United States</td>\n      <td>2015-12-18</td>\n      <td>2 hours 18 minutes</td>\n      <td>2069521700</td>\n      <td>7.8</td>\n      <td>893K</td>\n      <td>PG-13</td>\n    </tr>\n    <tr>\n      <th>1</th>\n      <td>Frozen II</td>\n      <td>4520988</td>\n      <td>150000000</td>\n      <td>Kristen Bell,Idina Menzel,Josh Gad,Jonathan Gr...</td>\n      <td>Jennifer Lee,Hans Christian Andersen,Chris Buck</td>\n      <td>Walt Disney Animation Studios,Walt Disney Pict...</td>\n      <td>Animation,Adventure,Comedy,Family,Fantasy,Musical</td>\n      <td>autumn,anthropomorphic snowman,princess,disney...</td>\n      <td>English</td>\n      <td>United States</td>\n      <td>2019-11-22</td>\n      <td>1 hour 43 minutes</td>\n      <td>1450026933</td>\n      <td>6.8</td>\n      <td>156K</td>\n      <td>PG</td>\n    </tr>\n    <tr>\n      <th>2</th>\n      <td>The Dark Knight Rises</td>\n      <td>1345836</td>\n      <td>250000000</td>\n      <td>Christian Bale,Tom Hardy,Anne Hathaway,Gary Ol...</td>\n      <td>Jonathan Nolan,Christopher Nolan,David S. Goyer</td>\n      <td>Warner Bros.,Legendary Entertainment,DC Entert...</td>\n      <td>Action,Crime,Drama</td>\n      <td>dc comics,batman character,bruce wayne charact...</td>\n      <td>English,Arabic</td>\n      <td>United Kingdom,United States</td>\n      <td>2012-07-27</td>\n      <td>2 hours 44 minutes</td>\n      <td>1081142612</td>\n      <td>8.4</td>\n      <td>1.6M</td>\n      <td>PG-13</td>\n    </tr>\n    <tr>\n      <th>3</th>\n      <td>Beauty and the Beast</td>\n      <td>2771200</td>\n      <td>160000000</td>\n      <td>Emma Watson,Dan Stevens,Luke Evans,Josh Gad,Ke...</td>\n      <td>Evan Spiliotopoulos,Bill Condon,Stephen Chbosk...</td>\n      <td>Mandeville Films,Walt Disney Pictures</td>\n      <td>Adventure,Family,Fantasy,Musical,Romance</td>\n      <td>beast,fairy tale,heroine,beast's heart,remake ...</td>\n      <td>English</td>\n      <td>United States</td>\n      <td>2017-03-17</td>\n      <td>2 hours 9 minutes</td>\n      <td>1273576220</td>\n      <td>7.1</td>\n      <td>293K</td>\n      <td>PG</td>\n    </tr>\n    <tr>\n      <th>4</th>\n      <td>Finding Dory</td>\n      <td>2277860</td>\n      <td>200000000</td>\n      <td>Ellen DeGeneres,Albert Brooks,Ed O'Neill,Kaitl...</td>\n      <td>Angus MacLane,Victoria Strouse,Andrew Stanton</td>\n      <td>Pixar Animation Studios,Walt Disney Pictures</td>\n      <td>Animation,Adventure,Comedy,Family</td>\n      <td>fish,ocean,whale,octopus driving a truck,talki...</td>\n      <td>English,Indonesian</td>\n      <td>United States</td>\n      <td>2016-06-17</td>\n      <td>1 hour 37 minutes</td>\n      <td>1028570942</td>\n      <td>7.3</td>\n      <td>259K</td>\n      <td>PG</td>\n    </tr>\n  </tbody>\n</table>\n</div>"
     },
     "execution_count": 112,
     "metadata": {},
     "output_type": "execute_result"
    }
   ],
   "source": [
    "a['Budget'] = a['Budget'].apply(parse_currency)\n",
    "a['Gross_worldwide'] = a['Gross_worldwide'].apply(parse_currency)\n",
    "a.head()"
   ]
  },
  {
   "cell_type": "markdown",
   "metadata": {
    "id": "exTJnmaDjAnJ"
   },
   "source": [
    "## Multivalued Attributes\n",
    "\n",
    "Multivalued data is seperated by comma `,`\n",
    "\n",
    "`Cast`, `Genre`, `Studios`, `ListOfCertificate`, `Keywords`, `Languages`, `Countries` are multivalued so we convert them to `List` data structure"
   ]
  },
  {
   "cell_type": "code",
   "execution_count": 113,
   "metadata": {
    "id": "196tbNwKlTzf"
   },
   "outputs": [],
   "source": [
    "def parse_multi_value(field_value):\n",
    "    array_value = field_value.split(',')\n",
    "    if '' in array_value:\n",
    "        return []\n",
    "    return array_value"
   ]
  },
  {
   "cell_type": "code",
   "execution_count": 114,
   "metadata": {
    "id": "q_df6aHWlXNT"
   },
   "outputs": [],
   "source": [
    "cols = ['Cast', 'Genre', 'Studios', 'ListOfCertificate', 'Keywords', 'Languages', 'Countries', 'Crew']\n",
    "for col in cols:\n",
    "    a[col] = a[col].apply(parse_multi_value)"
   ]
  },
  {
   "cell_type": "markdown",
   "metadata": {},
   "source": [
    "Note!\n",
    "After change to list we will need this function this to load again in another part"
   ]
  },
  {
   "cell_type": "code",
   "execution_count": 115,
   "metadata": {},
   "outputs": [
    {
     "data": {
      "text/plain": "\"\\n\\nimport ast\\ncols =['Cast', 'Genre', 'Studios', 'ListOfCertificate','Keywords', 'Languages', 'Countries']\\nfor col in cols:\\n    a[col]=a[col].apply(ast.literal_eval)\\n    \\n\""
     },
     "execution_count": 115,
     "metadata": {},
     "output_type": "execute_result"
    }
   ],
   "source": [
    "\"\"\"\n",
    "\n",
    "import ast\n",
    "cols =['Cast', 'Genre', 'Studios', 'ListOfCertificate','Keywords', 'Languages', 'Countries']\n",
    "for col in cols:\n",
    "    a[col]=a[col].apply(ast.literal_eval)\n",
    "    \n",
    "\"\"\""
   ]
  },
  {
   "cell_type": "markdown",
   "metadata": {},
   "source": [
    "Process wrong values in `ListOfCertificate`"
   ]
  },
  {
   "cell_type": "code",
   "execution_count": 116,
   "metadata": {},
   "outputs": [],
   "source": [
    "def get_unique_certificates(dataframe):\n",
    "    certificates = set()\n",
    "    for i in dataframe['ListOfCertificate']:\n",
    "        for y in i:\n",
    "            certificates.add(y)\n",
    "    return certificates"
   ]
  },
  {
   "cell_type": "code",
   "execution_count": 117,
   "metadata": {},
   "outputs": [
    {
     "data": {
      "text/plain": "{'G', 'GP', 'M', 'M/PG', 'NC-17', 'PG', 'PG-13', 'R', 'X'}"
     },
     "execution_count": 117,
     "metadata": {},
     "output_type": "execute_result"
    }
   ],
   "source": [
    "get_unique_certificates(a)"
   ]
  },
  {
   "cell_type": "markdown",
   "metadata": {},
   "source": [
    "Some of those certificates are out of date and does not follow MPAA's newest policy. They should be replaced:\n",
    "\n",
    "- M, GP and M/PG replaced by PG\n",
    "\n",
    "- X replaced by NC-17"
   ]
  },
  {
   "cell_type": "code",
   "execution_count": 118,
   "metadata": {},
   "outputs": [],
   "source": [
    "def update_certificates(certificates):\n",
    "    new_certificates = set()\n",
    "    type1 = ['M', 'GP', 'M/PG']\n",
    "    type2 = ['X']\n",
    "    for i in certificates:\n",
    "        if i in type1:\n",
    "            new_certificates.add('PG')\n",
    "        elif i in type2:\n",
    "            new_certificates.add('NC-17')\n",
    "        else:\n",
    "            new_certificates.add(i)\n",
    "    return list(new_certificates)"
   ]
  },
  {
   "cell_type": "code",
   "execution_count": 119,
   "metadata": {},
   "outputs": [
    {
     "data": {
      "text/plain": "{'G', 'NC-17', 'PG', 'PG-13', 'R'}"
     },
     "execution_count": 119,
     "metadata": {},
     "output_type": "execute_result"
    }
   ],
   "source": [
    "a['ListOfCertificate'] = a['ListOfCertificate'].apply(update_certificates)\n",
    "get_unique_certificates(a)"
   ]
  },
  {
   "cell_type": "markdown",
   "metadata": {
    "id": "N4TygV3wl6PC"
   },
   "source": [
    "## Multivalued attributes with gross and count\n",
    "\n",
    "1. Input\n",
    "- `dataframe`: Dataframe need to be process\n",
    "- `col_name`: Name of the column to process, `Cast`, `Genre` and `Studios` for example\n",
    "\n",
    "2. Output\n",
    "- Output: Dataframe contains information related to the columns combined with Money and Count"
   ]
  },
  {
   "cell_type": "code",
   "execution_count": 120,
   "metadata": {
    "id": "cpp79IVTjAnK",
    "pycharm": {
     "name": "#%%\n"
    }
   },
   "outputs": [],
   "source": [
    "def parseWithMoneyAndCount(dataframe, col_name):\n",
    "    result = []\n",
    "    count = []\n",
    "    gross = []\n",
    "    for i, record in enumerate(dataframe[col_name]):\n",
    "        for x in record:\n",
    "            # Save results to corresponding array\n",
    "            result.append(x)\n",
    "            gross.append(dataframe['Gross_worldwide'][i])\n",
    "            count.append(1)\n",
    "    # Make dataframe\n",
    "    t = pd.DataFrame({col_name: result, 'Money': gross, 'Count': count})\n",
    "    # Remove duplicates and sum corresponding columns\n",
    "    result = t.groupby(col_name).sum()\n",
    "    # Rearrange dataframe\n",
    "    sort_by_money = result.sort_values('Money', ascending=False)\n",
    "    return sort_by_money"
   ]
  },
  {
   "cell_type": "markdown",
   "metadata": {
    "id": "UMjMWeeFjAnK",
    "pycharm": {
     "name": "#%% md\n"
    }
   },
   "source": [
    "## Preprocess `Cast`, `Genre`, `Studios`, `ListOfCertificate`\n",
    "\n",
    "- Get necessary data\n",
    "\n",
    "- Calculate total gross of every movie each actor/actress in `Cast` has participated in"
   ]
  },
  {
   "cell_type": "code",
   "execution_count": 121,
   "metadata": {
    "colab": {
     "base_uri": "https://localhost:8080/",
     "height": 455
    },
    "id": "J92UBxwYjAnL",
    "outputId": "2a80d9ef-05fb-4c86-eb4b-a42d85b69d58",
    "scrolled": true
   },
   "outputs": [
    {
     "data": {
      "text/plain": "                            Money  Count\nCast                                    \nSamuel L. Jackson     18580682439     83\nRobert Downey Jr.     15200028143     54\nScarlett Johansson    14407657895     44\nZoe Saldana           12294639242     29\nDwayne Johnson        11942043248     33\n...                           ...    ...\nJeff Prewett                   95      1\nMatthew R. Anderson            95      1\nKenny Taylor                   95      1\nQzaibar Allal                  95      1\nChems-Eddine Zinoune           95      1\n\n[73026 rows x 2 columns]",
      "text/html": "<div>\n<style scoped>\n    .dataframe tbody tr th:only-of-type {\n        vertical-align: middle;\n    }\n\n    .dataframe tbody tr th {\n        vertical-align: top;\n    }\n\n    .dataframe thead th {\n        text-align: right;\n    }\n</style>\n<table border=\"1\" class=\"dataframe\">\n  <thead>\n    <tr style=\"text-align: right;\">\n      <th></th>\n      <th>Money</th>\n      <th>Count</th>\n    </tr>\n    <tr>\n      <th>Cast</th>\n      <th></th>\n      <th></th>\n    </tr>\n  </thead>\n  <tbody>\n    <tr>\n      <th>Samuel L. Jackson</th>\n      <td>18580682439</td>\n      <td>83</td>\n    </tr>\n    <tr>\n      <th>Robert Downey Jr.</th>\n      <td>15200028143</td>\n      <td>54</td>\n    </tr>\n    <tr>\n      <th>Scarlett Johansson</th>\n      <td>14407657895</td>\n      <td>44</td>\n    </tr>\n    <tr>\n      <th>Zoe Saldana</th>\n      <td>12294639242</td>\n      <td>29</td>\n    </tr>\n    <tr>\n      <th>Dwayne Johnson</th>\n      <td>11942043248</td>\n      <td>33</td>\n    </tr>\n    <tr>\n      <th>...</th>\n      <td>...</td>\n      <td>...</td>\n    </tr>\n    <tr>\n      <th>Jeff Prewett</th>\n      <td>95</td>\n      <td>1</td>\n    </tr>\n    <tr>\n      <th>Matthew R. Anderson</th>\n      <td>95</td>\n      <td>1</td>\n    </tr>\n    <tr>\n      <th>Kenny Taylor</th>\n      <td>95</td>\n      <td>1</td>\n    </tr>\n    <tr>\n      <th>Qzaibar Allal</th>\n      <td>95</td>\n      <td>1</td>\n    </tr>\n    <tr>\n      <th>Chems-Eddine Zinoune</th>\n      <td>95</td>\n      <td>1</td>\n    </tr>\n  </tbody>\n</table>\n<p>73026 rows × 2 columns</p>\n</div>"
     },
     "execution_count": 121,
     "metadata": {},
     "output_type": "execute_result"
    }
   ],
   "source": [
    "cast = parseWithMoneyAndCount(a, 'Cast')\n",
    "cast"
   ]
  },
  {
   "cell_type": "markdown",
   "metadata": {
    "id": "QVvRJwoxjAnM"
   },
   "source": [
    "Tương tự với cột Genre, Studios và ListOfCertificate"
   ]
  },
  {
   "cell_type": "code",
   "execution_count": 122,
   "metadata": {
    "colab": {
     "base_uri": "https://localhost:8080/",
     "height": 771
    },
    "id": "24HnuOqdjAnM",
    "outputId": "bccf7991-4b1d-42be-9272-4fbff96263b9"
   },
   "outputs": [
    {
     "data": {
      "text/plain": "                    Money  Count\nGenre                           \nAdventure    298281440727   1515\nAction       270712872044   1892\nDrama        224422468047   4454\nComedy       222959609180   3232\nThriller     169670494650   2224\nFantasy      153116140508    981\nSci-Fi       152723454914    866\nFamily       137386773092    936\nRomance      109277844855   2201\nCrime         87149222552   1589\nAnimation     84311140430    400\nMystery       62314981386    880\nHorror        39714174296    707\nMusical       30446413474    279\nBiography     26964736252    663\nWar           20548159884    357\nMusic         19600102040    449\nHistory       18744144753    391\nSport         16388866644    374\nWestern        7393407155    143\nDocumentary    2710526736    243\nNews             57917412      3\nFilm-Noir         4890859     11",
      "text/html": "<div>\n<style scoped>\n    .dataframe tbody tr th:only-of-type {\n        vertical-align: middle;\n    }\n\n    .dataframe tbody tr th {\n        vertical-align: top;\n    }\n\n    .dataframe thead th {\n        text-align: right;\n    }\n</style>\n<table border=\"1\" class=\"dataframe\">\n  <thead>\n    <tr style=\"text-align: right;\">\n      <th></th>\n      <th>Money</th>\n      <th>Count</th>\n    </tr>\n    <tr>\n      <th>Genre</th>\n      <th></th>\n      <th></th>\n    </tr>\n  </thead>\n  <tbody>\n    <tr>\n      <th>Adventure</th>\n      <td>298281440727</td>\n      <td>1515</td>\n    </tr>\n    <tr>\n      <th>Action</th>\n      <td>270712872044</td>\n      <td>1892</td>\n    </tr>\n    <tr>\n      <th>Drama</th>\n      <td>224422468047</td>\n      <td>4454</td>\n    </tr>\n    <tr>\n      <th>Comedy</th>\n      <td>222959609180</td>\n      <td>3232</td>\n    </tr>\n    <tr>\n      <th>Thriller</th>\n      <td>169670494650</td>\n      <td>2224</td>\n    </tr>\n    <tr>\n      <th>Fantasy</th>\n      <td>153116140508</td>\n      <td>981</td>\n    </tr>\n    <tr>\n      <th>Sci-Fi</th>\n      <td>152723454914</td>\n      <td>866</td>\n    </tr>\n    <tr>\n      <th>Family</th>\n      <td>137386773092</td>\n      <td>936</td>\n    </tr>\n    <tr>\n      <th>Romance</th>\n      <td>109277844855</td>\n      <td>2201</td>\n    </tr>\n    <tr>\n      <th>Crime</th>\n      <td>87149222552</td>\n      <td>1589</td>\n    </tr>\n    <tr>\n      <th>Animation</th>\n      <td>84311140430</td>\n      <td>400</td>\n    </tr>\n    <tr>\n      <th>Mystery</th>\n      <td>62314981386</td>\n      <td>880</td>\n    </tr>\n    <tr>\n      <th>Horror</th>\n      <td>39714174296</td>\n      <td>707</td>\n    </tr>\n    <tr>\n      <th>Musical</th>\n      <td>30446413474</td>\n      <td>279</td>\n    </tr>\n    <tr>\n      <th>Biography</th>\n      <td>26964736252</td>\n      <td>663</td>\n    </tr>\n    <tr>\n      <th>War</th>\n      <td>20548159884</td>\n      <td>357</td>\n    </tr>\n    <tr>\n      <th>Music</th>\n      <td>19600102040</td>\n      <td>449</td>\n    </tr>\n    <tr>\n      <th>History</th>\n      <td>18744144753</td>\n      <td>391</td>\n    </tr>\n    <tr>\n      <th>Sport</th>\n      <td>16388866644</td>\n      <td>374</td>\n    </tr>\n    <tr>\n      <th>Western</th>\n      <td>7393407155</td>\n      <td>143</td>\n    </tr>\n    <tr>\n      <th>Documentary</th>\n      <td>2710526736</td>\n      <td>243</td>\n    </tr>\n    <tr>\n      <th>News</th>\n      <td>57917412</td>\n      <td>3</td>\n    </tr>\n    <tr>\n      <th>Film-Noir</th>\n      <td>4890859</td>\n      <td>11</td>\n    </tr>\n  </tbody>\n</table>\n</div>"
     },
     "execution_count": 122,
     "metadata": {},
     "output_type": "execute_result"
    }
   ],
   "source": [
    "genre = parseWithMoneyAndCount(a, 'Genre')\n",
    "genre"
   ]
  },
  {
   "cell_type": "code",
   "execution_count": 123,
   "metadata": {
    "colab": {
     "base_uri": "https://localhost:8080/",
     "height": 455
    },
    "id": "9K3EI9lXjAnM",
    "outputId": "76f3045a-5d84-4120-e58d-fadbfc2f5664",
    "scrolled": true
   },
   "outputs": [
    {
     "data": {
      "text/plain": "                                          Money  Count\nStudios                                               \nWalt Disney Pictures                69222893046    214\nWarner Bros.                        67324250819    486\nUniversal Pictures                  65634910319    514\nParamount Pictures                  55195232415    451\nColumbia Pictures                   53369131398    424\n...                                         ...    ...\nParamount Famous Lasky Corporation          746      1\nWalter Wanger Productions                   623      1\nBreak Media                                 528      1\nCampfire                                    528      1\nJaz Films                                    95      1\n\n[6883 rows x 2 columns]",
      "text/html": "<div>\n<style scoped>\n    .dataframe tbody tr th:only-of-type {\n        vertical-align: middle;\n    }\n\n    .dataframe tbody tr th {\n        vertical-align: top;\n    }\n\n    .dataframe thead th {\n        text-align: right;\n    }\n</style>\n<table border=\"1\" class=\"dataframe\">\n  <thead>\n    <tr style=\"text-align: right;\">\n      <th></th>\n      <th>Money</th>\n      <th>Count</th>\n    </tr>\n    <tr>\n      <th>Studios</th>\n      <th></th>\n      <th></th>\n    </tr>\n  </thead>\n  <tbody>\n    <tr>\n      <th>Walt Disney Pictures</th>\n      <td>69222893046</td>\n      <td>214</td>\n    </tr>\n    <tr>\n      <th>Warner Bros.</th>\n      <td>67324250819</td>\n      <td>486</td>\n    </tr>\n    <tr>\n      <th>Universal Pictures</th>\n      <td>65634910319</td>\n      <td>514</td>\n    </tr>\n    <tr>\n      <th>Paramount Pictures</th>\n      <td>55195232415</td>\n      <td>451</td>\n    </tr>\n    <tr>\n      <th>Columbia Pictures</th>\n      <td>53369131398</td>\n      <td>424</td>\n    </tr>\n    <tr>\n      <th>...</th>\n      <td>...</td>\n      <td>...</td>\n    </tr>\n    <tr>\n      <th>Paramount Famous Lasky Corporation</th>\n      <td>746</td>\n      <td>1</td>\n    </tr>\n    <tr>\n      <th>Walter Wanger Productions</th>\n      <td>623</td>\n      <td>1</td>\n    </tr>\n    <tr>\n      <th>Break Media</th>\n      <td>528</td>\n      <td>1</td>\n    </tr>\n    <tr>\n      <th>Campfire</th>\n      <td>528</td>\n      <td>1</td>\n    </tr>\n    <tr>\n      <th>Jaz Films</th>\n      <td>95</td>\n      <td>1</td>\n    </tr>\n  </tbody>\n</table>\n<p>6883 rows × 2 columns</p>\n</div>"
     },
     "execution_count": 123,
     "metadata": {},
     "output_type": "execute_result"
    }
   ],
   "source": [
    "studio = parseWithMoneyAndCount(a, 'Studios')\n",
    "studio"
   ]
  },
  {
   "cell_type": "code",
   "execution_count": 124,
   "metadata": {
    "colab": {
     "base_uri": "https://localhost:8080/",
     "height": 645
    },
    "id": "RBtqWD4ljAnN",
    "outputId": "d30804e8-6f6a-459e-fa5f-b1a07df4fad7"
   },
   "outputs": [
    {
     "data": {
      "text/plain": "                          Money  Count\nListOfCertificate                     \nPG-13              283553468080   2466\nR                  170006305715   3867\nPG                 144055409565   1621\nG                   42824185750    937\nNC-17                 925845011     37",
      "text/html": "<div>\n<style scoped>\n    .dataframe tbody tr th:only-of-type {\n        vertical-align: middle;\n    }\n\n    .dataframe tbody tr th {\n        vertical-align: top;\n    }\n\n    .dataframe thead th {\n        text-align: right;\n    }\n</style>\n<table border=\"1\" class=\"dataframe\">\n  <thead>\n    <tr style=\"text-align: right;\">\n      <th></th>\n      <th>Money</th>\n      <th>Count</th>\n    </tr>\n    <tr>\n      <th>ListOfCertificate</th>\n      <th></th>\n      <th></th>\n    </tr>\n  </thead>\n  <tbody>\n    <tr>\n      <th>PG-13</th>\n      <td>283553468080</td>\n      <td>2466</td>\n    </tr>\n    <tr>\n      <th>R</th>\n      <td>170006305715</td>\n      <td>3867</td>\n    </tr>\n    <tr>\n      <th>PG</th>\n      <td>144055409565</td>\n      <td>1621</td>\n    </tr>\n    <tr>\n      <th>G</th>\n      <td>42824185750</td>\n      <td>937</td>\n    </tr>\n    <tr>\n      <th>NC-17</th>\n      <td>925845011</td>\n      <td>37</td>\n    </tr>\n  </tbody>\n</table>\n</div>"
     },
     "execution_count": 124,
     "metadata": {},
     "output_type": "execute_result"
    }
   ],
   "source": [
    "certificate = parseWithMoneyAndCount(a, 'ListOfCertificate')\n",
    "certificate"
   ]
  },
  {
   "cell_type": "markdown",
   "metadata": {
    "id": "JRyaAOgxjAnN"
   },
   "source": [
    "## Xử lý dữ liệu cột Keywords, Languages, Countries\n",
    "Dữ liệu dạng này chủ yếu chỉ cần tách và xem xét đến độ phổ biến nên chỉ cần đếm số lượng"
   ]
  },
  {
   "cell_type": "code",
   "execution_count": 125,
   "metadata": {
    "id": "9mOLno36jAnN"
   },
   "outputs": [],
   "source": [
    "def parseWithCount(dataframe, name):\n",
    "    result = []\n",
    "    count = []\n",
    "    for record in dataframe[name]:\n",
    "        for x in record:\n",
    "            result.append(x)\n",
    "            count.append(1)\n",
    "    result = pd.DataFrame({name: result, 'Count': count})\n",
    "    #Loại bỏ trùng lặp \n",
    "    result = result.groupby(name).sum()\n",
    "    sort_by_count = result.sort_values('Count', ascending=False)\n",
    "    return sort_by_count"
   ]
  },
  {
   "cell_type": "markdown",
   "metadata": {
    "id": "3hfuA3rJjAnO"
   },
   "source": [
    "### Cột keywords"
   ]
  },
  {
   "cell_type": "code",
   "execution_count": 126,
   "metadata": {
    "colab": {
     "base_uri": "https://localhost:8080/",
     "height": 455
    },
    "id": "w5JY72Z6jAnO",
    "outputId": "a398690a-c127-4b0e-a781-f7e88ce77e11",
    "scrolled": false
   },
   "outputs": [
    {
     "data": {
      "text/plain": "                      Count\nKeywords                   \nfemale nudity           194\nsex scene               164\nmurder                  158\nfemale protagonist      157\nf rated                 146\n...                     ...\nhighgate cemetary         1\nhighlander character      1\nhighlands                 1\nhighway                   1\nzydeco                    1\n\n[13909 rows x 1 columns]",
      "text/html": "<div>\n<style scoped>\n    .dataframe tbody tr th:only-of-type {\n        vertical-align: middle;\n    }\n\n    .dataframe tbody tr th {\n        vertical-align: top;\n    }\n\n    .dataframe thead th {\n        text-align: right;\n    }\n</style>\n<table border=\"1\" class=\"dataframe\">\n  <thead>\n    <tr style=\"text-align: right;\">\n      <th></th>\n      <th>Count</th>\n    </tr>\n    <tr>\n      <th>Keywords</th>\n      <th></th>\n    </tr>\n  </thead>\n  <tbody>\n    <tr>\n      <th>female nudity</th>\n      <td>194</td>\n    </tr>\n    <tr>\n      <th>sex scene</th>\n      <td>164</td>\n    </tr>\n    <tr>\n      <th>murder</th>\n      <td>158</td>\n    </tr>\n    <tr>\n      <th>female protagonist</th>\n      <td>157</td>\n    </tr>\n    <tr>\n      <th>f rated</th>\n      <td>146</td>\n    </tr>\n    <tr>\n      <th>...</th>\n      <td>...</td>\n    </tr>\n    <tr>\n      <th>highgate cemetary</th>\n      <td>1</td>\n    </tr>\n    <tr>\n      <th>highlander character</th>\n      <td>1</td>\n    </tr>\n    <tr>\n      <th>highlands</th>\n      <td>1</td>\n    </tr>\n    <tr>\n      <th>highway</th>\n      <td>1</td>\n    </tr>\n    <tr>\n      <th>zydeco</th>\n      <td>1</td>\n    </tr>\n  </tbody>\n</table>\n<p>13909 rows × 1 columns</p>\n</div>"
     },
     "execution_count": 126,
     "metadata": {},
     "output_type": "execute_result"
    }
   ],
   "source": [
    "keywords = parseWithCount(a, 'Keywords')\n",
    "keywords"
   ]
  },
  {
   "cell_type": "markdown",
   "metadata": {
    "id": "wEr4x7FpjAnP"
   },
   "source": [
    "### Cột Languages"
   ]
  },
  {
   "cell_type": "code",
   "execution_count": 127,
   "metadata": {
    "colab": {
     "base_uri": "https://localhost:8080/",
     "height": 455
    },
    "id": "PvGiPHqkjAnP",
    "outputId": "fbbb5d13-5266-4d4c-d337-6dd06898366c",
    "scrolled": true
   },
   "outputs": [
    {
     "data": {
      "text/plain": "            Count\nLanguages        \nEnglish      8150\nFrench        977\nSpanish       946\nGerman        466\nItalian       432\n...           ...\nPapiamento      1\nOriya           1\nOjibwa          1\nNyanja          1\nBhojpuri        1\n\n[191 rows x 1 columns]",
      "text/html": "<div>\n<style scoped>\n    .dataframe tbody tr th:only-of-type {\n        vertical-align: middle;\n    }\n\n    .dataframe tbody tr th {\n        vertical-align: top;\n    }\n\n    .dataframe thead th {\n        text-align: right;\n    }\n</style>\n<table border=\"1\" class=\"dataframe\">\n  <thead>\n    <tr style=\"text-align: right;\">\n      <th></th>\n      <th>Count</th>\n    </tr>\n    <tr>\n      <th>Languages</th>\n      <th></th>\n    </tr>\n  </thead>\n  <tbody>\n    <tr>\n      <th>English</th>\n      <td>8150</td>\n    </tr>\n    <tr>\n      <th>French</th>\n      <td>977</td>\n    </tr>\n    <tr>\n      <th>Spanish</th>\n      <td>946</td>\n    </tr>\n    <tr>\n      <th>German</th>\n      <td>466</td>\n    </tr>\n    <tr>\n      <th>Italian</th>\n      <td>432</td>\n    </tr>\n    <tr>\n      <th>...</th>\n      <td>...</td>\n    </tr>\n    <tr>\n      <th>Papiamento</th>\n      <td>1</td>\n    </tr>\n    <tr>\n      <th>Oriya</th>\n      <td>1</td>\n    </tr>\n    <tr>\n      <th>Ojibwa</th>\n      <td>1</td>\n    </tr>\n    <tr>\n      <th>Nyanja</th>\n      <td>1</td>\n    </tr>\n    <tr>\n      <th>Bhojpuri</th>\n      <td>1</td>\n    </tr>\n  </tbody>\n</table>\n<p>191 rows × 1 columns</p>\n</div>"
     },
     "execution_count": 127,
     "metadata": {},
     "output_type": "execute_result"
    }
   ],
   "source": [
    "languages = parseWithCount(a, 'Languages')\n",
    "languages"
   ]
  },
  {
   "cell_type": "markdown",
   "metadata": {
    "id": "g9ZO45EDjAnP"
   },
   "source": [
    "### Cột Countries"
   ]
  },
  {
   "cell_type": "code",
   "execution_count": 128,
   "metadata": {
    "colab": {
     "base_uri": "https://localhost:8080/",
     "height": 455
    },
    "id": "tF3JJwxCjAnQ",
    "outputId": "c323e2c6-662a-4cd7-8e8b-65782a6910e7",
    "scrolled": true
   },
   "outputs": [
    {
     "data": {
      "text/plain": "                Count\nCountries            \nUnited States    7375\nUnited Kingdom   1447\nFrance            793\nCanada            692\nGermany           553\n...               ...\nLiberia             1\nLithuania           1\nMauritania          1\nNepal               1\nZimbabwe            1\n\n[111 rows x 1 columns]",
      "text/html": "<div>\n<style scoped>\n    .dataframe tbody tr th:only-of-type {\n        vertical-align: middle;\n    }\n\n    .dataframe tbody tr th {\n        vertical-align: top;\n    }\n\n    .dataframe thead th {\n        text-align: right;\n    }\n</style>\n<table border=\"1\" class=\"dataframe\">\n  <thead>\n    <tr style=\"text-align: right;\">\n      <th></th>\n      <th>Count</th>\n    </tr>\n    <tr>\n      <th>Countries</th>\n      <th></th>\n    </tr>\n  </thead>\n  <tbody>\n    <tr>\n      <th>United States</th>\n      <td>7375</td>\n    </tr>\n    <tr>\n      <th>United Kingdom</th>\n      <td>1447</td>\n    </tr>\n    <tr>\n      <th>France</th>\n      <td>793</td>\n    </tr>\n    <tr>\n      <th>Canada</th>\n      <td>692</td>\n    </tr>\n    <tr>\n      <th>Germany</th>\n      <td>553</td>\n    </tr>\n    <tr>\n      <th>...</th>\n      <td>...</td>\n    </tr>\n    <tr>\n      <th>Liberia</th>\n      <td>1</td>\n    </tr>\n    <tr>\n      <th>Lithuania</th>\n      <td>1</td>\n    </tr>\n    <tr>\n      <th>Mauritania</th>\n      <td>1</td>\n    </tr>\n    <tr>\n      <th>Nepal</th>\n      <td>1</td>\n    </tr>\n    <tr>\n      <th>Zimbabwe</th>\n      <td>1</td>\n    </tr>\n  </tbody>\n</table>\n<p>111 rows × 1 columns</p>\n</div>"
     },
     "execution_count": 128,
     "metadata": {},
     "output_type": "execute_result"
    }
   ],
   "source": [
    "countries = parseWithCount(a, 'Countries')\n",
    "countries"
   ]
  },
  {
   "cell_type": "markdown",
   "metadata": {
    "id": "eNtvWVxpjAnQ"
   },
   "source": [
    "## Chuẩn hóa lại dữ liệu dạng thời gian\n",
    "### 1. Dữ liệu cột runtime dạng giờ-phút\n",
    "Hàm chuyển thời gian về dạng phút"
   ]
  },
  {
   "cell_type": "code",
   "execution_count": 129,
   "metadata": {
    "id": "2bgDWlBijAnQ",
    "scrolled": true
   },
   "outputs": [],
   "source": [
    "def convertTime(time):\n",
    "    time = str(time)\n",
    "    # Loại bỏ khoảng trắng\n",
    "    time = time.replace(\" \", \"\")\n",
    "    # nếu trong chuỗi có chứa 'hour' -> có 2 khả năng là chuỗi có chứa 'hours' hoặc 'hour' \n",
    "    if \"hour\" in time:\n",
    "        hours = 0\n",
    "        # Nếu chuỗi chứa 'hours', loại bỏ 'hours' và lấy ký tự đầu tiên nhân với 60\n",
    "        if \"hours\" in time:\n",
    "            hours = int(time[0]) * 60\n",
    "            after_eliminate_hour = time.replace(\"hours\", \"\")\n",
    "        else:\n",
    "            # Nếu không thì nghĩa là ký tự đầu tiên bằng 1 => 60 phút\n",
    "            hours = 60\n",
    "            after_eliminate_hour = time.replace(\"hour\", \"\")\n",
    "        minutes = 0\n",
    "        # Sau đó lấy số phút đó cộng với số phút nếu có đằng sau \n",
    "        if \"minute\" in after_eliminate_hour:\n",
    "            if \"minutes\" in after_eliminate_hour:\n",
    "                minutes = int(after_eliminate_hour.replace(\"minutes\", \"\")[1:])\n",
    "            else:\n",
    "                minutes = 1\n",
    "        return int(hours) + int(minutes)\n",
    "    # Nếu chuỗi không chứa 'hour' -> chỉ cần loại bỏ chuỗi 'minutes' rồi chuyển về int là xong\n",
    "    else:\n",
    "        return int(time.replace(\"minutes\", \"\"))"
   ]
  },
  {
   "cell_type": "markdown",
   "metadata": {
    "id": "On2HmskbnVHB"
   },
   "source": [
    "Chuẩn hóa thời gian cho bộ dữ liệu"
   ]
  },
  {
   "cell_type": "code",
   "execution_count": 130,
   "metadata": {
    "id": "pnJVx-K3nWM3"
   },
   "outputs": [],
   "source": [
    "a['Runtime'] = a['Runtime'].apply(convertTime)"
   ]
  },
  {
   "cell_type": "code",
   "execution_count": 131,
   "metadata": {},
   "outputs": [
    {
     "data": {
      "text/plain": "100    259\n97     258\n96     245\n101    244\n95     236\n      ... \n64       1\n288      1\n207      1\n60       1\n194      1\nName: Runtime, Length: 160, dtype: int64"
     },
     "execution_count": 131,
     "metadata": {},
     "output_type": "execute_result"
    }
   ],
   "source": [
    "a['Runtime'].value_counts()"
   ]
  },
  {
   "cell_type": "markdown",
   "metadata": {
    "id": "6PRG4fG1jAnQ"
   },
   "source": [
    "### 2. Dữ liệu cột release_date dạng ngày tháng năm\n",
    "Tách ngày, tháng, năm của từng bộ phim"
   ]
  },
  {
   "cell_type": "code",
   "execution_count": 132,
   "metadata": {
    "id": "t4XQZGCujAnR",
    "scrolled": true
   },
   "outputs": [],
   "source": [
    "a['Release_Data'] = pd.to_datetime(a['Release_Data'], format='%Y-%m-%d')\n",
    "a['Release_Year'] = a['Release_Data'].apply(lambda x: x.year)\n",
    "a['Release_Month'] = a['Release_Data'].apply(lambda x: x.month)\n",
    "a['Release_Day'] = a['Release_Data'].apply(lambda x: x.day)"
   ]
  },
  {
   "cell_type": "markdown",
   "metadata": {
    "id": "HmgEZbJCjAnR"
   },
   "source": [
    "## Xử lý dữ liệu cột Rating và Rating_Count\n",
    "- Hàm chuẩn hóa lại dữ liệu cột Rating_Count và chuyển dữ liệu cột Rating về float"
   ]
  },
  {
   "cell_type": "code",
   "execution_count": 133,
   "metadata": {
    "id": "ppHXAhfKndcv"
   },
   "outputs": [],
   "source": [
    "def convertRatingCount(rating_count):\n",
    "    rate = str(rating_count)\n",
    "    if 'M' in rate:\n",
    "        return int(float(rate.replace(\"M\", \"\")) * 1000000)\n",
    "    elif 'K' in rate:\n",
    "        return int(float(rate.replace(\"K\", \"\")) * 1000)\n",
    "    else:\n",
    "        return int(rate)"
   ]
  },
  {
   "cell_type": "code",
   "execution_count": 134,
   "metadata": {
    "id": "rnwq8LIujAnR"
   },
   "outputs": [],
   "source": [
    "# Đưa dữ liệu cột rating_count về integer\n",
    "a['Rating_Count'] = a['Rating_Count'].apply(convertRatingCount)\n",
    "# Đưa dữ liệu cột rating về dạng float\n",
    "a['Rating'] = a['Rating'].astype(float)"
   ]
  },
  {
   "cell_type": "markdown",
   "metadata": {
    "id": "T_RnMX-ujAnT"
   },
   "source": [
    "## Xuất ra file CSV"
   ]
  },
  {
   "cell_type": "code",
   "execution_count": 135,
   "metadata": {
    "id": "GRYz9GKzjAnT",
    "pycharm": {
     "name": "#%%\n"
    }
   },
   "outputs": [],
   "source": [
    "cast.to_csv(\"../dataset/processed/Cast.csv\", index=False)\n",
    "genre.to_csv(\"../dataset/processed/Genre.csv\", index=False)\n",
    "studio.to_csv(\"../dataset/processed/Studio.csv\", index=False)\n",
    "keywords.to_csv(\"../dataset/processed/Keywords.csv\", index=False)\n",
    "languages.to_csv(\"../dataset/processed/Languages.csv\", index=False)\n",
    "countries.to_csv(\"../dataset/processed/Countries.csv\", index=False)\n",
    "a.to_csv(\"../dataset/processed/cleaned_data.csv\", index=False)"
   ]
  }
 ],
 "metadata": {
  "colab": {
   "collapsed_sections": [],
   "name": "Data Cleaning.ipynb",
   "provenance": []
  },
  "kernelspec": {
   "display_name": "Python 3 (ipykernel)",
   "language": "python",
   "name": "python3"
  },
  "language_info": {
   "codemirror_mode": {
    "name": "ipython",
    "version": 3
   },
   "file_extension": ".py",
   "mimetype": "text/x-python",
   "name": "python",
   "nbconvert_exporter": "python",
   "pygments_lexer": "ipython3",
   "version": "3.8.8"
  }
 },
 "nbformat": 4,
 "nbformat_minor": 0
}