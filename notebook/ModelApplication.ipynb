{
 "cells": [
  {
   "cell_type": "markdown",
   "metadata": {},
   "source": [
    "# Load data"
   ]
  },
  {
   "cell_type": "code",
   "execution_count": 35,
   "metadata": {},
   "outputs": [],
   "source": [
    "import pandas as pd\n",
    "import numpy as np\n",
    "from sklearn import linear_model\n",
    "from sklearn.ensemble import RandomForestRegressor\n",
    "from sklearn.metrics import mean_squared_error, mean_absolute_error\n",
    "from FeatureExtractor import BORFeatureExtractor\n",
    "from sklearn.preprocessing import MinMaxScaler\n",
    "import warnings\n",
    "warnings.filterwarnings('ignore')\n",
    "data=pd.read_csv('../dataset/processed/cleaned_data.csv')"
   ]
  },
  {
   "cell_type": "markdown",
   "metadata": {},
   "source": [
    "# Load list fields\n"
   ]
  },
  {
   "cell_type": "code",
   "execution_count": 36,
   "metadata": {},
   "outputs": [],
   "source": [
    "import ast\n",
    "cols =['Cast', 'Genre', 'Studios', 'ListOfCertificate','Keywords', 'Languages', 'Countries','Crew']\n",
    "for col in cols:\n",
    "    data[col]=data[col].apply(ast.literal_eval)"
   ]
  },
  {
   "cell_type": "markdown",
   "metadata": {},
   "source": [
    "# Linear Regression"
   ]
  },
  {
   "cell_type": "code",
   "execution_count": 6,
   "metadata": {},
   "outputs": [],
   "source": [
    "def strip_field(list):\n",
    "    newList=[]\n",
    "    for i in list:\n",
    "        newList.append(i.strip())\n",
    "    return newList"
   ]
  },
  {
   "cell_type": "code",
   "execution_count": 43,
   "metadata": {},
   "outputs": [
    {
     "name": "stdout",
     "output_type": "stream",
     "text": [
      "Predicted Revenue: -20327335 $\n"
     ]
    }
   ],
   "source": [
    "lin=linear_model.LinearRegression()\n",
    "fe=BORFeatureExtractor()\n",
    "data_main=data.copy()\n",
    "fe.fit(data_main)\n",
    "fe.extract(data_main)\n",
    "target=['Gross_worldwide']\n",
    "x_train = data_main.drop('Gross_worldwide',axis=1)\n",
    "y_train = data_main[target]\n",
    "lin.fit(x_train,y_train)\n",
    "#Data\n",
    "movie_info=dict()\n",
    "movie_info['Movie_Title']=\"NULL\"\n",
    "movie_info['Movie_ID']= 0\n",
    "movie_info['Budget']=0\n",
    "movie_info['Cast']=\"NULL\"\n",
    "movie_info['Crew']='NULL'\n",
    "movie_info['Studios']=\"NULL\"\n",
    "movie_info['Genre']=\"NULL\"\n",
    "movie_info['Keywords']=\"NULL\"\n",
    "movie_info['Languages']=\"NULL\"\n",
    "movie_info['Countries']=\"NULL\"\n",
    "movie_info['Release_Data']=\"2001-03-01\"\n",
    "movie_info['Runtime']=0\n",
    "movie_info['Gross_worldwide']=0\n",
    "movie_info['Rating']=0\n",
    "movie_info['Rating_Count']=0\n",
    "movie_info['ListOfCertificate']=\"NULL\"\n",
    "movie_info['Release_Data'] = pd.to_datetime(movie_info['Release_Data'], format='%Y-%m-%d')\n",
    "movie_info['Release_Year'] = movie_info['Release_Data'].year\n",
    "movie_info['Release_Month'] = movie_info['Release_Data'].month\n",
    "movie_info['Release_Day'] = movie_info['Release_Data'].day\n",
    "#Turn release_data to NULL to be drop later\n",
    "movie_info['Release_Data']=\"NULL\"\n",
    "movie_info_df=pd.DataFrame([movie_info.values()],columns=list(data.columns))\n",
    "## Turn to list\n",
    "cols =['Cast', 'Genre', 'Studios', 'ListOfCertificate','Keywords', 'Languages', 'Countries','Crew']\n",
    "for col in cols:\n",
    "    movie_info_df[col]=movie_info_df[col].apply(lambda x: x.split(','))\n",
    "    movie_info_df[col]=movie_info_df[col].apply(strip_field)\n",
    "fe.extract(movie_info_df)\n",
    "y_predicted= lin.predict(movie_info_df.drop('Gross_worldwide',axis=1))\n",
    "print(\"Predicted Revenue: %.0f\"%y_predicted[0][0],'$')"
   ]
  },
  {
   "cell_type": "markdown",
   "metadata": {},
   "source": [
    "# Random Forest"
   ]
  },
  {
   "cell_type": "code",
   "execution_count": 42,
   "metadata": {},
   "outputs": [
    {
     "name": "stdout",
     "output_type": "stream",
     "text": [
      "Predicted Revenue: 68346226 $\n"
     ]
    }
   ],
   "source": [
    "lin=RandomForestRegressor(n_estimators=100)\n",
    "fe=BORFeatureExtractor()\n",
    "data_main=data.copy()\n",
    "fe.fit(data_main)\n",
    "fe.extract(data_main)\n",
    "target=['Gross_worldwide']\n",
    "x_train = data_main.drop('Gross_worldwide',axis=1)\n",
    "y_train = data_main[target]\n",
    "lin.fit(x_train,y_train)\n",
    "#Data\n",
    "movie_info=dict()\n",
    "movie_info['Movie_Title']=\"NULL\"\n",
    "movie_info['Movie_ID']= 0\n",
    "movie_info['Budget']=0\n",
    "movie_info['Cast']=\"NULL\"\n",
    "movie_info['Crew']='NULL'\n",
    "movie_info['Studios']=\"NULL\"\n",
    "movie_info['Genre']=\"NULL\"\n",
    "movie_info['Keywords']=\"NULL\"\n",
    "movie_info['Languages']=\"NULL\"\n",
    "movie_info['Countries']=\"NULL\"\n",
    "movie_info['Release_Data']=\"2001-03-01\"\n",
    "movie_info['Runtime']=0\n",
    "movie_info['Gross_worldwide']=0\n",
    "movie_info['Rating']=0\n",
    "movie_info['Rating_Count']=0\n",
    "movie_info['ListOfCertificate']=\"NULL\"\n",
    "movie_info['Release_Data'] = pd.to_datetime(movie_info['Release_Data'], format='%Y-%m-%d')\n",
    "movie_info['Release_Year'] = movie_info['Release_Data'].year\n",
    "movie_info['Release_Month'] = movie_info['Release_Data'].month\n",
    "movie_info['Release_Day'] = movie_info['Release_Data'].day\n",
    "#Turn release_data to NULL to be drop later\n",
    "movie_info['Release_Data']=\"NULL\"\n",
    "movie_info_df=pd.DataFrame([movie_info.values()],columns=list(data.columns))\n",
    "## Turn to list\n",
    "cols =['Cast', 'Genre', 'Studios', 'ListOfCertificate','Keywords', 'Languages', 'Countries','Crew']\n",
    "for col in cols:\n",
    "    movie_info_df[col]=movie_info_df[col].apply(lambda x: x.split(','))\n",
    "    movie_info_df[col]=movie_info_df[col].apply(strip_field)\n",
    "fe.extract(movie_info_df)\n",
    "y_predicted= lin.predict(movie_info_df.drop('Gross_worldwide',axis=1))\n",
    "print(\"Predicted Revenue: %.0f\"%y_predicted[0],'$')"
   ]
  }
 ],
 "metadata": {
  "interpreter": {
   "hash": "183bbf6827d058c2a2fb0f4acdc0420849dda2b4380af0e437e38c64d798d8b7"
  },
  "kernelspec": {
   "display_name": "Python 3.8.8 64-bit ('base': conda)",
   "language": "python",
   "name": "python3"
  },
  "language_info": {
   "codemirror_mode": {
    "name": "ipython",
    "version": 3
   },
   "file_extension": ".py",
   "mimetype": "text/x-python",
   "name": "python",
   "nbconvert_exporter": "python",
   "pygments_lexer": "ipython3",
   "version": "3.8.8"
  },
  "orig_nbformat": 4
 },
 "nbformat": 4,
 "nbformat_minor": 2
}
