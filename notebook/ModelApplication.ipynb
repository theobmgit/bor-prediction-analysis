{
 "cells": [
  {
   "cell_type": "markdown",
   "metadata": {},
   "source": [
    "# Load data"
   ]
  },
  {
   "cell_type": "code",
   "execution_count": 6,
   "metadata": {},
   "outputs": [],
   "source": [
    "import pandas as pd\n",
    "import numpy as np\n",
    "from sklearn import linear_model\n",
    "from sklearn.metrics import mean_squared_error, mean_absolute_error\n",
    "from FeatureExtractor import BORFeatureExtractor\n",
    "from sklearn.preprocessing import MinMaxScaler\n",
    "import warnings\n",
    "warnings.filterwarnings('ignore')\n",
    "data=pd.read_csv('../dataset/processed/cleaned_data.csv')"
   ]
  },
  {
   "cell_type": "markdown",
   "metadata": {},
   "source": [
    "# Load list fields\n"
   ]
  },
  {
   "cell_type": "code",
   "execution_count": 7,
   "metadata": {},
   "outputs": [],
   "source": [
    "import ast\n",
    "cols =['Cast', 'Genre', 'Studios', 'ListOfCertificate','Keywords', 'Languages', 'Countries','Crew']\n",
    "for col in cols:\n",
    "    data[col]=data[col].apply(ast.literal_eval)"
   ]
  },
  {
   "cell_type": "markdown",
   "metadata": {},
   "source": [
    "# Linear Regression"
   ]
  },
  {
   "cell_type": "code",
   "execution_count": 8,
   "metadata": {},
   "outputs": [
    {
     "name": "stdout",
     "output_type": "stream",
     "text": [
      "<class 'pandas.core.frame.DataFrame'>\n",
      "RangeIndex: 8752 entries, 0 to 8751\n",
      "Data columns (total 19 columns):\n",
      " #   Column             Non-Null Count  Dtype  \n",
      "---  ------             --------------  -----  \n",
      " 0   Movie_Title        8752 non-null   object \n",
      " 1   Movie_ID           8752 non-null   int64  \n",
      " 2   Budget             8752 non-null   int64  \n",
      " 3   Cast               8752 non-null   object \n",
      " 4   Crew               8752 non-null   object \n",
      " 5   Studios            8752 non-null   object \n",
      " 6   Genre              8752 non-null   object \n",
      " 7   Keywords           8752 non-null   object \n",
      " 8   Languages          8752 non-null   object \n",
      " 9   Countries          8752 non-null   object \n",
      " 10  Release_Data       8752 non-null   object \n",
      " 11  Runtime            8752 non-null   float64\n",
      " 12  Gross_worldwide    8752 non-null   int64  \n",
      " 13  Rating             8752 non-null   float64\n",
      " 14  Rating_Count       8752 non-null   int64  \n",
      " 15  ListOfCertificate  8752 non-null   object \n",
      " 16  Release_Year       8752 non-null   int64  \n",
      " 17  Release_Month      8752 non-null   int64  \n",
      " 18  Release_Day        8752 non-null   int64  \n",
      "dtypes: float64(2), int64(7), object(10)\n",
      "memory usage: 1.3+ MB\n"
     ]
    }
   ],
   "source": [
    "data.info()"
   ]
  },
  {
   "cell_type": "code",
   "execution_count": 11,
   "metadata": {},
   "outputs": [
    {
     "data": {
      "text/plain": [
       "{'Movie_Title': 'NULL',\n",
       " 'Movie_ID': 0,\n",
       " 'Budget': 0,\n",
       " 'Cast': ['a', 'b', 'c'],\n",
       " 'Crew': ['a', 'b', 'c'],\n",
       " 'Studios': ['a'],\n",
       " 'Genre': [''],\n",
       " 'Keywords': [''],\n",
       " 'Languages': [''],\n",
       " 'Countries': [''],\n",
       " 'Release_Data': Timestamp('2001-03-01 00:00:00'),\n",
       " 'Runtime': 0,\n",
       " 'Gross_worldwide': 0,\n",
       " 'Rating': 0,\n",
       " 'Rating_Count': 0,\n",
       " 'ListOfCertificate': [''],\n",
       " 'Release_Year': 2001,\n",
       " 'Release_Month': 3,\n",
       " 'Release_Day': 1}"
      ]
     },
     "execution_count": 11,
     "metadata": {},
     "output_type": "execute_result"
    }
   ],
   "source": [
    "# lin=linear_model.LinearRegression()\n",
    "# fe=BORFeatureExtractor()\n",
    "# data_main=data.copy()\n",
    "# fe.fit(data_main)\n",
    "# fe.extract(data_main)\n",
    "target=['Gross_worldwide']\n",
    "movie_info=dict()\n",
    "movie_info['Movie_Title']=\"NULL\"\n",
    "movie_info['Movie_ID']= 0\n",
    "movie_info['Budget']=0\n",
    "movie_info['Cast']=['a','b','c']\n",
    "movie_info['Crew']=['a','b','c']\n",
    "movie_info['Studios']=['a']\n",
    "movie_info['Genre']=['']\n",
    "movie_info['Keywords']=['']\n",
    "movie_info['Languages']=['']\n",
    "movie_info['Countries']=['']\n",
    "movie_info['Release_Data']=\"2001-03-01\"\n",
    "movie_info['Runtime']=0\n",
    "movie_info['Gross_worldwide']=0\n",
    "movie_info['Rating']=0\n",
    "movie_info['Rating_Count']=0\n",
    "movie_info['ListOfCertificate']=['']\n",
    "movie_info['Release_Data'] = pd.to_datetime(movie_info['Release_Data'], format='%Y-%m-%d')\n",
    "movie_info['Release_Year'] = movie_info['Release_Data'].year\n",
    "movie_info['Release_Month'] = movie_info['Release_Data'].month\n",
    "movie_info['Release_Day'] = movie_info['Release_Data'].day\n",
    "# x_train = data_main.drop('Gross_worldwide',axis=1)\n",
    "# y_train = data_main[target]\n",
    "# lin.fit(x_train,y_train)\n",
    "# movie_info_df=pd.DataFrame.from_dict(movie_info)\n",
    "movie_info\n",
    "# y_predicted= lin.predict(movie_info_df)"
   ]
  }
 ],
 "metadata": {
  "interpreter": {
   "hash": "183bbf6827d058c2a2fb0f4acdc0420849dda2b4380af0e437e38c64d798d8b7"
  },
  "kernelspec": {
   "display_name": "Python 3.8.8 64-bit ('base': conda)",
   "language": "python",
   "name": "python3"
  },
  "language_info": {
   "codemirror_mode": {
    "name": "ipython",
    "version": 3
   },
   "file_extension": ".py",
   "mimetype": "text/x-python",
   "name": "python",
   "nbconvert_exporter": "python",
   "pygments_lexer": "ipython3",
   "version": "3.8.8"
  },
  "orig_nbformat": 4
 },
 "nbformat": 4,
 "nbformat_minor": 2
}