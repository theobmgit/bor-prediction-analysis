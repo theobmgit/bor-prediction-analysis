{
 "cells": [
  {
   "cell_type": "markdown",
   "metadata": {},
   "source": [
    "# Machine Learning\n",
    "\n",
    "In this part we will assess ML model"
   ]
  },
  {
   "cell_type": "code",
   "execution_count": null,
   "metadata": {},
   "outputs": [],
   "source": []
  },
  {
   "cell_type": "code",
   "execution_count": 8,
   "metadata": {},
   "outputs": [
    {
     "data": {
      "text/html": [
       "<div>\n",
       "<style scoped>\n",
       "    .dataframe tbody tr th:only-of-type {\n",
       "        vertical-align: middle;\n",
       "    }\n",
       "\n",
       "    .dataframe tbody tr th {\n",
       "        vertical-align: top;\n",
       "    }\n",
       "\n",
       "    .dataframe thead th {\n",
       "        text-align: right;\n",
       "    }\n",
       "</style>\n",
       "<table border=\"1\" class=\"dataframe\">\n",
       "  <thead>\n",
       "    <tr style=\"text-align: right;\">\n",
       "      <th></th>\n",
       "      <th>Movie_Title</th>\n",
       "      <th>Movie_ID</th>\n",
       "      <th>Budget</th>\n",
       "      <th>Cast</th>\n",
       "      <th>Crew</th>\n",
       "      <th>Studios</th>\n",
       "      <th>Genre</th>\n",
       "      <th>Keywords</th>\n",
       "      <th>Languages</th>\n",
       "      <th>Countries</th>\n",
       "      <th>Release_Data</th>\n",
       "      <th>Runtime</th>\n",
       "      <th>Gross_worldwide</th>\n",
       "      <th>Rating</th>\n",
       "      <th>Rating_Count</th>\n",
       "      <th>ListOfCertificate</th>\n",
       "      <th>Release_Year</th>\n",
       "      <th>Release_Month</th>\n",
       "      <th>Release_Day</th>\n",
       "    </tr>\n",
       "  </thead>\n",
       "  <tbody>\n",
       "    <tr>\n",
       "      <th>0</th>\n",
       "      <td>Star Wars: Episode VII - The Force Awakens</td>\n",
       "      <td>2488496</td>\n",
       "      <td>245000000</td>\n",
       "      <td>['Daisy Ridley', 'John Boyega', 'Oscar Isaac',...</td>\n",
       "      <td>Lawrence Kasdan,Michael Arndt,J.J. Abrams</td>\n",
       "      <td>['Lucasfilm', 'Bad Robot', 'Truenorth Producti...</td>\n",
       "      <td>['Action', 'Adventure', 'Sci-Fi']</td>\n",
       "      <td>['reboot', 'sanitation employee', 'remake', 'c...</td>\n",
       "      <td>['English']</td>\n",
       "      <td>['United States']</td>\n",
       "      <td>2015-12-18</td>\n",
       "      <td>138</td>\n",
       "      <td>2069521700</td>\n",
       "      <td>7.8</td>\n",
       "      <td>893000</td>\n",
       "      <td>['PG-13']</td>\n",
       "      <td>2015</td>\n",
       "      <td>12</td>\n",
       "      <td>18</td>\n",
       "    </tr>\n",
       "    <tr>\n",
       "      <th>1</th>\n",
       "      <td>Frozen II</td>\n",
       "      <td>4520988</td>\n",
       "      <td>150000000</td>\n",
       "      <td>['Kristen Bell', 'Idina Menzel', 'Josh Gad', '...</td>\n",
       "      <td>Jennifer Lee,Hans Christian Andersen,Chris Buck</td>\n",
       "      <td>['Walt Disney Animation Studios', 'Walt Disney...</td>\n",
       "      <td>['Animation', 'Adventure', 'Comedy', 'Family',...</td>\n",
       "      <td>['autumn', 'anthropomorphic snowman', 'princes...</td>\n",
       "      <td>['English']</td>\n",
       "      <td>['United States']</td>\n",
       "      <td>2019-11-22</td>\n",
       "      <td>103</td>\n",
       "      <td>1450026933</td>\n",
       "      <td>6.8</td>\n",
       "      <td>156000</td>\n",
       "      <td>['PG']</td>\n",
       "      <td>2019</td>\n",
       "      <td>11</td>\n",
       "      <td>22</td>\n",
       "    </tr>\n",
       "  </tbody>\n",
       "</table>\n",
       "</div>"
      ],
      "text/plain": [
       "                                  Movie_Title  Movie_ID     Budget  \\\n",
       "0  Star Wars: Episode VII - The Force Awakens   2488496  245000000   \n",
       "1                                   Frozen II   4520988  150000000   \n",
       "\n",
       "                                                Cast  \\\n",
       "0  ['Daisy Ridley', 'John Boyega', 'Oscar Isaac',...   \n",
       "1  ['Kristen Bell', 'Idina Menzel', 'Josh Gad', '...   \n",
       "\n",
       "                                              Crew  \\\n",
       "0        Lawrence Kasdan,Michael Arndt,J.J. Abrams   \n",
       "1  Jennifer Lee,Hans Christian Andersen,Chris Buck   \n",
       "\n",
       "                                             Studios  \\\n",
       "0  ['Lucasfilm', 'Bad Robot', 'Truenorth Producti...   \n",
       "1  ['Walt Disney Animation Studios', 'Walt Disney...   \n",
       "\n",
       "                                               Genre  \\\n",
       "0                  ['Action', 'Adventure', 'Sci-Fi']   \n",
       "1  ['Animation', 'Adventure', 'Comedy', 'Family',...   \n",
       "\n",
       "                                            Keywords    Languages  \\\n",
       "0  ['reboot', 'sanitation employee', 'remake', 'c...  ['English']   \n",
       "1  ['autumn', 'anthropomorphic snowman', 'princes...  ['English']   \n",
       "\n",
       "           Countries Release_Data  Runtime  Gross_worldwide  Rating  \\\n",
       "0  ['United States']   2015-12-18      138       2069521700     7.8   \n",
       "1  ['United States']   2019-11-22      103       1450026933     6.8   \n",
       "\n",
       "   Rating_Count ListOfCertificate  Release_Year  Release_Month  Release_Day  \n",
       "0        893000         ['PG-13']          2015             12           18  \n",
       "1        156000            ['PG']          2019             11           22  "
      ]
     },
     "execution_count": 8,
     "metadata": {},
     "output_type": "execute_result"
    }
   ],
   "source": [
    "import pandas as pd\n",
    "import numpy as np\n",
    "import seaborn as sns\n",
    "import matplotlib.pyplot as plt\n",
    "import warnings\n",
    "warnings.filterwarnings('ignore')\n",
    "sns.set_theme(style=\"whitegrid\")\n",
    "data=pd.read_csv('../dataset/processed/cleanedData.csv')\n",
    "data.head(2)"
   ]
  },
  {
   "cell_type": "markdown",
   "metadata": {},
   "source": [
    "Load list fields"
   ]
  },
  {
   "cell_type": "code",
   "execution_count": 9,
   "metadata": {},
   "outputs": [],
   "source": [
    "import ast\n",
    "cols =['Cast', 'Genre', 'Studios', 'ListOfCertificate','Keywords', 'Languages', 'Countries']\n",
    "for col in cols:\n",
    "    data[col]=data[col].apply(ast.literal_eval)"
   ]
  },
  {
   "cell_type": "markdown",
   "metadata": {},
   "source": [
    "## Linear Regression with only NUMBER attributes"
   ]
  },
  {
   "cell_type": "code",
   "execution_count": 3,
   "metadata": {},
   "outputs": [],
   "source": [
    "import numpy as np\n",
    "from sklearn import linear_model\n",
    "from sklearn.model_selection import train_test_split\n",
    "from sklearn.metrics import mean_squared_error, mean_absolute_error\n",
    "from sklearn.preprocessing import MinMaxScaler\n",
    "from sklearn.preprocessing import StandardScaler\n"
   ]
  },
  {
   "cell_type": "markdown",
   "metadata": {},
   "source": [
    "First we will use only the fields that contain NUMBER with higher correlation(Ignore all field with STRING, LIST )\n",
    "\n",
    "To see how the model performs"
   ]
  },
  {
   "cell_type": "markdown",
   "metadata": {},
   "source": [
    "### With only Budget, Runtime and Release_Year"
   ]
  },
  {
   "cell_type": "code",
   "execution_count": 5,
   "metadata": {},
   "outputs": [
    {
     "name": "stdout",
     "output_type": "stream",
     "text": [
      "Average test score: 0.54\n",
      "MAE:  67629525.57754299\n",
      "RMAE:  123882387.82051133\n"
     ]
    }
   ],
   "source": [
    "testScore=0\n",
    "mae_val=0\n",
    "rmae=0\n",
    "for i in range(500):\n",
    "    lin=linear_model.LinearRegression()\n",
    "    train, test = train_test_split(data,test_size=0.3)\n",
    "    feature=['Budget','Runtime','Release_Year']\n",
    "    target=['Gross_worldwide']\n",
    "    x_train = train[feature]\n",
    "    y_train = train[target]\n",
    "    x_test = test[feature]\n",
    "    y_test = test[target]\n",
    "    lin.fit(x_train,y_train)\n",
    "    y_predicted= lin.predict(x_test)\n",
    "    testScore+=lin.score(x_test,y_test)\n",
    "    mae_val+=mean_absolute_error(y_test,y_predicted)\n",
    "    rmae+=np.sqrt(mean_squared_error(y_test,y_predicted))\n",
    "else:\n",
    "    testScore/=500\n",
    "    mae_val/=500\n",
    "    rmae/=500\n",
    "print(\"Average test score: %.2f\" %testScore) \n",
    "print(\"MAE: \",mae_val)\n",
    "print(\"RMAE: \",rmae)"
   ]
  },
  {
   "cell_type": "markdown",
   "metadata": {},
   "source": [
    "### With **Rating** and **Rating_Count**"
   ]
  },
  {
   "cell_type": "code",
   "execution_count": 100,
   "metadata": {},
   "outputs": [
    {
     "name": "stdout",
     "output_type": "stream",
     "text": [
      "Average test score: 0.66\n",
      "MAE:  58079935.36079664\n",
      "RMAE:  108932653.37124848\n"
     ]
    }
   ],
   "source": [
    "testScore=0\n",
    "mae_val=0\n",
    "rmae=0\n",
    "for i in range(500):\n",
    "    lin=linear_model.LinearRegression()\n",
    "    train, test = train_test_split(data,test_size=0.3)\n",
    "    feature=['Budget','Runtime','Release_Year','Rating','Rating_Count']\n",
    "    target=['Gross_worldwide']\n",
    "    x_train = train[feature]\n",
    "    y_train = train[target]\n",
    "    x_test = test[feature]\n",
    "    y_test = test[target]\n",
    "    lin.fit(x_train,y_train)\n",
    "    y_predicted= lin.predict(x_test)\n",
    "    testScore+=lin.score(x_test,y_test)\n",
    "    mae_val+=mean_absolute_error(y_test,y_predicted)\n",
    "    rmae+=np.sqrt(mean_squared_error(y_test,y_predicted))\n",
    "else:\n",
    "    testScore/=500\n",
    "    mae_val/=500\n",
    "    rmae/=500\n",
    "print(\"Average test score: %.2f\" %testScore) \n",
    "print(\"MAE: \",mae_val)\n",
    "print(\"RMAE: \",rmae)"
   ]
  },
  {
   "cell_type": "markdown",
   "metadata": {},
   "source": [
    "MAE and RMAE decrease"
   ]
  },
  {
   "cell_type": "markdown",
   "metadata": {},
   "source": [
    "### With Normalization"
   ]
  },
  {
   "cell_type": "code",
   "execution_count": 130,
   "metadata": {},
   "outputs": [
    {
     "name": "stdout",
     "output_type": "stream",
     "text": [
      "Average test score: 0.65\n",
      "MAE:  58173231.38394031\n",
      "RMAE:  108796930.37995012\n"
     ]
    }
   ],
   "source": [
    "testScore=0\n",
    "mae_val=0\n",
    "rmae=0\n",
    "for i in range(500):\n",
    "    lin=linear_model.LinearRegression()\n",
    "    train, test = train_test_split(data,test_size=0.3)\n",
    "    feature=['Budget','Runtime','Release_Year','Rating','Rating_Count']\n",
    "    target=['Gross_worldwide']\n",
    "    x_train = train[feature]\n",
    "    y_train = train[target]\n",
    "    x_test = test[feature]\n",
    "    y_test = test[target]\n",
    "    scale = MinMaxScaler().fit(x_train)\n",
    "    x_train = scale.transform(x_train)\n",
    "    x_test = scale.transform(x_test)\n",
    "    lin.fit(x_train,y_train)\n",
    "    y_predicted= lin.predict(x_test)\n",
    "    testScore+=lin.score(x_test,y_test)\n",
    "    mae_val+=mean_absolute_error(y_test,y_predicted)\n",
    "    rmae+=np.sqrt(mean_squared_error(y_test,y_predicted))\n",
    "else:\n",
    "    testScore/=500\n",
    "    mae_val/=500\n",
    "    rmae/=500\n",
    "print(\"Average test score: %.2f\" %testScore) \n",
    "print(\"MAE: \",mae_val)\n",
    "print(\"RMAE: \",rmae)"
   ]
  },
  {
   "cell_type": "markdown",
   "metadata": {},
   "source": [
    "We can see that Normalization does not affect the result.\n",
    "\n",
    "In some situations it may reduce the weight of calculation"
   ]
  },
  {
   "cell_type": "markdown",
   "metadata": {},
   "source": [
    "### With Standardization"
   ]
  },
  {
   "cell_type": "code",
   "execution_count": 133,
   "metadata": {},
   "outputs": [
    {
     "name": "stdout",
     "output_type": "stream",
     "text": [
      "Average test score: 0.66\n",
      "MAE:  58183206.27748618\n",
      "RMAE:  108575666.12740506\n"
     ]
    }
   ],
   "source": [
    "testScore=0\n",
    "mae_val=0\n",
    "rmae=0\n",
    "for i in range(500):\n",
    "    lin=linear_model.LinearRegression()\n",
    "    train, test = train_test_split(data,test_size=0.3)\n",
    "    feature=['Budget','Runtime','Release_Year','Rating','Rating_Count']\n",
    "    target=['Gross_worldwide']\n",
    "    x_train = train[feature]\n",
    "    y_train = train[target]\n",
    "    x_test = test[feature]\n",
    "    y_test = test[target]\n",
    "    scale2=StandardScaler().fit(x_train)\n",
    "    x_train = scale2.transform(x_train)\n",
    "    x_test = scale2.transform(x_test)\n",
    "    lin.fit(x_train,y_train)\n",
    "    y_predicted= lin.predict(x_test)\n",
    "    testScore+=lin.score(x_test,y_test)\n",
    "    mae_val+=mean_absolute_error(y_test,y_predicted)\n",
    "    rmae+=np.sqrt(mean_squared_error(y_test,y_predicted))\n",
    "else:\n",
    "    testScore/=500\n",
    "    mae_val/=500\n",
    "    rmae/=500\n",
    "print(\"Average test score: %.2f\" %testScore) \n",
    "print(\"MAE: \",mae_val)\n",
    "print(\"RMAE: \",rmae)"
   ]
  },
  {
   "cell_type": "markdown",
   "metadata": {},
   "source": [
    "We can see that Standardization also does not affect the result."
   ]
  },
  {
   "cell_type": "markdown",
   "metadata": {},
   "source": [
    "## Linear Regression with Feature Extraction"
   ]
  },
  {
   "cell_type": "markdown",
   "metadata": {},
   "source": [
    "Cast Genre Studios ListOfCertificate Keywords Languages Countries\n",
    " \n",
    "Those fields we need to apply feature extraction\n"
   ]
  },
  {
   "cell_type": "markdown",
   "metadata": {},
   "source": [
    "### One hot coding\n"
   ]
  },
  {
   "cell_type": "code",
   "execution_count": 12,
   "metadata": {},
   "outputs": [],
   "source": [
    "def oneHotCoding(dataframe,column,top=10,devide=False,getby='Average'):\n",
    "    newdata=dataframe.copy()\n",
    "    result = []\n",
    "    count = []\n",
    "    gross = []\n",
    "    for i,record in enumerate(newdata[column]):\n",
    "      for x in record:\n",
    "          result.append(x)\n",
    "          if devide:\n",
    "            gross.append(newdata['Gross_worldwide'][i]/len(record))\n",
    "          else:\n",
    "            gross.append(newdata['Gross_worldwide'][i])\n",
    "          count.append(1)\n",
    "    t = pd.DataFrame({column:result, 'Money':gross, 'Count':count})\n",
    "    result = t.groupby(column).sum()\n",
    "    result=result.reset_index()\n",
    "    result=result.assign(Average=result['Money']/result['Count'])\n",
    "    result=result.sort_values(by=getby,ascending=False)\n",
    "    types=set(result[column][0:top])\n",
    "    for word in types:\n",
    "        newdata[word]=0\n",
    "    for i, row in enumerate(newdata[column]):\n",
    "        for part in row:\n",
    "            if part in types:\n",
    "                newdata.loc[i,part]=1\n",
    "    newdata.drop(column,axis=1,inplace=True)\n",
    "    return newdata"
   ]
  },
  {
   "cell_type": "markdown",
   "metadata": {},
   "source": [
    "### Dummies multivalued attributes"
   ]
  },
  {
   "cell_type": "code",
   "execution_count": 50,
   "metadata": {},
   "outputs": [
    {
     "data": {
      "text/html": [
       "<div>\n",
       "<style scoped>\n",
       "    .dataframe tbody tr th:only-of-type {\n",
       "        vertical-align: middle;\n",
       "    }\n",
       "\n",
       "    .dataframe tbody tr th {\n",
       "        vertical-align: top;\n",
       "    }\n",
       "\n",
       "    .dataframe thead th {\n",
       "        text-align: right;\n",
       "    }\n",
       "</style>\n",
       "<table border=\"1\" class=\"dataframe\">\n",
       "  <thead>\n",
       "    <tr style=\"text-align: right;\">\n",
       "      <th></th>\n",
       "      <th>Budget</th>\n",
       "      <th>Runtime</th>\n",
       "      <th>Gross_worldwide</th>\n",
       "      <th>Rating</th>\n",
       "      <th>Rating_Count</th>\n",
       "      <th>Release_Year</th>\n",
       "      <th>Release_Month</th>\n",
       "      <th>Mystery</th>\n",
       "      <th>Sport</th>\n",
       "      <th>Western</th>\n",
       "      <th>...</th>\n",
       "      <th>Australia</th>\n",
       "      <th>Hong Kong</th>\n",
       "      <th>China</th>\n",
       "      <th>Norway</th>\n",
       "      <th>Austria</th>\n",
       "      <th>Malta</th>\n",
       "      <th>Slovenia</th>\n",
       "      <th>Jordan</th>\n",
       "      <th>Antarctica</th>\n",
       "      <th>Fiji</th>\n",
       "    </tr>\n",
       "  </thead>\n",
       "  <tbody>\n",
       "    <tr>\n",
       "      <th>0</th>\n",
       "      <td>245000000</td>\n",
       "      <td>138</td>\n",
       "      <td>2069521700</td>\n",
       "      <td>7.8</td>\n",
       "      <td>893000</td>\n",
       "      <td>2015</td>\n",
       "      <td>12</td>\n",
       "      <td>0</td>\n",
       "      <td>0</td>\n",
       "      <td>0</td>\n",
       "      <td>...</td>\n",
       "      <td>0</td>\n",
       "      <td>0</td>\n",
       "      <td>0</td>\n",
       "      <td>0</td>\n",
       "      <td>0</td>\n",
       "      <td>0</td>\n",
       "      <td>0</td>\n",
       "      <td>0</td>\n",
       "      <td>0</td>\n",
       "      <td>0</td>\n",
       "    </tr>\n",
       "  </tbody>\n",
       "</table>\n",
       "<p>1 rows × 152 columns</p>\n",
       "</div>"
      ],
      "text/plain": [
       "      Budget  Runtime  Gross_worldwide  Rating  Rating_Count  Release_Year  \\\n",
       "0  245000000      138       2069521700     7.8        893000          2015   \n",
       "\n",
       "   Release_Month  Mystery  Sport  Western  ...  Australia  Hong Kong  China  \\\n",
       "0             12        0      0        0  ...          0          0      0   \n",
       "\n",
       "   Norway  Austria  Malta  Slovenia  Jordan  Antarctica  Fiji  \n",
       "0       0        0      0         0       0           0     0  \n",
       "\n",
       "[1 rows x 152 columns]"
      ]
     },
     "execution_count": 50,
     "metadata": {},
     "output_type": "execute_result"
    }
   ],
   "source": [
    "data2=data.copy()\n",
    "data2=oneHotCoding(data2,'Genre',top=20,devide=False,getby='Average')\n",
    "data2=oneHotCoding(data2,'Cast',top=20,devide=False,getby='Money')\n",
    "data2=oneHotCoding(data2,'Studios',top=20,devide=True,getby='Money')\n",
    "data2=oneHotCoding(data2,'ListOfCertificate',top=20,devide=False,getby='Average')\n",
    "data2=oneHotCoding(data2,'Keywords',top=30,devide=False,getby='Average')\n",
    "data2=oneHotCoding(data2,'Languages',top=30,devide=False,getby='Average')\n",
    "data2=oneHotCoding(data2,'Countries',top=20,devide=False,getby='Average')\n",
    "data2=data2.drop(['Movie_Title','Movie_ID','Crew','Release_Data','Release_Day'],axis=1)\n",
    "data2.head(1)"
   ]
  },
  {
   "cell_type": "markdown",
   "metadata": {},
   "source": [
    "Now we will one hot month"
   ]
  },
  {
   "cell_type": "code",
   "execution_count": 52,
   "metadata": {},
   "outputs": [],
   "source": [
    "def dummiesSpecialDay(month):\n",
    "    specialMonth = [5,6,7,11,12]\n",
    "    if month in specialMonth:\n",
    "        return 1\n",
    "    else:\n",
    "        return 0\n",
    "##Dummies special day\n",
    "data2['Release_Month']=data2['Release_Month'].apply(dummiesSpecialDay)"
   ]
  },
  {
   "cell_type": "markdown",
   "metadata": {},
   "source": [
    "Now we will put into model"
   ]
  },
  {
   "cell_type": "code",
   "execution_count": 99,
   "metadata": {},
   "outputs": [
    {
     "name": "stdout",
     "output_type": "stream",
     "text": [
      "Average test score: 0.67\n",
      "MAE:  56041541.23874907\n",
      "RMAE:  107404934.61181961\n"
     ]
    }
   ],
   "source": [
    "testScore=0\n",
    "mae_val=0\n",
    "rmae=0\n",
    "loop=100\n",
    "for i in range(loop):\n",
    "    lin=linear_model.LinearRegression()\n",
    "    train, test = train_test_split(data2,test_size=0.3)\n",
    "    x_train = train.drop('Gross_worldwide',axis=1)\n",
    "    y_train = train['Gross_worldwide']\n",
    "    x_test = test.drop('Gross_worldwide',axis=1)\n",
    "    y_test = test['Gross_worldwide']\n",
    "    lin.fit(x_train,y_train)\n",
    "    y_predicted= lin.predict(x_test)\n",
    "    testScore+=lin.score(x_test,y_test)\n",
    "    mae_val+=mean_absolute_error(y_test,y_predicted)\n",
    "    rmae+=np.sqrt(mean_squared_error(y_test,y_predicted))\n",
    "else:\n",
    "    testScore/=loop\n",
    "    mae_val/=loop\n",
    "    rmae/=loop\n",
    "print(\"Average test score: %.2f\" %testScore) \n",
    "print(\"MAE: \",mae_val)\n",
    "print(\"RMAE: \",rmae)"
   ]
  },
  {
   "cell_type": "markdown",
   "metadata": {},
   "source": [
    "MAE of test set reduce a little bit"
   ]
  },
  {
   "cell_type": "markdown",
   "metadata": {},
   "source": [
    "## Lasso Regression"
   ]
  },
  {
   "cell_type": "markdown",
   "metadata": {},
   "source": [
    "We will test with alpha = [0.1, 1, 10, 100, 1000]"
   ]
  },
  {
   "cell_type": "code",
   "execution_count": 109,
   "metadata": {},
   "outputs": [
    {
     "data": {
      "image/png": "[encoded data removed]",
      "text/plain": [
       "<Figure size 432x288 with 1 Axes>"
      ]
     },
     "metadata": {},
     "output_type": "display_data"
    },
    {
     "data": {
      "image/png": "[encoded data removed]",
      "text/plain": [
       "<Figure size 432x288 with 1 Axes>"
      ]
     },
     "metadata": {},
     "output_type": "display_data"
    }
   ],
   "source": [
    "alphas = [0.1, 10, 10, 100, 1000, 10000, 15000, 20000, 25000, 30000]\n",
    "resultMAE_train=[]\n",
    "resultMAE_test= []\n",
    "train, test = train_test_split(data2,test_size=0.3)\n",
    "x_train = train.drop('Gross_worldwide',axis=1)\n",
    "y_train = train['Gross_worldwide']\n",
    "x_test = test.drop('Gross_worldwide',axis=1)\n",
    "y_test = test['Gross_worldwide']\n",
    "\n",
    "for alpha in alphas:\n",
    "    lasso=linear_model.Lasso(alpha=alpha)\n",
    "    lasso.fit(x_train,y_train)\n",
    "    y_predicted= lasso.predict(x_test)\n",
    "    y_train_predicted=lasso.predict(x_train)\n",
    "    resultMAE_train.append(mean_absolute_error(y_train,y_train_predicted))\n",
    "    resultMAE_test.append(mean_absolute_error(y_test,y_predicted))\n",
    "plt.plot(alphas,resultMAE_test,label='Test',drawstyle=\"steps-post\")\n",
    "plt.legend()\n",
    "plt.show()\n",
    "plt.plot(alphas,resultMAE_train,label='Train',drawstyle=\"steps-post\")\n",
    "plt.legend()\n",
    "plt.show()\n"
   ]
  },
  {
   "cell_type": "markdown",
   "metadata": {},
   "source": [
    "We choose alpha = 30000"
   ]
  },
  {
   "cell_type": "code",
   "execution_count": 111,
   "metadata": {},
   "outputs": [],
   "source": [
    "testScore=0\n",
    "mae_val=0\n",
    "rmae=0\n",
    "loop=100\n",
    "for i in range(loop):\n",
    "    lin=linear_model.Lasso(alpha=10000)\n",
    "    train, test = train_test_split(data2,test_size=0.3)\n",
    "    x_train = train.drop('Gross_worldwide',axis=1)\n",
    "    y_train = train['Gross_worldwide']\n",
    "    x_test = test.drop('Gross_worldwide',axis=1)\n",
    "    y_test = test['Gross_worldwide']\n",
    "    lin.fit(x_train,y_train)\n",
    "    y_predicted= lin.predict(x_test)\n",
    "    testScore+=lin.score(x_test,y_test)\n",
    "    mae_val+=mean_absolute_error(y_test,y_predicted)\n",
    "    rmae+=np.sqrt(mean_squared_error(y_test,y_predicted))\n",
    "else:\n",
    "    testScore/=loop\n",
    "    mae_val/=loop\n",
    "    rmae/=loop\n",
    "print(\"Average test score: %.2f\" %testScore) \n",
    "print(\"MAE: \",mae_val)\n",
    "print(\"RMAE: \",rmae)"
   ]
  }
 ],
 "metadata": {
  "interpreter": {
   "hash": "183bbf6827d058c2a2fb0f4acdc0420849dda2b4380af0e437e38c64d798d8b7"
  },
  "kernelspec": {
   "display_name": "Python 3.8.8 64-bit ('base': conda)",
   "language": "python",
   "name": "python3"
  },
  "language_info": {
   "codemirror_mode": {
    "name": "ipython",
    "version": 3
   },
   "file_extension": ".py",
   "mimetype": "text/x-python",
   "name": "python",
   "nbconvert_exporter": "python",
   "pygments_lexer": "ipython3",
   "version": "3.8.8"
  },
  "orig_nbformat": 4
 },
 "nbformat": 4,
 "nbformat_minor": 2
}
